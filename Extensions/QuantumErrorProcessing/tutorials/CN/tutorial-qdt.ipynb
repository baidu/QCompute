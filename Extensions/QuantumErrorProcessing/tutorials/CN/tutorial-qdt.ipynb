{
 "cells": [
  {
   "cell_type": "markdown",
   "metadata": {},
   "source": [
    "# 量子探测器层析\n",
    "\n",
    "*版权所有 (c) 2022 百度量子计算研究所，保留所有权利。*\n",
    "\n",
    "## 内容概要\n",
    "\n",
    "在迈向大规模量子计算的道路上，一个核心挑战就是量子测量的保真度。那么用来评估量子测量的保真度的方法就显得十分重要。量子探测器层析（Quantum Detector Tomography，QDT）就是一种可以用来精确刻画量子测量具体表达形式的方法。本教程将介绍量子探测器层析的理论及其在[百度量子平台](https://quantum.baidu.com/)上的实践。"
   ]
  },
  {
   "cell_type": "markdown",
   "metadata": {
    "pycharm": {
     "is_executing": true
    }
   },
   "source": [
    "## 理论\n",
    "量子探测器层析的基本原理就是测量一组精确已知的量子态，由测量结果来重构测量算符的具体表达形式。"
   ]
  },
  {
   "cell_type": "markdown",
   "metadata": {},
   "source": [
    "### 测量探测器方法\n",
    "测量可以用一组 POVM $\\left\\{E_{m}\\right\\}_{m=1}^{M}$ 来描述，这里 $M=d^2$，$d = 2^n$，$n$ 表示量子比特数。选择一组量子态 $\\left\\{\\rho_{n}\\right\\}_{n=1}^{N}$，这里的 $N\\geq d^2$，这组量子态张成一个 Hilbert-Schmidt 空间。然后，我们对量子态进行测量，得到 $MN$ 个测量结果\n",
    "\n",
    "$$\n",
    "\\begin{align}\n",
    "\\forall n \\in \\left[N\\right], \\;\\forall m \\in \\left[M\\right],\\; p_{mn}:=\\langle\\langle E_m \\vert \\rho_n \\rangle\\rangle = \\textrm{Tr}\\left[E_m\\rho_n\\right].\n",
    "\\end{align}\n",
    "$$\n",
    "\n",
    "$p_{mn}$ 表示了 $\\rho_n$ 的测量结果为 $m$ 的概率，是实验上可以获得的值。\n",
    "\n",
    "在上式中插入完备的 Pauli 基，则有\n",
    "\n",
    "$$\n",
    "\\begin{align}\n",
    "p_{mn}=\\langle\\langle E_m \\vert \\rho_n \\rangle\\rangle = \\sum_{k=1}^{d^2}\\langle\\langle E_m\\vert k\\rangle\\rangle\\langle\\langle k\\vert \\rho_n\\rangle\\rangle.\n",
    "\\end{align}\n",
    "$$\n",
    "\n",
    "$p_{mn}$ 在实验上可以通过如下方法获取：统计输入态为 $\\rho_n$，输出结果为 $m$ 的频率，记为 $f_{mn}$，则通过大数定理，我们可以有 $p_{mn} = f_{mn}/F_{\\rm shots}$。$f_{mn}$ 满足归一化条件\n",
    "\n",
    "$$\n",
    "\\begin{align}\n",
    "\\forall n \\in \\left[N\\right], \\sum_{m=1}^M f_{mn} = F_{\\rm shots}.\n",
    "\\end{align}\n",
    "$$\n",
    "\n",
    "由于 $\\left\\{\\rho_{n}\\right\\}_{n=1}^{N}$ 是在实验前就选取好了的，所以我们可以定义一个矩阵 $\\mathfrak{P}$，它的表达式为\n",
    "\n",
    "$$\n",
    "\\begin{align}\n",
    "  \\mathfrak{P} = \\begin{bmatrix}\n",
    "    \\langle\\langle \\rho_1 | 1 \\rangle\\rangle\n",
    "    & \\langle\\langle \\rho_1 |  2 \\rangle\\rangle & \\cdots\n",
    "    & \\langle\\langle \\rho_1 | d^2 \\rangle\\rangle \\\\\n",
    "    \\langle\\langle \\rho_2 | 1 \\rangle\\rangle\n",
    "    & \\langle\\langle \\rho_2 | 2 \\rangle\\rangle & \\cdots\n",
    "    & \\langle\\langle \\rho_2 | d^2 \\rangle\\rangle \\\\\n",
    "    \\vdots & \\vdots & \\ddots & \\vdots \\\\\n",
    "    \\langle\\langle \\rho_N | 1 \\rangle\\rangle\n",
    "    & \\langle\\langle \\rho_N | 2 \\rangle\\rangle & \\cdots\n",
    "    & \\langle\\langle \\rho_N | d^2 \\rangle\\rangle\n",
    "  \\end{bmatrix}.\n",
    "\\end{align}\n",
    "$$\n",
    "\n",
    "类似地，我们也可以同样将未知的 POVM 定义为矩阵 $\\mathfrak{M}$，它的表达式为\n",
    "\n",
    "$$\n",
    "\\begin{align}\n",
    "  \\mathfrak{M} = \\begin{bmatrix}\n",
    "    \\langle\\langle E_1 | 1 \\rangle\\rangle\n",
    "    & \\langle\\langle E_1 |  2 \\rangle\\rangle & \\cdots\n",
    "    & \\langle\\langle E_1 | d^2 \\rangle\\rangle \\\\\n",
    "    \\langle\\langle E_2 | 1 \\rangle\\rangle\n",
    "    & \\langle\\langle E_2 | 2 \\rangle\\rangle & \\cdots\n",
    "    & \\langle\\langle E_2 | d^2 \\rangle\\rangle \\\\\n",
    "    \\vdots & \\vdots & \\ddots & \\vdots \\\\\n",
    "    \\langle\\langle E_M | 1 \\rangle\\rangle\n",
    "    & \\langle\\langle E_M | 2 \\rangle\\rangle & \\cdots\n",
    "    & \\langle\\langle E_M | d^2 \\rangle\\rangle\n",
    "  \\end{bmatrix}.\n",
    "\\end{align}\n",
    "$$\n",
    "\n",
    "QDT 要做的就是求出 $\\mathfrak{M}$ 的每一个元素。\n",
    "\n",
    "我们实验上得到的概率也可以写作矩阵的形式\n",
    "\n",
    "$$\n",
    "\\begin{align}\n",
    "  P = \\begin{bmatrix}\n",
    "    p_{11}\n",
    "    & p_{12} & \\cdots\n",
    "    & p_{1N} \\\\\n",
    "    p_{21}\n",
    "    & p_{22} & \\cdots\n",
    "    & p_{2N} \\\\\n",
    "    \\vdots & \\vdots & \\ddots & \\vdots \\\\\n",
    "    p_{M1}\n",
    "    & p_{M2} & \\cdots\n",
    "    & p_{MN}\n",
    "  \\end{bmatrix}.\n",
    "\\end{align}\n",
    "$$\n",
    "\n",
    "于是我们可以将问题建模成更简洁的矩阵形式\n",
    "\n",
    "$$\n",
    "\\begin{align}\n",
    "P = \\mathfrak{M}\\mathfrak{P}^\\mathrm{T}.\n",
    "\\end{align}\n",
    "$$\n",
    "\n",
    "这是一个线性回归模型，已知 $P$ 和 $\\mathfrak{P}$，求解 $\\mathfrak{M}$。我们可以采取多种方法进行处理。\n",
    "\n",
    "#### 求逆法\n",
    "\n",
    "最直接的方法就是求逆法，如果选取的量子态 $\\left\\{\\rho_n\\right\\}_n$ 可以使得 $\\mathfrak{P}$ 可逆（此时 $N=d^2$），那么可以得到\n",
    "\n",
    "$$\n",
    "\\begin{align}\n",
    "\\mathfrak{M} = P\\left(\\mathfrak{P}^\\mathrm{T}\\right)^{-1}.\n",
    "\\end{align}\n",
    "$$\n",
    "\n",
    "#### 最小二乘法\n",
    "\n",
    "求逆法在 $N\\geq d^2$ 的时候会失效，因为此时 $\\mathfrak{P}$ 的行数比列数要多，不能求逆。为了解决这个问题，可以采用最小二乘法的方法\n",
    "\n",
    "$$\n",
    "\\begin{align}\n",
    "\\mathfrak{M}^\\ast := \\operatorname*{argmin}_{\\mathfrak{M}} \\left\\|{P-\\mathfrak{M}\\mathfrak{P}^\\mathrm{T}}\\right\\|_2^2.\n",
    "\\end{align}\n",
    "$$\n",
    "\n",
    "这里的 $\\left\\|\\cdot\\right\\|_2$ 是 Euclidean 范数。事实上，考虑到 $\\mathfrak{P}$ 和 $P$ 的每一列都是线性独立的，上式存在解析解\n",
    "\n",
    "$$\n",
    "\\begin{align}\n",
    "&\\quad    \\mathfrak{M}\\mathfrak{P}^T = P \\\\\n",
    "\\Rightarrow&\\quad \\mathfrak{M}\\left(\\mathfrak{P}^T\\mathfrak{P}^*\\right) = P\\mathfrak{P}^* \\\\\n",
    "\\Rightarrow&\\quad \\mathfrak{M} = P\\mathfrak{P}^* \\left(\\mathfrak{P}^T\\mathfrak{P}^*\\right)^{-1}.\n",
    "\\end{align}\n",
    "$$\n",
    "\n",
    "这里 $\\mathfrak{P}^\\ast$ 表示 $\\mathfrak{P}$ 的复共轭，$\\mathfrak{P}\\mathfrak{P}^\\dagger$ 是 Gram 矩阵并总是可逆的。\n",
    "\n",
    "#### 最大似然估计\n",
    "\n",
    "不管是求逆法还是最小二乘法，都存在一个严重问题，那就是求出来的 POVM 不一定满足半正定的要求。因此，可以使用最大似然估计的方法来避免这个问题。\n",
    "\n",
    "似然函数被定义为\n",
    "\n",
    "$$\n",
    "\\begin{align}\n",
    "    \\log\\mathcal{L} := \\sum_m\\sum_n f_{mn}\\log\\textrm{Tr}\\left[E_m\\rho_n\\right].\n",
    "\\end{align}\n",
    "$$\n",
    "\n",
    "下标 $n$ 表示一组信息完备的探测态。通过 Lagrange 乘子引入约束条件 $\\sum_{m} E_m = I$。在这个最大似然估计问题里，$\\left\\{E_m\\right\\}$ 就是要被估计的参数，每一个事件 $\\left(m, n\\right)$，输入态 $\\rho_n$ 和观测到的输出 $m$ 对应一个独立似然函数\n",
    "\n",
    "$$\n",
    "\\begin{align}\n",
    "    \\mathcal{L}\\left(\\left\\{E_m\\right\\}\\vert \\left(m,n\\right)\\right) = P\\left(\\left(m,n\\right)\\vert\\left\\{E_m\\right\\}\\right) = \\textrm{Tr}\\left[E_m\\rho_n\\right].\n",
    "\\end{align}\n",
    "$$\n",
    "\n",
    "总共有 $F_{\\rm shots}\\times N$ 个事件，记为 $\\left\\{\\left(m_k,n_k\\right)\\right\\}_{k=1}^{F_{\\rm shots}\\times N}$，对应的全局似然函数写作\n",
    "\n",
    "$$\n",
    "\\begin{align}\n",
    "  \\mathcal{L}\\left(\\left\\{E_m\\right\\}\\vert\\left\\{\\left(m_k,n_k\\right)\\right\\}\\right)\n",
    "= \\prod_{\\left(m_k,n_k\\right)}\\mathcal{L}\\left(\\left\\{E_m\\right\\}\\vert \\left(m_k,n_k\\right)\\right)\n",
    "= \\prod_{m,n}\\textrm{Tr}\\left[E_m\\rho_n\\right]^{f_{mn}}.\n",
    "\\end{align}\n",
    "$$\n",
    "\n",
    "令上式最大化可以得到\n",
    "\n",
    "$$\n",
    "\\begin{align}\n",
    "    E_m = R_n E_m R_n^\\dagger,\n",
    "\\end{align}\n",
    "$$\n",
    "\n",
    "其中\n",
    "\n",
    "$$\n",
    "\\begin{align}\n",
    "  R_m\n",
    "= \\left(\\sum_{m'}\\sum_{n,n'}\\frac{f_{m'n}f_{m'n'}}{\\hat{p}_{m'n}\\hat{p}_{m'n'}}\\rho_nE_{m'}\\rho_{n'}\\right)^{-\\frac{1}{2}}\n",
    "\t\\left(\\sum_n\\frac{f_{mn}}{\\hat{p}_{mn}}\\rho_n\\right),\n",
    "\\end{align}\n",
    "$$\n",
    "\n",
    "$\\hat{p}_{mn} = \\textrm{Tr}\\left[E_m\\rho_n\\right]$ 是输入态 $\\rho_n$ 得到测量结果 $m$ 的理论值。第一个公式给出了估计 POVM 的迭代过程，每一次迭代先根据公式更新 $E_m$，然后根据式子第二个公式计算下一次迭代用到的 $R_m$。终止条件可以设置为\n",
    "\n",
    "$$\n",
    "\\begin{align}\n",
    "    \\max_{m} \\left\\|{E_m^{\\left(k\\right)} - E_m^{\\left(k+1\\right)}}\\right\\|_2 \\leq \\varepsilon,\n",
    "\\end{align}\n",
    "$$\n",
    "\n",
    "其中，上标表示第 $k$ 和 $k+1$ 次迭代。只要初始条件 $\\left\\{E_{m}^{\\left(0\\right)}\\right\\}$ 满足半正定和归一化条件，那么迭代计算出来的 POVM 也满足半正定性质和归一化条件。我们选择 $\\left\\{E_{m}^{\\left(0\\right)}\\right\\} = \\frac{I}{d}$。值得指出的是 $\\varepsilon$ 应该足够小以便该截止引入的数值误差小于统计波动引起的估计参数的不确定性。\n",
    "\n",
    "最后我们来回顾一下整个流程：\n",
    " \n",
    "![QPT](./figures/qdt-chart.png \"图1：QDT 流程图\")"
   ]
  },
  {
   "cell_type": "markdown",
   "metadata": {},
   "source": [
    "## 实践\n",
    "\n",
    "下面我们将演示如何对一个测量设备进行层析。\n",
    "\n",
    "首先，我们导入一些必要的包。"
   ]
  },
  {
   "cell_type": "code",
   "execution_count": null,
   "metadata": {},
   "outputs": [],
   "source": [
    "from Extensions.QuantumErrorProcessing.qcompute_qep.tomography.detector_tomography import DetectorTomography, visualization\n",
    "from QCompute import *"
   ]
  },
  {
   "cell_type": "markdown",
   "metadata": {},
   "source": [
    "探测器层析是对测量设备进行精确刻画的方法，所以我们首先需要创建一个包含测量的量子电路，以两比特量子系统为例，"
   ]
  },
  {
   "cell_type": "code",
   "execution_count": null,
   "metadata": {},
   "outputs": [],
   "source": [
    "n = 2\n",
    "qp = QEnv()\n",
    "qp.Q.createList(n)"
   ]
  },
  {
   "cell_type": "markdown",
   "metadata": {},
   "source": [
    "接下来我们需要选择量子计算机的类型，可以选择模拟器或量子计算机真机，这里我们选择的是百度量子真机。剩下的步骤就很简单了，只需要调用我们的 DetectorTomography 模块则可完成真实量子测量的层析，和 QST 类似，我们选择求逆的方式对量子测量的 POVM 进行求解。除了求逆法，上面提到的最小二乘法以及最大似然估计方法在我们的 DetectorTomography 模块中也有实现。"
   ]
  },
  {
   "cell_type": "code",
   "execution_count": null,
   "metadata": {},
   "outputs": [],
   "source": [
    "# 使用本地模拟器\n",
    "qc = BackendName.LocalBaiduSim2\n",
    "\n",
    "# 请登录“量易伏”平台（https://quantum-hub.baidu.com/）获取 Token\n",
    "# Define.hubToken = \"Token\"\n",
    "# qc = BackendName.CloudBaiduQPUQian\n",
    "\n",
    "# Initialize a DetectorTomography instance\n",
    "detec = DetectorTomography()\n",
    "\n",
    "# Call the tomography procedure and obtain the POVM.\n",
    "# Other supported methods are 'lstsq', 'mle'.\n",
    "meas = detec.fit(qp=qp, qc=qc, method='inverse', shots=4096)\n",
    "print('POVM', meas)"
   ]
  },
  {
   "cell_type": "markdown",
   "source": [
    "值得一提的是，我们的模块可以很方便地对指定比特的测量算符进行层析，只需要加上 **qubits** 变量即可，调用方法如下"
   ],
   "metadata": {
    "collapsed": false
   }
  },
  {
   "cell_type": "code",
   "execution_count": null,
   "outputs": [],
   "source": [
    "# meas = detec.fit(qp=qp, qc=qc, method='inverse', shots=4096, qubits=[1])"
   ],
   "metadata": {
    "collapsed": false
   }
  },
  {
   "cell_type": "markdown",
   "metadata": {},
   "source": [
    "接下来我们来看一下测量保真度（measurement fidelity），它的表达式如下\n",
    "\n",
    "$$\n",
    "\\begin{align}\n",
    "    f\\left(\\mathcal{M}\\right) := \\frac{1}{2^n}\\sum_{\\mathbf{x}\\in\\left\\{0,1\\right\\}^n}\\langle \\mathbf{x}\\vert\\Pi_{\\mathbf{x}}\\vert\\mathbf{x}\\rangle.\n",
    "\\end{align}\n",
    "$$\n",
    "\n",
    "需要指出的是，这里的测量保真度是关于计算基础上的理想测量。"
   ]
  },
  {
   "cell_type": "code",
   "execution_count": null,
   "metadata": {},
   "outputs": [],
   "source": [
    "fid = detec.fidelity\n",
    "print('Fidelity of the POVM: F = {:.5f}'.format(fid))"
   ]
  },
  {
   "cell_type": "markdown",
   "metadata": {},
   "source": [
    "也可以将层析结果进行可视化，我们在这里对 POVM 元 $E_{00}$ 进行可视化"
   ]
  },
  {
   "cell_type": "code",
   "execution_count": null,
   "metadata": {},
   "outputs": [],
   "source": [
    "visualization(meas[0])"
   ]
  },
  {
   "cell_type": "markdown",
   "metadata": {},
   "source": [
    "## 总结\n",
    "\n",
    "本教程旨在介绍 QDT 的原理以及如何在[百度量子平台](https://quantum.baidu.com/)上实现。"
   ]
  },
  {
   "cell_type": "markdown",
   "metadata": {},
   "source": [
    "## 参考资料\n",
    "[1] Greenbaum, Daniel. \"Introduction to quantum gate set tomography.\" [arXiv](https://arxiv.org/abs/1509.02921) preprint arXiv:1509.02921 (2015).\n",
    "\n",
    "[2] Fiurášek, Jaromír. \"Maximum-likelihood estimation of quantum measurement.\" [Physical Review A](https://journals.aps.org/pra/abstract/10.1103/PhysRevA.64.024102) 64.2 (2001): 024102.\n",
    "\n",
    "[3] Chen, SY Yanzhu, Maziar Farahzad, and T. C. Wei. \"Detector tomography on ibm 5-qubit quantum computers and mitigation of imperfect measurement, arXiv (2019).\" [arXiv](https://arxiv.org/abs/1904.11935) preprint arXiv:1904.11935."
   ]
  }
 ],
 "metadata": {
  "kernelspec": {
   "display_name": "Python 3",
   "language": "python",
   "name": "python3"
  },
  "language_info": {
   "codemirror_mode": {
    "name": "ipython",
    "version": 3
   },
   "file_extension": ".py",
   "mimetype": "text/x-python",
   "name": "python",
   "nbconvert_exporter": "python",
   "pygments_lexer": "ipython3",
   "version": "3.8.8"
  },
  "pycharm": {
   "stem_cell": {
    "cell_type": "raw",
    "source": [],
    "metadata": {
     "collapsed": false
    }
   }
  },
  "toc": {
   "base_numbering": 1,
   "nav_menu": {},
   "number_sections": true,
   "sideBar": true,
   "skip_h1_title": false,
   "title_cell": "Table of Contents",
   "title_sidebar": "Contents",
   "toc_cell": false,
   "toc_position": {},
   "toc_section_display": true,
   "toc_window_display": false
  },
  "varInspector": {
   "cols": {
    "lenName": 16,
    "lenType": 16,
    "lenVar": 40
   },
   "kernels_config": {
    "python": {
     "delete_cmd_postfix": "",
     "delete_cmd_prefix": "del ",
     "library": "var_list.py",
     "varRefreshCmd": "print(var_dic_list())"
    },
    "r": {
     "delete_cmd_postfix": ") ",
     "delete_cmd_prefix": "rm(",
     "library": "var_list.r",
     "varRefreshCmd": "cat(var_dic_list()) "
    }
   },
   "types_to_exclude": [
    "module",
    "function",
    "builtin_function_or_method",
    "instance",
    "_Feature"
   ],
   "window_display": false
  }
 },
 "nbformat": 4,
 "nbformat_minor": 1
}

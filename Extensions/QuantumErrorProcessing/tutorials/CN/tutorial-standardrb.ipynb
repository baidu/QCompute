{
 "cells": [
  {
   "cell_type": "markdown",
   "id": "58ad9193",
   "metadata": {},
   "source": [
    "# 标准随机基准测试\n",
    "\n",
    "*版权所有 (c) 2022 百度量子计算研究所，保留所有权利。*"
   ]
  },
  {
   "cell_type": "markdown",
   "id": "23935b2f",
   "metadata": {},
   "source": [
    "**标准随机基准测试（Standard Randomized Benchmarking, SRB）**，是一项被大家所熟知的用于刻画量子设备性能的技术。通过运行并测量一系列由不同深度的 Clifford 门组成的随机量子电路，来衡量门的平均性能。该教程展示如何在[百度量子平台](https://quantum.baidu.com/)上使用 **SRB** 来刻画衡量量子设备的性能，并计算 **Clifford 门错误率（EPC）**。"
   ]
  },
  {
   "cell_type": "markdown",
   "id": "3d5557c8",
   "metadata": {},
   "source": [
    "## 理论\n",
    "\n",
    "### Clifford 门\n",
    "Clifford 群作用在 Pauli 群（$P_n$）上，使其演化后仍然为自身，即：\n",
    "\n",
    "$$\n",
    "Cl(P_n)\\equiv \\left\\{U\\vert UP_nU^{\\dagger}=P_n\\right\\}.\n",
    "$$\n",
    "\n",
    "这就是 $P_n$ 对应的 Clifford 群， 也称作 $P_n$ 的 \"normalizer\"。而由 Clifford 群元组成的量子电路就称为 Clifford 电路，或称为 stabilizer 线路。上述所说的性质，使得 Clifford 电路可以被经典计算机在多项式复杂度内有效模拟 (Gottesman-Knill 定理)[1]，因此可以适用于大型量子设备的基准测试，同时 Clifford 电路还广泛应用在量子纠错理论中。\n",
    "\n",
    "Clifford 门可以由一组基本的量子门生成，即 {H, S, CZ} （也有 {H, S, T, CNOT} 等，本质上相同）。量噪中实现了任意 $n$ 量子比特的 Clifford 门方法，可以通过以下代码调用"
   ]
  },
  {
   "cell_type": "code",
   "execution_count": null,
   "id": "7156d28d",
   "metadata": {
    "jupyter": {
     "outputs_hidden": false
    }
   },
   "outputs": [],
   "source": [
    "from Extensions.QuantumErrorProcessing.qcompute_qep.quantum.clifford import Clifford,random_clifford\n",
    "from Extensions.QuantumErrorProcessing.qcompute_qep.benchmarking.standardrb import StandardRB"
   ]
  },
  {
   "cell_type": "code",
   "execution_count": null,
   "id": "427021d6",
   "metadata": {
    "jupyter": {
     "outputs_hidden": false
    }
   },
   "outputs": [],
   "source": [
    "n = 2 # number of qubits\n",
    "cliff = Clifford(n)\n",
    "print(cliff) # print the Clifford Gate in elementary gate form"
   ]
  },
  {
   "cell_type": "markdown",
   "id": "82edb15d",
   "metadata": {},
   "source": [
    "上面的结果即为 $2$ 量子比特的 Clifford Gate，我们所采用的构造方法来自该论文[2]。\n",
    "\n",
    "### 随机电路结构\n",
    "\n",
    "SRB 中常见的随机 Clifford 电路结构如下图所示\n",
    "\n",
    "![random-clifford-circuit](figures/srb-clifford-circuit.png \"图1：随机 Clifford 电路。\")\n",
    "\n",
    "图中我们先加入 $m$ 个随机的 Clifford 门，之后再加入一个逆门 $C_{m+1}$，表示为所有 $m$ 个 Clifford 门的逆作用，即：\n",
    "\n",
    "$$\n",
    "C_{m+1} = \\left(C_1C_2\\cdots C_{m-1}C_{m}\\right)^{-1}.\n",
    "$$\n",
    "\n",
    "则该线路在理想情况下输出仍然为初始态：\n",
    "\n",
    "$$\n",
    "C_{m+1}C_{m}C_{m-1}\\cdots C_2C_1\\vert \\phi \\rangle = \\vert \\phi \\rangle.\n",
    "$$\n",
    "\n",
    "若初始态为 $\\vert 0 \\rangle$，则在理想电路的情况下无论多少次制备测量，结果都为 $\\vert 0 \\rangle$。\n",
    "\n",
    "### 随机基准测试\n",
    "\n",
    "当量子设备（主要是量子门）存在噪声时，结果会不同。随着量子门的数目增加（即电路深度的增加），噪声或误差会不断累积放大。我们可以直觉地判断，如果一个量子设备所提供的量子门性能好，误差小，即使门的数量增加累计的误差也比较小。所以我们通过搭建并测量一系列不同深度的 Clifford 电路，将数据代入方程\n",
    "\n",
    "$$\n",
    "p(m) = Af^m+B,\n",
    "$$\n",
    "\n",
    "进行拟合得到结果，以此判断量子设备的性能。在这个公式中，$m$ 为深度，$p(m)$ 为 $\\textrm{Tr}\\left[OC_{m+1}C_{m}C_{m-1}\\cdots C_2C_1\\vert \\phi \\rangle\\!\\langle\\phi\\vert\\right]$，即在 $m$ 深度电路下的测量结果，$f$为保真度，来衡量 Clifford 门的平均性能，$A$ 和 $B$ 用来吸收态制备与测量误差 （SPAM）。下面我们通过案例来演示说明。\n",
    "\n",
    "## 实践\n",
    "\n",
    "### 单量子比特电路\n",
    "\n",
    "单量子比特的电路如图所示\n",
    "\n",
    "![single-qubit](figures/srb-single-clifford-circuit.png \"图2：单量子比特电路。\")\n",
    "\n",
    "下面代码中我们在每个深度下都构造 $20$ 个随机电路，测量并取平均值。运行代码，并查看运行展示的最终结果"
   ]
  },
  {
   "cell_type": "code",
   "execution_count": null,
   "id": "cb2444f8",
   "metadata": {
    "jupyter": {
     "outputs_hidden": false
    }
   },
   "outputs": [],
   "source": [
    "import QCompute\n",
    "\n",
    "# 使用本地模拟器\n",
    "qc = QCompute.BackendName.LocalBaiduSim2\n",
    "\n",
    "# 请登录“量易伏”平台（https://quantum-hub.baidu.com/）获取 Token\n",
    "# QCompute.Define.hubToken = \"Token\"\n",
    "# qc = QCompute.BackendName.CloudBaiduQPUQian\n",
    "\n",
    "single_qubits = [0]\n",
    "rb = StandardRB()\n",
    "single_qubit_results = rb.benchmark(qubits=single_qubits,\n",
    "                          qc=qc,\n",
    "                          repeats=20,\n",
    "                          shots=200,\n",
    "                          seq_lengths=[1, 5, 10, 15, 20, 25])\n",
    "rb.plot_results()"
   ]
  },
  {
   "cell_type": "markdown",
   "id": "27b582a6",
   "metadata": {},
   "source": [
    "### 双量子比特电路\n",
    "双量子比特电路如图所示\n",
    "\n",
    "![double-qubit](figures/srb-two-clifford-circuit.png \"图3：双量子比特电路。\")\n",
    "\n",
    "方法同上，我们执行代码查看结果"
   ]
  },
  {
   "cell_type": "code",
   "execution_count": null,
   "id": "5c412fd1",
   "metadata": {},
   "outputs": [],
   "source": [
    "# 2 qubit SRB\n",
    "two_qubits = [0,1]\n",
    "rb2 = StandardRB()\n",
    "two_qubits_results = rb2.benchmark(qubits=two_qubits,\n",
    "                          qc=qc,\n",
    "                          repeats=20,\n",
    "                          shots=200,\n",
    "                          seq_lengths=[1, 2, 3, 4, 5, 6])\n",
    "rb2.plot_results()"
   ]
  },
  {
   "cell_type": "markdown",
   "id": "30196360",
   "metadata": {},
   "source": [
    "运行上述代码，我们即可得到深度 $m$ 与测量结果的拟合曲线（蓝色）以及 $A$, $B$, $f$ 等参数。通过参数我们带入方程计算得到 **EPC**:\n",
    "\n",
    "$$\n",
    "\\begin{align}\n",
    "    {\\rm EPC} = \\frac{d-1}{d}(1-f),\n",
    "\\begin{end}\n",
    "$$\n",
    "\n",
    "其中 $d=2^N$。我们可以通过下面的代码打印结果进行查看"
   ]
  },
  {
   "cell_type": "code",
   "execution_count": null,
   "id": "07417463",
   "metadata": {},
   "outputs": [],
   "source": [
    "print('The fidelity of 1 qubit SRB is :',single_qubit_results['f'])\n",
    "print('The Error Per Clifford of 1 qubit SRB is:',single_qubit_results['epc'])\n",
    "print('The fidelity of 2 qubit SRB is :',two_qubits_results['f'])\n",
    "print('The Error Per Clifford of 2 qubit SRB  is:',two_qubits_results['epc'])"
   ]
  },
  {
   "cell_type": "markdown",
   "id": "73f47375-40cc-4557-b2f2-1825facc587f",
   "metadata": {},
   "source": [
    "至此我们就完成了 **SRB** 的基本流程，并计算得到了含噪电路的 Clifford 门错误率 **EPC**。\n",
    "用户可以通过定义不同的噪声，设置不同的参数来进行实验观察结果。\n",
    "想了解更多随机基准测试及其变种的可以参考这篇论文[3]。\n"
   ]
  },
  {
   "cell_type": "markdown",
   "id": "9ae8cd99-0bde-47b0-a6a7-d8557a6c8a81",
   "metadata": {},
   "source": [
    "## 参考资料\n",
    "\n",
    "\\[1\\] Gottesman, Daniel. \"The Heisenberg representation of quantum computers.\" [arXiv](https://arxiv.org/abs/quant-ph/9807006) preprint quant-ph/9807006 (1998).\n",
    "\n",
    "\\[2\\] Selinger, Peter. \"Generators and relations for n-qubit Clifford operators.\" [Logical Methods in Computer Science](https://arxiv.org/abs/1310.6813v4) 11 (2015).\n",
    "\n",
    "\\[3\\] Helsen, Jonas, et al. \"A general framework for randomized benchmarking.\" [arXiv](https://arxiv.org/abs/2010.07974) preprint arXiv:2010.07974 (2020).\n",
    "\n",
    "\n",
    "\n"
   ]
  }
 ],
 "metadata": {
  "kernelspec": {
   "display_name": "Python 3",
   "language": "python",
   "name": "python3"
  },
  "language_info": {
   "codemirror_mode": {
    "name": "ipython",
    "version": 3
   },
   "file_extension": ".py",
   "mimetype": "text/x-python",
   "name": "python",
   "nbconvert_exporter": "python",
   "pygments_lexer": "ipython3",
   "version": "3.8.5"
  },
  "toc-autonumbering": false,
  "toc-showmarkdowntxt": false
 },
 "nbformat": 4,
 "nbformat_minor": 5
}

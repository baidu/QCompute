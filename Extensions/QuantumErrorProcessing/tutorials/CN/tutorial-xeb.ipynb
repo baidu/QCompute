{
 "cells": [
  {
   "cell_type": "markdown",
   "id": "58ad9193",
   "metadata": {},
   "source": [
    "# 交叉熵基准测试\n",
    "\n",
    "*版权所有 (c) 2022 百度量子计算研究所，保留所有权利。*"
   ]
  },
  {
   "cell_type": "markdown",
   "id": "23935b2f",
   "metadata": {},
   "source": [
    "**交叉熵基准测试（Cross Entropy Benchmarking, XEB）**，是通过搭建不同深度的随机量子电路并多次进行采样计算，拟合采样数据，得到保真度 $F_{XEB}$ 以及含噪电路中的有效噪声率（Effective Noise Rate, ENR），以此来衡量量子设备性能。谷歌使用该方法对自己的 $53$ 量子比特的量子计算硬件悬铃木（Sycamore）进行基准测试,并宣称自己实现了量子霸权[1]。该教程对交叉熵基准测试进行简单的介绍并演示如何在[百度量子平台](https://quantum.baidu.com/)上实现。"
   ]
  },
  {
   "cell_type": "markdown",
   "id": "3d5557c8",
   "metadata": {},
   "source": [
    "## 理论\n",
    "\n",
    "### 波特-托马斯分布\n",
    "\n",
    "对于任意一个固定 $n$ 量子比特的比特串 $x^* \\in \\{0,1\\}^{n}$，随机搭建一个 $n$量子比特电路并进行测量，得到该比特串 $x^*$ 出现的概率 $p$。若重复多次搭建不同的随机电路并测量，则可以得到概率 $p$ 的概率，即元概率（meta-probability）。对于性能优越的量子计算机，元概率的概率分布应满足波特-托马斯分布（Porter-Thomas Distribution, PT distribution），即\n",
    "\n",
    "$$\n",
    "f(p) = Ne^{-Np},\n",
    "$$\n",
    "\n",
    "其中 $N = 2^n$。对于经典计算机，随着量子比特数量的增加，想要模拟出同样的分布结果的复杂度是指数级增加。需要注意的是随机电路的结构以及量子门的选择都会影响电路的随机性，即影响元概率分布的结果以及交叉熵基准测试的结果。\n",
    "\n",
    "### 随机电路\n",
    "\n",
    "XEB 中常见的随机电路结构如下图所示[2]\n",
    "\n",
    "![随机电路](figures/xeb-random-circuit.png \"图1：随机量子电路。\")\n",
    "\n",
    "一层单量子比特门接一层双量子比特门的整体，即图中红色方框所示，即为一个循环深度。量易伏中具有实现任意量子比特数、任意循环深度的随机电路的函数。该函数中默认使用的单量子门为（U3）门，双量子比特门默认为（CNOT）门，用户可以自定义不同的量子比特门集合。下面我们引入一些必要的包，并演示实现该函数。"
   ]
  },
  {
   "cell_type": "code",
   "execution_count": null,
   "id": "688e7c44",
   "metadata": {
    "jupyter": {
     "outputs_hidden": false
    }
   },
   "outputs": [],
   "source": [
    "import numpy as np\n",
    "from typing import List\n",
    "import matplotlib.pyplot as plt\n",
    "\n",
    "from Extensions.QuantumErrorProcessing.qcompute_qep.utils.circuit import random_circuit, circuit_to_state, print_circuit\n",
    "from Extensions.QuantumErrorProcessing.qcompute_qep.benchmarking.xeb import XEB"
   ]
  },
  {
   "cell_type": "code",
   "execution_count": null,
   "id": "45d63c9d",
   "metadata": {},
   "outputs": [],
   "source": [
    "qubits=[0, 1]\n",
    "m = 2 # the depths of cycle\n",
    "qp = random_circuit(qubits,m)\n",
    "print_circuit(qp.circuit)"
   ]
  },
  {
   "cell_type": "markdown",
   "id": "ce65a9c5",
   "metadata": {},
   "source": [
    "上面我们实现了随机电路。我们可以设计采样，来观察电路最终的结果是否满足 PT 分布。"
   ]
  },
  {
   "cell_type": "code",
   "execution_count": null,
   "id": "07417463",
   "metadata": {},
   "outputs": [],
   "source": [
    "def porter_distribution_sample(qubits: List[int], m_cycle: int, trials: int):\n",
    "    n_qubits = len(qubits)\n",
    "    dimension = 2 ** n_qubits\n",
    "    # picks a random bitstring as labelled by the integers 1 to 2**n_qubits\n",
    "\n",
    "    probs_bitstring = []\n",
    "\n",
    "    # Start sample\n",
    "    for i in range(trials):\n",
    "        env = random_circuit(qubits, m_cycle)\n",
    "        state = circuit_to_state(env, vector=True)\n",
    "        state = state.reshape(-1)\n",
    "        bitstring = np.random.choice(dimension)\n",
    "        prob = np.abs(state[bitstring]) ** 2\n",
    "        probs_bitstring.append(prob)\n",
    "    return probs_bitstring\n",
    "\n",
    "\n",
    "def plot_sample_result(n_qubits, probs_bitstring):\n",
    "    dim = 2 ** n_qubits\n",
    "    xspace = np.linspace(0.0, 1.0, 100)\n",
    "    yspace = dim * np.exp(-dim * xspace)\n",
    "\n",
    "    # plot both empirical and theoretical calculations\n",
    "    plt.figure(figsize=(9, 6))\n",
    "    plt.hist(probs_bitstring, bins=20, density=True, label='Empirical Distribution')\n",
    "    plt.plot(xspace, yspace, label='Theoretical Porter-Thomas Distribution')\n",
    "\n",
    "    plt.xlabel(\"Probability p\")\n",
    "    plt.ylabel(\"Probability that the random bistring occurs with probability p\")\n",
    "    plt.legend(loc='best')\n",
    "    plt.show()\n",
    "\n",
    "qubits = [0, 1]\n",
    "N = len(qubits)\n",
    "M = 10  # number of depth\n",
    "trials = 1 * 10 ** 4  # number of sample\n",
    "plot_sample_result(N, porter_distribution_sample(qubits, M, trials))"
   ]
  },
  {
   "cell_type": "markdown",
   "id": "73f47375-40cc-4557-b2f2-1825facc587f",
   "metadata": {},
   "source": [
    "可以看出函数实现的随机电路大致满足了 PT 分布。电路的随机性除了与量子门和电路结构相关，也与量子比特数和深度相关，读者可以自行修改参数，尝试观察不同的结果。同时也可以固定其他参数，稍微增加 2-3 个量子比特数，观察程序运行时间，就会明白在经典计算机上想要通过足够多的采样模拟该结果是异常困难的。"
   ]
  },
  {
   "cell_type": "markdown",
   "id": "931bd6de",
   "metadata": {},
   "source": [
    "### 随机基准测试\n",
    "\n",
    "保真度 $F_{XEB}$ 为真实含噪电路与理论的元概率分布之间的重合程度，上面采样的例子可以看作是完全白噪声的量子电路采样的结果，因为我们对所有结果等概率的采样，其等价于量子电路中最大混态。在这里我们使用线性交叉熵（linear cross entropy）来计算保真度。线性交叉熵公式如下:\n",
    "\n",
    "$$\n",
    "\\mathcal L\\left(P\\parallel Q\\right) = 2^{n}\\sum\\limits_{x}P(x)Q(x)-1.\n",
    "$$\n",
    "\n",
    "对于保真度 $F_{XEB}$ 的公式如下:\n",
    "\n",
    "$$\n",
    "F_{XEB} = \\mathcal L\\left(P_{noisy}\\parallel P_{ideal}\\right) \\approx \\frac{D}{RS}\\sum\\limits_{r=1}^{R}\\sum\\limits_{s=1}^{S}P_{ideal}^{(r)}\\left(x_{s}^{(r)}\\right)-1,\n",
    "$$\n",
    "\n",
    "其中 $D = 2^n$，$R$ 为采样的随机电路的数量，$S$ 为每个电路采样的次数，$P_{ideal}^{(r)}$ 为每次随机电路的理想概率，$x_{s}^{(r)}$ 为实际含噪电路 $r$ 层深度的第 $s$ 次测量结果。上述公式中的 $P_{noisy}$ 无法精确的进行数值计算，需要通过大量地采样随机电路来近似。\n",
    "由于该方法计算的保真度 $F_{XEB}$ 在两个概率分布相等时趋于无穷，所以我们在实际处理中用到无偏线性交叉熵（unbiased linear cross entropy）$F_{uXEB}$\n",
    "\n",
    "$$\n",
    "F_{uXEB} = \\frac{\\frac{D}{RS}\\sum_{r,s=1}^{RS}P_{ideal}^{(r)}\\left(x_{s}^{(r)}\\right)-1} {\\frac{D}{R}\\sum_{r=1}^{R}{\\left(P_{ideal}^{(r)}\\left(x^{(r)}\\right)\\right)}^{2}-1},\n",
    "$$\n",
    "\n",
    "$x^{r} \\in \\{0,1\\}^{n}$。当电路为理想电路时，$F_{uXEB}$ 为1。当电路的噪声非常大时，$F_{uXEB}$ 为0。接着我们可以通过不同循环深度电路下的$F_{uXEB}$来计算得到 **ENR**。公式如下:\n",
    "\n",
    "$$\n",
    "F = Ae^{-{\\lambda}d},\n",
    "$$\n",
    "\n",
    "$d$ 为循环深度，$F$ 为 $F_{uXEB}$，$\\lambda$ 即为 **ENR**。"
   ]
  },
  {
   "cell_type": "markdown",
   "id": "f23bb786",
   "metadata": {},
   "source": [
    "## 实践\n",
    "\n",
    "### 单量子比特电路"
   ]
  },
  {
   "cell_type": "code",
   "execution_count": null,
   "id": "5b4b8bff",
   "metadata": {},
   "outputs": [],
   "source": [
    "import QCompute\n",
    "\n",
    "# 使用本地模拟器\n",
    "qc = QCompute.BackendName.LocalBaiduSim2\n",
    "\n",
    "# 请登录“量易伏”平台（https://quantum-hub.baidu.com/）获取 Token\n",
    "# QCompute.Define.hubToken = \"Token\"\n",
    "# qc = QCompute.BackendName.CloudBaiduQPUQian\n",
    "\n",
    "xeb_1 = XEB()\n",
    "xeb_1_results = xeb_1.benchmark(qubits=[0],\n",
    "                            qc=qc,\n",
    "                            shots=4096,\n",
    "                            repeats=20,\n",
    "                            seq_lengths=[1, 5, 10, 15, 20, 30, 40]\n",
    "                            )\n",
    "xeb_1.plot_results()"
   ]
  },
  {
   "cell_type": "markdown",
   "id": "87ba5bef",
   "metadata": {},
   "source": [
    "### 双量子比特电路\n",
    "\n",
    "在量易伏中我们实现了该方法，可以运行以下代码来查看结果。"
   ]
  },
  {
   "cell_type": "code",
   "execution_count": null,
   "id": "0e181fd9-9582-47b2-b74b-105cf2139805",
   "metadata": {},
   "outputs": [],
   "source": [
    "xeb_2 = XEB()\n",
    "xeb_2_results = xeb_2.benchmark(qubits=[0, 1 ],\n",
    "                            qc=qc,\n",
    "                            shots=4096,  \n",
    "                            repeats=20,\n",
    "                            seq_lengths=[1, 5, 10, 15, 20, 30, 40]\n",
    "                            )\n",
    "xeb_2.plot_results()"
   ]
  },
  {
   "cell_type": "markdown",
   "id": "b85f4d25",
   "metadata": {},
   "source": [
    "上图就是在不同深度下的随机电路采样的数据得到的结果，蓝色为拟合的曲线。通过拟合结果就可以得到 F 以及 ENR。我们可以打印结果进行查看。"
   ]
  },
  {
   "cell_type": "code",
   "execution_count": null,
   "id": "a29f4a70",
   "metadata": {
    "jupyter": {
     "outputs_hidden": false
    }
   },
   "outputs": [],
   "source": [
    "print(\"The ENR is: \",xeb_1_results['lambda'])\n",
    "print(\"The ENR is: \",xeb_2_results['lambda'])"
   ]
  },
  {
   "cell_type": "markdown",
   "id": "fe026066",
   "metadata": {},
   "source": [
    "至此我们通过 XEB 基准测试的方法得到了含噪电路中的 **ENR**，并以此衡量了含噪模拟器设备的性能。用户可以通过定义不同的噪声，设置不同的参数来进行实验观察结果。更多的细节感兴趣的读者可以在该论文中查看[2]。"
   ]
  },
  {
   "cell_type": "markdown",
   "id": "9ae8cd99-0bde-47b0-a6a7-d8557a6c8a81",
   "metadata": {},
   "source": [
    "## 参考资料\n",
    "\n",
    "\\[1\\] Arute, F., Arya, K., Babbush, R. et al. Quantum supremacy using a programmable superconducting processor. [Nature](https://www.nature.com/articles/s41586-019-1666-5) 574, 505–510 (2019).\n",
    "\n",
    "\\[2\\] Liu, Yunchao, et al. \"Benchmarking near-term quantum computers via random circuit sampling.\" [arXiv](https://arxiv.org/abs/2105.05232) preprint arXiv:2105.05232 (2022).\n",
    "\n",
    "\n",
    "\n"
   ]
  }
 ],
 "metadata": {
  "kernelspec": {
   "display_name": "Python 3",
   "language": "python",
   "name": "python3"
  },
  "language_info": {
   "codemirror_mode": {
    "name": "ipython",
    "version": 3
   },
   "file_extension": ".py",
   "mimetype": "text/x-python",
   "name": "python",
   "nbconvert_exporter": "python",
   "pygments_lexer": "ipython3",
   "version": "3.8.5"
  },
  "toc-autonumbering": false,
  "toc-showmarkdowntxt": false
 },
 "nbformat": 4,
 "nbformat_minor": 5
}

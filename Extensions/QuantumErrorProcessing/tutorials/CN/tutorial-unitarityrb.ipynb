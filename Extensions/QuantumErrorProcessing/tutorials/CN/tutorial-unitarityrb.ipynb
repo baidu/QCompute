{
 "cells": [
  {
   "cell_type": "markdown",
   "id": "58ad9193",
   "metadata": {},
   "source": [
    "# 酉度随机基准测试\n",
    "\n",
    "*版权所有 (c) 2022 百度量子计算研究所，保留所有权利。*"
   ]
  },
  {
   "cell_type": "markdown",
   "id": "23935b2f",
   "metadata": {},
   "source": [
    "**酉度随机基准测试（Unitarity Randomized Benchmarking, URB）**，是通过实验测量经过一系列量子门演化的最终态的纯度（purity）\n",
    "来估计量子门的酉噪声（unitary noise）或相干噪声（coherence noise）。该教程展示如何在[百度量子平台](https://quantum.baidu.com/)上使用 **URB** 来刻画衡量量子设备的性能，并计算量子门的酉度（**Unitarity**）。"
   ]
  },
  {
   "cell_type": "markdown",
   "id": "3d5557c8",
   "metadata": {},
   "source": [
    "## 理论\n",
    "\n",
    "### 纯度和酉度\n",
    "\n",
    "一个量子态 $\\rho$ 的纯度的定义为\n",
    "$\\textrm{Tr}\\left[\\rho^{\\dagger}\\rho\\right]\\in [0,1]$，且当 $\\textrm{Tr}\\left[\\rho^{\\dagger}\\rho\\right]=1$ 时 $\\rho$ 为纯态。\n",
    "此时我们可以定义一个噪声信道 $\\mathcal E$ 的酉度为经过信道后输出态的平均纯度（除去单位矩阵, 对其余纯态作平均）[1]\n",
    "\n",
    "$$\n",
    "u(\\mathcal E) = \\frac{d}{d-1}\\int_{\\psi} d\\psi \\textrm{Tr}\\left[ \\mathcal E^{\\prime}(\\psi)^{\\dagger}\\mathcal E^{\\prime}\\left(\\psi\\right)\\right].\n",
    "$$\n",
    "\n",
    "我们可以定义迹为 $1$ 的密度算子 $\\rho$ 的广义 Bloch 向量 $n(\\rho)$ 为展开系数 $d^2-1$ 的向量\n",
    "\n",
    "$$\n",
    "\\rho = \\mathbb I/d +\\sum_{k>1}n_kA_k,\n",
    "$$\n",
    "\n",
    "其中 $\\left\\{A_2,\\cdots, A_{d^2}\\right\\}$ 为一组无迹算符，和 $A_1\\equiv I$ 一起构成一组规范正交基。在这个表示下，酉度等价写为\n",
    "\n",
    "$$\n",
    "u(\\mathcal E) = \\frac{d}{d-1}\\int_{\\psi} d\\psi \\left\\| n\\left[\\mathcal E(\\psi)\\right]-n\\left[\\mathcal E(\\mathbb I_d/d)\\right]\\right\\|^2.\n",
    "$$\n"
   ]
  },
  {
   "cell_type": "markdown",
   "id": "ac4cd822",
   "metadata": {},
   "source": [
    "### 随机基准测试\n",
    "实际实验中，\n",
    "我们仍然需要使用一系列 Clifford Gate 搭建不同深度的随机量子电路，测量估计得到纯度，代入拟合曲线得到酉度。\n",
    "实验中不同深度的随机量子电路的纯度的估计为\n",
    "\n",
    "$$\n",
    "P_j = \\frac{d}{d-1}\\left\\|n(\\rho_j)\\right\\|^2.\n",
    "$$\n",
    "\n",
    "通过测量不同深度的电路结果，将数据代入方程\n",
    "\n",
    "$$\n",
    "\\mathbb E_j[P_j] = Au^{(m-1)}+B,\n",
    "$$\n",
    "\n",
    "其中 $m$ 为深度，\n",
    "$u$ 为酉度，\n",
    "$A$ 和 $B$ 用来吸收态制备与测量误差（SPAM）。下面我们通过代码来演示说明。\n",
    "## 实践\n",
    "### 单量子比特\n"
   ]
  },
  {
   "cell_type": "code",
   "execution_count": null,
   "id": "b8de031f",
   "metadata": {},
   "outputs": [],
   "source": [
    "from Extensions.QuantumErrorProcessing.qcompute_qep.benchmarking.unitarityrb import UnitarityRB\n",
    "import QCompute\n",
    "\n",
    "# 使用本地模拟器\n",
    "qc = QCompute.BackendName.LocalBaiduSim2\n",
    "\n",
    "# 请登录“量易伏”平台（https://quantum-hub.baidu.com/）获取 Token\n",
    "# QCompute.Define.hubToken = \"Token\"\n",
    "# qc = QCompute.BackendName.CloudBaiduQPUQian\n",
    "\n",
    "qubits = [0]\n",
    "urb_1 = UnitarityRB()\n",
    "urb_1.benchmark(qubits=qubits,\n",
    "                  qc=qc,\n",
    "                  repeats=30,\n",
    "                  shots=250,\n",
    "                  seq_lengths=[1, 2, 3, 4, 5, 6, 7, 8, 9, 10])\n",
    "urb_1.plot_results()\n",
    "one_qubit_results = urb_1.results"
   ]
  },
  {
   "cell_type": "markdown",
   "id": "a415bd0e",
   "metadata": {},
   "source": [
    "### 双量子比特"
   ]
  },
  {
   "cell_type": "code",
   "execution_count": null,
   "id": "c5ac9dc5",
   "metadata": {
    "pycharm": {
     "is_executing": true
    }
   },
   "outputs": [],
   "source": [
    "qubits = [0, 1]\n",
    "urb_2 = UnitarityRB()\n",
    "urb_2.benchmark(qubits=qubits,\n",
    "                qc=qc,\n",
    "                repeats=30,\n",
    "                shots=250,\n",
    "                seq_lengths=[1, 2, 3, 4, 5, 6, 7, 8, 9, 10])\n",
    "urb_2.plot_results()\n",
    "two_qubit_results = urb_2.results"
   ]
  },
  {
   "cell_type": "markdown",
   "id": "73f47375-40cc-4557-b2f2-1825facc587f",
   "metadata": {},
   "source": [
    "运行上述代码，我们即可得到拟合曲线以及 $A$, $B$, $u$ 等参数。"
   ]
  },
  {
   "cell_type": "code",
   "source": [
    "print(one_qubit_results['u'])\n",
    "print(two_qubit_results['u'])"
   ],
   "metadata": {
    "collapsed": false
   },
   "execution_count": null,
   "outputs": []
  },
  {
   "cell_type": "markdown",
   "source": [
    "至此我们就完成了 **URB** 的基本流程，并计算得到了 $u$ 值来刻画相干噪声。用户可以通过定义不同的噪声，设置不同的参数来进行实验观察结果。想了解更多随机基准测试及其变种的可以参考论文[1][2]。"
   ],
   "metadata": {
    "collapsed": false
   }
  },
  {
   "cell_type": "markdown",
   "id": "9ae8cd99-0bde-47b0-a6a7-d8557a6c8a81",
   "metadata": {},
   "source": [
    "## 参考资料\n",
    "\n",
    "\\[1\\] Wallman, Joel, et al. \"Estimating the coherence of noise.\" [New Journal of Physics](https://iopscience.iop.org/article/10.1088/1367-2630/17/11/113020/meta) 17.11 (2015): 113020.\n",
    "\n",
    "\\[2\\] Dirkse, Bas, Jonas Helsen, and Stephanie Wehner. \"Efficient unitarity randomized benchmarking of few-qubit Clifford gates.\" [Physical Review A](https://journals.aps.org/pra/abstract/10.1103/PhysRevA.99.012315) 99.1 (2019): 012315."
   ]
  }
 ],
 "metadata": {
  "kernelspec": {
   "display_name": "Python 3",
   "language": "python",
   "name": "python3"
  },
  "language_info": {
   "codemirror_mode": {
    "name": "ipython",
    "version": 3
   },
   "file_extension": ".py",
   "mimetype": "text/x-python",
   "name": "python",
   "nbconvert_exporter": "python",
   "pygments_lexer": "ipython3",
   "version": "3.8.5"
  },
  "toc-autonumbering": false,
  "toc-showmarkdowntxt": false
 },
 "nbformat": 4,
 "nbformat_minor": 5
}

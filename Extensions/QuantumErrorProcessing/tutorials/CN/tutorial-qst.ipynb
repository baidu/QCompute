{
 "cells": [
  {
   "cell_type": "markdown",
   "metadata": {},
   "source": [
    "# 量子态层析\n",
    "\n",
    "*版权所有 (c) 2022 百度量子计算研究所，保留所有权利。*\n",
    "\n",
    "## 内容概要\n",
    "\n",
    "在迈向大规模量子计算的道路上，一个核心挑战是提高量子态质量。那么一个能够高效精确刻画量子态的方法就显得十分重要。量子态层析 （Quantum State Tomography, QST）是一种可以通过测量来精确刻画量子态具体表达形式的方法。本教程将介绍量子态层析的理论及其在[百度量子平台](https://quantum.baidu.com/)上的实践。"
   ]
  },
  {
   "cell_type": "markdown",
   "metadata": {},
   "source": [
    "## 理论\n",
    "量子态层析的基本原理是对量子态进行多次不同基下的测量，由测量结果来近似量子态在这组基下的概率，最终推导得到量子态的具体表达形式。"
   ]
  },
  {
   "cell_type": "markdown",
   "metadata": {},
   "source": [
    "### Pauli Transfer Matrix 表达\n",
    "使用 Pauli Transfer Matrix (PTM) 可以很方便地表示密度矩阵之间的映射。在这种表达下，一个 $d=2^n$ 维度希尔伯特空间（Hilbert Space）中的密度矩阵 $\\rho$ 可以被表示为 $d^2$ 维度希尔伯特-施密特空间（Hilbert-Schmidt space）的一个向量 $| \\rho \\rangle \\rangle $ 。在希尔伯特-施密特空间中，内积被定义为：\n",
    "\n",
    "$$\n",
    "    \\langle\\langle A | B \\rangle\\rangle = \\textrm{Tr} \\left[ A^\\dagger B \\right],\n",
    "$$\n",
    "\n",
    "此处 $A, \\; B$ 都是线性算符。\n",
    "理论上我们可以自由地选取对应希尔伯特空间下的一组完备基进行转换，但为了方便，我们通常选择 Pauli 基。单量子比特情况下， Pauli 基一共有 $4$ 个：\n",
    "\n",
    "$$\n",
    "\\begin{align}\n",
    "    I = \\left[\\begin{matrix} 1 & 0 \\\\ 0 & 1 \\end{matrix}\\right], \\;\n",
    "    X = \\left[\\begin{matrix} 0 & 1 \\\\ 1 & 0 \\end{matrix}\\right], \\;\n",
    "    Y = \\left[\\begin{matrix} 0 & -i \\\\ i & 0 \\end{matrix}\\right], \\;\n",
    "    Z = \\left[\\begin{matrix} 1 & 0 \\\\ 0 & -1 \\end{matrix}\\right].\n",
    "\\end{align}\n",
    "$$\n",
    "\n",
    "我们将 Pauli 基进行归一化处理，即 $P_k \\to P_k / \\sqrt{d}$ ，这样我们就可以得到一组标准正交基。\n",
    "\n",
    "$$\n",
    "    P_k \\in \\left\\{ I / \\sqrt{2}, X / \\sqrt{2},  Y / \\sqrt{2},  Z / \\sqrt{2} \\right\\}^{\\otimes n}.\n",
    "$$\n",
    "\n",
    "综上，我们可以将一个量子态表达为如下向量形式：\n",
    "\n",
    "$$\n",
    "    | \\rho \\rangle \\rangle = \\sum_k |k\\rangle\\rangle \\langle \\langle k| \\rho \\rangle\\rangle,\\sum_k |k\\rangle\\rangle \\langle \\langle k| = I,\n",
    "$$\n",
    "\n",
    "其中 $|k \\rangle\\rangle$ 是由 $P_k$ 转换而来的向量，\n",
    "\n",
    "$$\n",
    "    \\langle\\langle k | \\rho \\rangle\\rangle = \\textrm{Tr} \\left[ P_k \\rho \\right].\n",
    "$$\n",
    "\n",
    "因此，我们也可以利用向量形式来推导对应的密度矩阵形式\n",
    "\n",
    "$$\n",
    "    \\rho = \\sum_k \\textrm{Tr} \\left[P_k \\rho\\right] P_k.\n",
    "$$\n"
   ]
  },
  {
   "cell_type": "markdown",
   "metadata": {},
   "source": [
    "### 态层析方法\n",
    "量子态层析的目标是通过测量操作获取未知量子态 $\\rho$ 在 PTM 表达下 $| \\rho \\rangle \\rangle$ 的各个元素。我们通常选择一组完备的测量算符 $\\left\\{ E_j \\right\\}_{j=1}^M (M \\geq d^2)$ 来获取 $| \\rho \\rangle \\rangle$ 的各个元素。通常情况下，一次测量结果的期望（或者说是概率），有如下表达形式：\n",
    "\n",
    "$$\n",
    "    \\forall j \\in [M],\\; p_j := \\langle\\langle E_j | \\rho \\rangle \\rangle = \\textrm{Tr} \\left[ E_j \\rho \\right].\n",
    "$$\n",
    "\n",
    "在其中插入完备的 Pauli 基，则有：\n",
    "\n",
    "$$\n",
    "    p_j = \\langle\\langle E_j | \\rho \\rangle\\rangle = \\langle\\langle E_j |\n",
    "    \\left( \\sum_{k=1}^{d^2} | k \\rangle\\rangle \\langle\\langle k | \\right) | \\rho \\rangle\\rangle\n",
    "    = \\sum_{k=1}^{d^2} \\langle\\langle E_j | k \\rangle \\rangle \\langle \\langle k | \\rho \\rangle \\rangle,\n",
    "$$\n",
    "\n",
    "此处 $\\langle\\langle E_j | k \\rangle\\rangle = \\textrm{Tr} \\left[ P_k E_j \\right]$, $\\langle \\langle k | \\rho \\rangle \\rangle = \\textrm{Tr} \\left[ P_k \\rho \\right]$。\n",
    "因为 $\\left\\{ E_j \\right\\}_j$ 是在实验前就选取好了的，所以这里我们可以定义一个已知的矩阵 $A$ ，它的组成元素为：\n",
    "\n",
    "$$\n",
    "    A_{jk} = \\langle\\langle E_j | k \\rangle\\rangle \\Rightarrow\n",
    "    A = \\left[\n",
    "         \\begin{matrix}\n",
    "           \\langle\\langle E_1 | 1 \\rangle\\rangle & \\langle\\langle E_1 | 2 \\rangle\\rangle & \\dots & \\langle\\langle E_1 | d^2 \\rangle\\rangle \\\\\n",
    "           \\langle\\langle E_2 | 1 \\rangle\\rangle & \\langle\\langle E_2 | 2 \\rangle\\rangle & \\dots & \\langle\\langle E_2 | d^2 \\rangle\\rangle \\\\\n",
    "           \\vdots & \\vdots & \\ddots & \\vdots \\\\\n",
    "           \\langle\\langle E_M | 1 \\rangle\\rangle & \\langle\\langle E_M | 2 \\rangle\\rangle & \\dots & \\langle\\langle E_M | d^2 \\rangle\\rangle \\\\\n",
    "          \\end{matrix}\n",
    "      \\right].\n",
    "$$\n",
    "\n",
    "我们可以制备多个相同态，将这些态在同一测量算符 $E_j$ 下进行测量操作，由测量结果的平均值来获得 $p_j$ 的估计值 $\\hat{p}_j = \\sum_{i=1}^N \\hat{p}_{i|j} / N $ ，此处 $\\hat{p}_{i|j} = 0$ 或 $1$ ，对应于第 $i$ 次测量的结果。不难发现， $\\mathbb{E} (\\hat{p}_j)= \\sum_{i=1}^N \\mathbb{E} (\\hat{p}_{i|j}) / N = p_j$ 。由大数定律可知，当我们的样本数目足够多时，我们可以近似认为 $\\hat{p}_j \\approx p_j$ 。\n",
    "然后我们定义一个 $M \\times 1$ 的实数矩阵：\n",
    "\n",
    "$$\n",
    "    \\hat{p} := \\left[ \\begin{matrix} \\hat{p}_1 \\\\  \\hat{p}_2 \\\\ \\vdots \\\\ \\hat{p}_M \\\\  \\end{matrix}\\right],\n",
    "$$\n",
    "\n",
    "需要注意的是这个矩阵的所有元素均是我们实验上可以测得的，如下图所示，我们将 $\\rho$ 在每个 $E_j$ 下多次测量，得到对应的期望值 $\\hat{p}_j$ 。\n",
    " \n",
    "![QST](./figures/qst-circuit.png \"图 1 ：QST 电路\")\n",
    "\n",
    "然后我们还需要注意到：\n",
    "\n",
    "$$\n",
    "    | \\rho \\rangle\\rangle =\n",
    "    \\left[ \\begin{matrix} \\langle\\langle 1 | \\rho \\rangle\\rangle \\\\ \\langle\\langle 2 | \\rho \\rangle\\rangle \\\\ \\vdots \\\\ \\langle\\langle d^2 | \\rho \\rangle\\rangle \\\\  \\end{matrix} \\right].\n",
    "$$\n",
    "\n",
    "用矩阵来表达我们最初的问题，也就是求解 $| \\rho \\rangle \\rangle$：\n",
    "\n",
    "$$\n",
    "    \\hat{p} = A | \\rho \\rangle \\rangle,\n",
    "$$\n",
    "\n",
    "其中，$A$ 和 $\\hat{p}$ 都是已知的。\n",
    "我们可以选取多种方法进行处理，最直接的方法便是求逆，\n",
    "\n",
    "$$\n",
    "    | \\rho \\rangle\\rangle = \\left(A^\\dagger A\\right)^{-1} A^\\dagger \\hat{p}.\n",
    "$$\n",
    "\n",
    "如果 $A$ 矩阵是可逆的，则有\n",
    "\n",
    "$$\n",
    "    | \\rho \\rangle\\rangle = A^{-1} \\hat{p}.\n",
    "$$\n",
    "\n",
    "除此之外，我们还可以选择最大似然估计进行求解。\n",
    "最后，我们回顾整个流程。\n",
    " \n",
    "![QST](./figures/qst-chart.png \"图 2 ：QST 流程图\")\n",
    " "
   ]
  },
  {
   "cell_type": "markdown",
   "metadata": {},
   "source": [
    "## 实践\n",
    "\n",
    "现在，我们将演示如何利用 QST 来贝尔态进行分析。\n",
    "\n",
    "首先，我们导入一些必要的包。"
   ]
  },
  {
   "cell_type": "code",
   "execution_count": null,
   "metadata": {
    "jupyter": {
     "outputs_hidden": false
    }
   },
   "outputs": [],
   "source": [
    "from QCompute import *\n",
    "from Extensions.QuantumErrorProcessing.qcompute_qep.tomography import StateTomography"
   ]
  },
  {
   "cell_type": "markdown",
   "metadata": {},
   "source": [
    "然后，我们搭建制备贝尔态的量子电路。贝尔态的量子电路如下图所示：\n",
    "\n",
    "![QST example](./figures/qst-Bell-example.png \"图 3 ：Bell 态制备电路\")"
   ]
  },
  {
   "cell_type": "code",
   "execution_count": null,
   "metadata": {
    "jupyter": {
     "outputs_hidden": false
    }
   },
   "outputs": [],
   "source": [
    "qp = QEnv()  # qp is short for \"quantum program\", instance of QProgram\n",
    "qp.Q.createList(2)\n",
    "H(qp.Q[0])\n",
    "CX(qp.Q[0], qp.Q[1])"
   ]
  },
  {
   "cell_type": "markdown",
   "metadata": {},
   "source": [
    "现在，我们成功搭建如上电路。接下来我们需要选择量子计算机的类型，可以选择模拟器或量子计算机真机，这里我们选择的是百度本地量子模拟器。剩下的步骤就很简单了，只需要调用我们的 StateTomography 模块则可完成真实量子态的层析，这里我们选择对每个测量算符 $E_j$ 做 $4096$ 次测量，采用求逆的方式进行 PTM 的估计。"
   ]
  },
  {
   "cell_type": "code",
   "execution_count": null,
   "metadata": {
    "jupyter": {
     "outputs_hidden": false
    },
    "pycharm": {
     "is_executing": true
    }
   },
   "outputs": [],
   "source": [
    "# 使用本地模拟器\n",
    "qc = BackendName.LocalBaiduSim2\n",
    "\n",
    "# 请登录“量易伏”平台（https://quantum-hub.baidu.com/）获取 Token\n",
    "# Define.hubToken = \"Token\"\n",
    "# qc = BackendName.CloudBaiduQPUQian\n",
    "\n",
    "# Initialize a StateTomography instance\n",
    "st = StateTomography()\n",
    "# Call the tomography procedure and obtain the noisy quantum state\n",
    "qubits = [0, 1]\n",
    "st.fit(qp, qc, qubits=qubits, method='lstsq', shots=4096, ptm=False)"
   ]
  },
  {
   "cell_type": "markdown",
   "metadata": {},
   "source": [
    "量子信息中，我们常用保真度（fidelity）来衡量两个量子态的接近程度，因此我们用保真度（fidelity）来评估我们 QST 的效果优劣。"
   ]
  },
  {
   "cell_type": "code",
   "execution_count": null,
   "metadata": {
    "jupyter": {
     "outputs_hidden": false
    },
    "pycharm": {
     "is_executing": true
    }
   },
   "outputs": [],
   "source": [
    "print('Fidelity of the Bell state on qubits {} is: F = {:.5f}'.format(qubits, st.fidelity))"
   ]
  },
  {
   "cell_type": "markdown",
   "source": [
    "我们可以读取层析得到的量子态 PTM 矩阵和它的理想矩阵，对比查看噪声的影响："
   ],
   "metadata": {
    "collapsed": false
   }
  },
  {
   "cell_type": "code",
   "execution_count": null,
   "outputs": [],
   "source": [
    "print(\"The PTM of the ideal state is:\")\n",
    "print(st.ideal_state)\n",
    "print(\"The PTM of the noisy state is:\")\n",
    "print(st.noisy_state)"
   ],
   "metadata": {
    "collapsed": false,
    "pycharm": {
     "is_executing": true
    }
   }
  },
  {
   "cell_type": "markdown",
   "source": [
    "我们也可以层析其他量子比特上的贝尔态保真度，只需要设置目标量子比特即可："
   ],
   "metadata": {
    "collapsed": false
   }
  },
  {
   "cell_type": "code",
   "execution_count": null,
   "outputs": [],
   "source": [
    "qubits = [1, 2]\n",
    "st.fit(qp, qc, qubits=qubits, method='lstsq', shots=4096, ptm=False)\n",
    "print('Fidelity of the Bell state on qubits {} is: F = {:.5f}'.format(qubits, st.fidelity))"
   ],
   "metadata": {
    "collapsed": false,
    "pycharm": {
     "is_executing": true
    }
   }
  },
  {
   "cell_type": "markdown",
   "metadata": {},
   "source": [
    "## 总结\n",
    "\n",
    "本教程旨在介绍 QST 的原理以及如何在[百度量子平台](https://quantum.baidu.com/)上实现。"
   ]
  },
  {
   "cell_type": "markdown",
   "metadata": {},
   "source": [
    "## 参考资料\n",
    "[1] Greenbaum, Daniel. \"Introduction to quantum gate set tomography.\" [arXiv](https://arxiv.org/abs/1509.02921) preprint arXiv:1509.02921 (2015).\n"
   ]
  }
 ],
 "metadata": {
  "kernelspec": {
   "display_name": "Python 3",
   "language": "python",
   "name": "python3"
  },
  "language_info": {
   "codemirror_mode": {
    "name": "ipython",
    "version": 3
   },
   "file_extension": ".py",
   "mimetype": "text/x-python",
   "name": "python",
   "nbconvert_exporter": "python",
   "pygments_lexer": "ipython3",
   "version": "3.8.5"
  }
 },
 "nbformat": 4,
 "nbformat_minor": 4
}

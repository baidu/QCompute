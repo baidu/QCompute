{
 "cells": [
  {
   "cell_type": "markdown",
   "metadata": {},
   "source": [
    "# 量子谱层析\n",
    "\n",
    "*版权所有 (c) 2022 百度量子计算研究所，保留所有权利。*\n",
    "\n",
    "## 内容概要\n",
    "在迈向大规模量子计算的道路上，一个核心挑战是提高量子门保真度。那么如何衡量一个量子门的保真度也成为了一个值得思考的问题。\n",
    "量子谱层析 (Spectral Quantum Tomography, SQT) 可以有效地提取含噪的量子门的谱信息，并且能够抵抗量子态制备过程和测量（State Preparation and Measurement, SPAM）中的噪声。该方法最大的优点就是简便高效，只需要重复地利用目标量子门 $\\mathcal{N}$，这一点远远优于随机基准测量、量子门层析和增强层析等方法。另外一个优点是该方法可以提取不具备马尔可夫性质量子门的信息。\n",
    "\n",
    "本教程将介绍谱层析的理论及其在[百度量子平台](https://quantum.baidu.com/)上的实践。\n"
   ]
  },
  {
   "cell_type": "markdown",
   "metadata": {},
   "source": [
    "## 理论\n",
    "\n",
    "### Pauli Transfer Matrix 表达\n",
    "一个含噪量子门 $\\mathcal{N}$ 的谱信息，可以通过求解它 PTM 表达下矩阵 $[\\mathcal{N}]$ 的特征值获取。我们知道，一个酉门可以被认为是一个半正定和保迹 (TPCP) 的线性映射。对 $n$ 量子比特的希尔伯特空间而言，我们用一组标准化的 Pauli 矩阵 $\\frac{1}{\\sqrt{2}}\\left\\{P_i\\right\\}$ ($i = 0, \\dots, N$ 其中 $N+1 = 4^n$) 组成该空间的一组基。在 PTM 表达下，我们可以通过以下式子来定义一个 TPCP 线性映射对应的 PTM 每个元素：\n",
    "\n",
    "$$\n",
    "    [\\mathcal{N}]_{ij} = \\textrm{Tr}\\left[ P_i \\mathcal{N}(P_{j})\\right],\\; i, j = 0, \\dots, N.\n",
    "$$\n",
    "\n",
    "我们可以将 PTM 表达重写为以下形式：\n",
    "\n",
    "$$\n",
    "    [\\mathcal{N}] = \\begin{pmatrix}\n",
    "        1 & 0 \\\\ \\mathbf{n} & T^\\mathcal{N}\n",
    "    \\end{pmatrix}.\n",
    "$$\n",
    "\n",
    "这里的 $T^\\mathcal{N}$ 是一个 $N \\times N$ 的实矩阵（因为是在 Pauli 基下展开的）， $\\mathbf{n}$ 是一个 $N$ 维度的列向量。\n",
    "由于 $\\mathcal{N}$ 是一个保迹的线性映射，它对应 PTM 的第一行首元素为 $1$ 其余元素全为 $0$ 。对应于一个酉门（$\\mathcal{N}(I) = I$），那么则有 $\\mathbf{n} = \\mathbf{0}$ 。\n"
   ]
  },
  {
   "cell_type": "markdown",
   "metadata": {},
   "source": [
    "### 谱层析方法\n",
    "我们将态制备过程中的噪声建模为一个未知的 TPCP 线性映射 $\\mathcal{N}_{prep}$，同样地我们将测量过程中的噪声建模为 $\\mathcal{N}_{meas}$。然后我们应用 $k$ 次的目标量子门 $\\mathcal{N}$，对应于$\\mathcal{N}^k$。我们设定 $k$ 的最大值为 $K$，对于 $k = 0,1,\\dots,K$ 我们定义以下序列：\n",
    "\n",
    "$$\n",
    "    g(k) = \\sum_i \\textrm{Tr} \\left[ P_i \\mathcal{N}_{meas} \\circ \\mathcal{N}^k \\circ \\mathcal{N}_{prep}(P_i)\\right].\n",
    "$$\n",
    "\n",
    "获取序列 $g(k)$ 的实验过程如下：\n",
    "1. 选取一个 Pauli 矩阵 $P_i$，满足 $\\textrm{Tr} \\left[P_i\\right] = 0$ 条件（也就是不选择 $I$ 作为输入）。\n",
    "2. 根据 (1) 过程中选择的 $P_i$ 构造态制备电路。（注意：态制备这一过程存在噪声，对应于上式的 $\\mathcal{N}_{prep}$）\n",
    "3. 将目标量子门作用 $k$ 次，并在后面铺上对应于 $P_i$ 的测量电路。（注意：该过程分别对应于 $\\mathcal{N}^k$ 和 $\\mathcal{N}_{meas}$）\n",
    "4. 更换 $k$ 的取值和不同的 $P_i$，重复 $(1-3)$ 步骤，然后处理实验数据。\n",
    "\n",
    "通过以上步骤我们最终会得到一个序列 $g(k)$ ，下面将介绍如何根据这一序列获取矩阵 $T$ 的特征值。\n",
    "我们先来看没有态制备和测量（SPAM）误差情况下如何处理这一序列，也就是说 $\\mathcal{N}_{meas}$ 和 $\\mathcal{N}_{prep}$ 对应于一个单位矩阵，我们则有下式：\n",
    "\n",
    "$$\n",
    "    g^{ideal}(k) = \\sum_{i} \\textrm{Tr} \\left[ P_i \\mathcal{N}^k(P_i)\\right] = \\sum_i (T^k)_{ii}\n",
    "    = \\textrm{Tr} \\left[T^k\\right] = \\sum_{i=1}^{N} \\lambda_i,\n",
    "$$\n",
    "\n",
    "这里的 $\\left\\{ \\lambda_i \\right\\}$ 都是矩阵 $T$ 的特征值（提示：最后一个等式需要 $T$ 满足相似对角化条件）。\n",
    "当 SPAM 误差不可被忽略时，我们则有：\n",
    "\n",
    "$$\n",
    "\\begin{aligned}\n",
    "    g(k) &= \\textrm{Tr} \\left[T_{meas} T^k T_{prep}\\right] = \\textrm{Tr} \\left[T_{meas} VD^kV^{-1} T_{prep}\\right] \\\\\n",
    "    &= \\textrm{Tr} \\left[V^{-1} T_{prep} T_{meas} V D^k\\right] \\\\\n",
    "    &= \\textrm{Tr} \\left[A_{SPAM} D^k\\right] \\\\\n",
    "    &= \\sum_i A_{i} \\lambda_i^k.\n",
    "\\end{aligned}\n",
    "$$\n",
    "\n",
    "这里的 $T_{meas}$ and $T_{prep}$ 分别对应于 $\\mathcal{N}_{meas}$ 和 $\\mathcal{N}_{prep}$ PTM 表达下 $T$ 子矩阵。"
   ]
  },
  {
   "cell_type": "markdown",
   "metadata": {},
   "source": [
    "### Matrix-pencil 方法\n",
    "Matrix-pencil 方法是一种经典的信号处理方法，可用于从含噪信号 $g(k)=\\sum_i A_{i}\\lambda_i^k$ 中获取特征值 $\\lambda_i$ 和 振幅系数 $A_{i}$ 。为了获取准确的特征值信息，该方法要求满足 $K \\geq 2N-2$ 条件，其中 $N = 4^n - 1$ 。然后我们介绍一个重要的参数，被称为 pencil 参数 $L$，它决定了矩阵 $Y$ 的形状。 $Y$ 矩阵的形状为 $(K-L+1) \\times (L+1)$ 的矩阵，它的具体形式为：\n",
    "\n",
    "$$\n",
    "\\begin{align}\n",
    "    Y = \\begin{pmatrix}\n",
    "        g(0) & g(1) & \\cdots & g(L) \\\\\n",
    "        g(1) & g(2) & \\cdots & g(L+1) \\\\\n",
    "        g(2) & & & \\vdots \\\\\n",
    "        \\vdots & & \\ddots & \\vdots \\\\\n",
    "        g(K-L) & \\cdots & \\cdots & g(K)\n",
    "    \\end{pmatrix} =\n",
    "    \\sum_{i=1}^{N} A_i \\begin{pmatrix}\n",
    "        1 & \\lambda_i & \\cdots & \\lambda_i^L \\\\\n",
    "        \\lambda_i & \\lambda_i^2 & \\cdots & \\lambda_i^{L+1} \\\\\n",
    "        \\lambda_i^2 & & & \\vdots \\\\\n",
    "        \\vdots & & \\ddots & \\vdots \\\\\n",
    "        \\lambda_i^{K-L} & \\cdots & \\cdots & \\lambda_i^{K}\n",
    "    \\end{pmatrix}.\n",
    "\\end{align}\n",
    "$$\n",
    "\n",
    "然后我们再介绍两个 $Y$ 矩阵的子矩阵：\n",
    "\n",
    "$$\n",
    "\\begin{align}\n",
    "    G_0 = \\begin{pmatrix}\n",
    "        g(0) & g(1) & \\cdots & g(L-1) \\\\\n",
    "        g(1) & g(2) & \\cdots & g(L) \\\\\n",
    "        g(2) & & & \\vdots \\\\\n",
    "        \\vdots & & \\ddots & \\vdots \\\\\n",
    "        g(K-L) & \\cdots & \\cdots & g(K-1)\n",
    "    \\end{pmatrix},\\;\n",
    "    G_1 = \\begin{pmatrix}\n",
    "        g(1) & g(2) & \\cdots & g(L) \\\\\n",
    "        g(2) & g(3) & \\cdots & g(L+1) \\\\\n",
    "        g(3) & & & \\vdots \\\\\n",
    "        \\vdots & & \\ddots & \\vdots \\\\\n",
    "        g(K-L+1) & \\cdots & \\cdots & g(K)\n",
    "    \\end{pmatrix}.\n",
    "\\end{align}\n",
    "$$\n",
    "\n",
    "下面将分有无噪声两种情况，分别求解序列对应的特征值。\n",
    "\n",
    "#### 处理无噪声信号\n",
    "\n",
    "通过 SVD ，我们可以将 $G_0$ 和 $G_1$ 改写为：\n",
    "\n",
    "$$\n",
    "\\begin{align}\n",
    "    G_1 &= \\Lambda_1 R \\Lambda_0 \\Lambda_2, \\\\\n",
    "    G_0 &= \\Lambda_1 R \\Lambda_2.\n",
    "\\end{align}\n",
    "$$\n",
    "\n",
    "我们不难发现以下关系：\n",
    "\n",
    "$$\n",
    "\\begin{align}\n",
    "    G_1 - \\lambda G_0 = \\Lambda_1 R \\left(\\Lambda_0 - \\lambda I\\right) \\Lambda_2,\n",
    "\\end{align}\n",
    "$$\n",
    "\n",
    "等效地，序列特征值求解问题转换成经典矩阵特征值求解问题，\n",
    "\n",
    "$$\n",
    "\\begin{align}\n",
    "    G_0^+ G_1 - \\lambda I = 0,\n",
    "\\end{align}\n",
    "$$\n",
    "\n",
    "这里的 $G_0^+$ 是 $G_0$ 的广义逆矩阵，它的具体表达式如下：\n",
    "\n",
    "$$\n",
    "\\begin{align}\n",
    "    G_0^+ = \\left(G_0^\\dagger G_0\\right)^{-1} G_0^\\dagger.\n",
    "\\end{align}\n",
    "$$\n",
    "\n",
    "#### 处理含噪声信号\n",
    "\n",
    "对矩阵 $Y$ 进行 SVD 处理：\n",
    "\n",
    "$$\n",
    "\\begin{align}\n",
    "    Y = U \\Sigma V^\\dagger.\n",
    "\\end{align}\n",
    "$$\n",
    "\n",
    "这里的 $U$ 和 $V$ 都是酉矩阵，由 $YY^\\dagger$ 和 $Y^\\dagger Y$ 的特征值组成；$\\Sigma$ 是一个包含矩阵 $Y$ 奇异值的对角矩阵。\n",
    "然后我们考虑一个『过滤』矩阵，$V^{'}$, 仅包含 $V$的 $N$ 个最大奇异值对应的列向量：\n",
    "\n",
    "$$\n",
    "\\begin{align}\n",
    "    V = \\left[v_1, v_2, \\dots, v_N\\right],\n",
    "\\end{align}\n",
    "$$\n",
    "\n",
    "因此我们有：\n",
    "\n",
    "$$\n",
    "\\begin{align}\n",
    "    G_0 &= U \\Sigma^{'} V_0^{'\\dagger}, \\\\\n",
    "    G_1 &= U \\Sigma^{'} V_1^{'\\dagger},\n",
    "\\end{align}\n",
    "$$\n",
    "\n",
    "这里我们通过相似的『过滤』操作得到 $V_0^{'\\dagger}$ 、$V_1^{'\\dagger}$ 以及 $\\Sigma^{'}$。\n",
    "\n",
    "$$\n",
    "\\begin{align}\n",
    "    G_1 - \\lambda G_0 \\Rightarrow G_0 G_1^+ - \\lambda I.\n",
    "\\end{align}\n",
    "$$\n",
    "\n",
    "上式中对应的特征值等效于求解如下矩阵的特征值：\n",
    "\n",
    "$$\n",
    "\\begin{align}\n",
    "    V_1^{'\\dagger} - \\lambda V_0^{'\\dagger} \\Rightarrow V_0^{'\\dagger} \\left(V_1^{'\\dagger}\\right)^+ - \\lambda I.\n",
    "\\end{align}\n",
    "$$"
   ]
  },
  {
   "cell_type": "markdown",
   "metadata": {},
   "source": [
    "## 实践\n",
    "\n",
    "### 单量子比特门\n",
    "首先，我们需要导入一些必要的包。"
   ]
  },
  {
   "cell_type": "code",
   "execution_count": 7,
   "metadata": {
    "jupyter": {
     "outputs_hidden": false
    }
   },
   "outputs": [],
   "source": [
    "import numpy as np\n",
    "import QCompute\n",
    "import Extensions.QuantumErrorProcessing.qcompute_qep.tomography as tomography\n",
    "import Extensions.QuantumErrorProcessing.qcompute_qep.quantum.channel as channel\n",
    "import Extensions.QuantumErrorProcessing.qcompute_qep.utils.circuit"
   ]
  },
  {
   "cell_type": "markdown",
   "metadata": {},
   "source": [
    "然后，我们需要搭建一个理想的 $R_x(\\frac{1}{4} \\pi)$ 门，并计算理想情况下它 PTM 表达下的特征值。"
   ]
  },
  {
   "cell_type": "code",
   "execution_count": null,
   "metadata": {
    "jupyter": {
     "outputs_hidden": false
    },
    "pycharm": {
     "is_executing": true
    }
   },
   "outputs": [],
   "source": [
    "qp = QCompute.QEnv()  # qp is short for \"quantum program\", instance of QProgram\n",
    "qp.Q.createList(1)\n",
    "\n",
    "QCompute.RX(np.math.pi / 4)(qp.Q[0])\n",
    "\n",
    "# Compute numerically the ideal R_x for reference\n",
    "ideal_rx = Extensions.QuantumErrorProcessing.qcompute_qep.utils.circuit.circuit_to_unitary(qp)\n",
    "ideal_ptm = channel.unitary_to_ptm(ideal_rx).data\n",
    "print(\"the ideal Rotation x is \\n\", ideal_rx)\n",
    "print(\"the ideal PTM of rotation x is \\n\", ideal_ptm)\n",
    "\n",
    "# calculate the eigenvalues of PTM representation\n",
    "ideal_eigenvalues, _ = np.linalg.eig(ideal_ptm[1:, 1:])\n",
    "print(\"the ideal eigenvalues of PTM representation is \\n\", ideal_eigenvalues)\n"
   ]
  },
  {
   "cell_type": "markdown",
   "metadata": {},
   "source": [
    "接下来我们需要选择量子计算机的类型，可以选择模拟器或量子计算机真机，这里我们选择的是百度本地量子模拟器。剩下的步骤就很简单了，只需要调用我们的 SpectralTomography 模块则可完成特征值的提取。"
   ]
  },
  {
   "cell_type": "code",
   "execution_count": null,
   "metadata": {
    "jupyter": {
     "outputs_hidden": false
    },
    "pycharm": {
     "is_executing": true
    }
   },
   "outputs": [],
   "source": [
    "# 使用本地模拟器\n",
    "qc = QCompute.BackendName.LocalBaiduSim2\n",
    "\n",
    "# 请登录“量易伏”平台（https://quantum-hub.baidu.com/）获取 Token\n",
    "# QCompute.Define.hubToken = \"Token\"\n",
    "# qc = QCompute.BackendName.CloudBaiduQPUQian\n",
    "\n",
    "st = tomography.SpectralTomography()\n",
    "noisy_eigvals = st.fit(qp, qc, k=50, l=30)\n",
    "\n",
    "print(\"the eigenvalues we estimate is \", noisy_eigvals)"
   ]
  },
  {
   "cell_type": "markdown",
   "metadata": {},
   "source": [
    "我们可以利用 matplotlib 来进行数据可视化。"
   ]
  },
  {
   "cell_type": "code",
   "execution_count": null,
   "metadata": {
    "jupyter": {
     "outputs_hidden": false
    }
   },
   "outputs": [],
   "source": [
    "import matplotlib.pyplot as plt\n",
    "from cmath import *\n",
    "\n",
    "ax = plt.subplot(polar=True)\n",
    "\n",
    "ax.set_rlim(0.99, 1.01)\n",
    "noisy_data = np.zeros((2, np.size(noisy_eigvals)), dtype=float)\n",
    "ideal_data = np.zeros((2, np.size(ideal_eigenvalues)), dtype=float)\n",
    "for i, val in enumerate(noisy_eigvals):\n",
    "    noisy_data[:, i] = np.asarray(polar(val))\n",
    "\n",
    "for i, val in enumerate(ideal_eigenvalues):\n",
    "    ideal_data[:, i] = np.asarray(polar(val))\n",
    "\n",
    "ax.scatter(noisy_data[1, :], noisy_data[0, :], c='blue', label='noisy')\n",
    "ax.scatter(ideal_data[1, :], ideal_data[0, :], c='red', label='ideal')\n",
    "plt.legend()\n",
    "plt.show()"
   ]
  },
  {
   "cell_type": "markdown",
   "metadata": {},
   "source": [
    "\n",
    "![SQT](./figures/sqt-rx-output.png \"图1：我们对单比特测试结果进行可视化。\")\n"
   ]
  },
  {
   "cell_type": "markdown",
   "metadata": {},
   "source": [
    "### 双量子比特门\n",
    "\n",
    "同样地，我们首先创建一个包含 CNOT 门的量子程序，并计算它的理想特征值。"
   ]
  },
  {
   "cell_type": "code",
   "execution_count": null,
   "metadata": {
    "jupyter": {
     "outputs_hidden": false
    },
    "pycharm": {
     "is_executing": true
    }
   },
   "outputs": [],
   "source": [
    "qp = QCompute.QEnv()  # qp is short for \"quantum program\", instance of QProgram\n",
    "qp.Q.createList(2)\n",
    "\n",
    "# Manually decompose the CNOT gate using the CZ gate, where CNOT: q1 -> q0\n",
    "QCompute.H(qp.Q[0])\n",
    "QCompute.CZ(qp.Q[1], qp.Q[0])\n",
    "QCompute.H(qp.Q[0])\n",
    "\n",
    "# Compute numerically the ideal CNOT for reference\n",
    "ideal_cnot = Extensions.QuantumErrorProcessing.qcompute_qep.utils.circuit.circuit_to_unitary(qp)\n",
    "ideal_ptm = channel.unitary_to_ptm(ideal_cnot).data\n",
    "print(\"the ideal CNOT is \\n\", ideal_cnot)\n",
    "print(\"the ideal PTM of CNOT is \\n\", ideal_ptm[1:, 1:])\n",
    "\n",
    "# calculate the eigenvalues of PTM representation\n",
    "ideal_eigenvalues, _ = np.linalg.eig(ideal_ptm)\n",
    "print(\"the ideal eigenvalues of PTM representation is \\n\", ideal_eigenvalues)\n",
    "\n",
    "qc = QCompute.BackendName.CloudBaiduQPUQian"
   ]
  },
  {
   "cell_type": "markdown",
   "metadata": {},
   "source": [
    "\n",
    "我们都知道 CNOT 门对应的 $T^\\mathcal{N}$ 包含 $15$ 个特征值，但这里包含很多数值相同的特征值（实际特征值为 $\\pm 1$ ）。我们可以通过改变参数 $N$ 来让我们的实验结果更加逼近理论值，这里我们选择的是 $N=2$。"
   ]
  },
  {
   "cell_type": "code",
   "execution_count": null,
   "metadata": {
    "jupyter": {
     "outputs_hidden": false
    },
    "pycharm": {
     "is_executing": true
    }
   },
   "outputs": [],
   "source": [
    "# Initialize a ProcessTomography instance\n",
    "st = tomography.SpectralTomography()\n",
    "# Call the tomography procedure and obtain the noisy CNOT gate\n",
    "noisy_eigvals = st.fit(qp, qc, k=50, l=30, N=2)"
   ]
  },
  {
   "cell_type": "markdown",
   "metadata": {},
   "source": [
    "我们可以利用 matplotlib 来进行数据可视化。"
   ]
  },
  {
   "cell_type": "code",
   "execution_count": null,
   "metadata": {
    "jupyter": {
     "outputs_hidden": false
    }
   },
   "outputs": [],
   "source": [
    "import matplotlib.pyplot as plt\n",
    "from cmath import *\n",
    "\n",
    "ax = plt.subplot(polar=True)\n",
    "\n",
    "ax.set_rlim(0.99, 1.01)\n",
    "noisy_data = np.zeros((2, np.size(noisy_eigvals)), dtype=float)\n",
    "ideal_data = np.zeros((2, np.size(ideal_eigenvalues)), dtype=float)\n",
    "\n",
    "for i, val in enumerate(noisy_eigvals):\n",
    "    noisy_data[:, i] = np.asarray(polar(val))\n",
    "\n",
    "for i, val in enumerate(ideal_eigenvalues):\n",
    "    ideal_data[:, i] = np.asarray(polar(val))\n",
    "\n",
    "# print(\"ideal data:\\n\", ideal_data)\n",
    "# print(\"noisy data:\\n\", noisy_data)\n",
    "\n",
    "ax.scatter(noisy_data[1, :], noisy_data[0, :], c='blue', label='noisy')\n",
    "ax.scatter(ideal_data[1, :], ideal_data[0, :], c='red', label='ideal')\n",
    "plt.legend()\n",
    "plt.show()\n"
   ]
  },
  {
   "cell_type": "markdown",
   "metadata": {},
   "source": [
    "\n",
    "![SQT example](./figures/sqt-cnot-output.png \"图2：我们对双比特测试结果进行可视化。\")\n"
   ]
  },
  {
   "cell_type": "markdown",
   "metadata": {},
   "source": [
    "## 总结\n",
    "本教程旨在介绍 SQT 的原理以及如何在百度量子计算平台上实现。"
   ]
  },
  {
   "cell_type": "markdown",
   "metadata": {},
   "source": [
    "## 参考资料\n",
    "[1] Helsen, Jonas, Francesco Battistel, and Barbara M. Terhal. \"Spectral quantum tomography.\" [npj Quantum Information](https://www.nature.com/articles/s41534-019-0189-0) 5.1 (2019): 1-11.\n",
    "\n",
    "[2] Sarkar, Tapan K., and Odilon Pereira. \"Using the matrix pencil method to estimate the parameters of a sum of complex exponentials.\" [IEEE Antennas and Propagation Magazine](https://ieeexplore.ieee.org/abstract/document/370583/) 37.1 (1995): 48-55."
   ]
  }
 ],
 "metadata": {
  "kernelspec": {
   "display_name": "Python 3",
   "language": "python",
   "name": "python3"
  },
  "language_info": {
   "codemirror_mode": {
    "name": "ipython",
    "version": 3
   },
   "file_extension": ".py",
   "mimetype": "text/x-python",
   "name": "python",
   "nbconvert_exporter": "python",
   "pygments_lexer": "ipython3",
   "version": "3.8.5"
  }
 },
 "nbformat": 4,
 "nbformat_minor": 4
}

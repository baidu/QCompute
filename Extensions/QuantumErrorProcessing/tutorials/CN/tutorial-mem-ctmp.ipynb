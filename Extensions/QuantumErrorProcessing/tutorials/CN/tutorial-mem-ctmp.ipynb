{
 "cells": [
  {
   "cell_type": "markdown",
   "metadata": {
    "collapsed": false,
    "pycharm": {
     "name": "#%% md\n"
    }
   },
   "source": [
    "# 量子测量噪声缓释——局域噪声模型\n",
    "\n",
    "*版权所有 (c) 2022 百度量子计算研究所，保留所有权利。*"
   ]
  },
  {
   "cell_type": "markdown",
   "metadata": {
    "collapsed": false,
    "pycharm": {
     "name": "#%% md\n"
    }
   },
   "source": [
    "## 内容概要\n",
    "\n",
    "串扰噪声是测量过程中一类复杂的噪声来源，对串扰噪声的高效的刻画方法对提高测量结果的缓释精度有很重要的意义。本教程将介绍一种可以高效刻画并缓释串扰噪声的理论及其在[百度量子平台](https://quantum.baidu.com/)上的实践。"
   ]
  },
  {
   "cell_type": "markdown",
   "metadata": {
    "collapsed": false,
    "pycharm": {
     "name": "#%% md\n"
    }
   },
   "source": [
    "## 理论\n",
    "我们已经介绍过测量噪声缓释可以分为两个过程，第一步是校准，通过制备校准电路，构建校准矩阵，从而获得噪声的信息，这一步可以通过**无结构校准**和**张量积校准**两种方式进行；第二步是缓释，通过获取的校准矩阵，我们可以对测量结果进行噪声缓释，这一步有许多方法，例如**矩阵逆方法** [1]，**最小二乘法**，**迭代贝叶斯方法**（Iterative Bayesian Unfolding，IBU）[2]，**Neumann 方法** [3]等。\n",
    "\n",
    "### 局域噪声校准\n",
    "\n",
    "上述的**无结构校准**很耗费资源，而**张量积校准**又要求不存在串扰（这在实验上并不是容易满足的条件）。IBM 提出一种基于连续时间马尔科夫过程（Continuous Time Markov Process，CTMP）[4] 来对测量噪声进行建模的方法，这种方法相比**张量积校准**可以很好地刻画串扰噪声，相比**无结构校准**又能节省很多资源。CTMP 方法认为，校准矩阵 $R$ 可以看作是微分方程\n",
    "\n",
    "$$\n",
    "\\begin{align}\n",
    "\\dot{R}(t) = GR(t)\n",
    "\\end{align}\n",
    "$$\n",
    "\n",
    "的解，该微分方程的初始值是 $R(0)=I$。此时 $G$ 是一个连续时间马尔科夫过程的生成子，$\\langle y\\vert G \\vert x\\rangle$ 就表示从态 $x$ 转换到态 $y$ 且 $y\\neq x$ 的概率。解微分方程我们可以得到校准矩阵的表达式\n",
    "\n",
    "$$\n",
    "\\begin{align}\n",
    "R = e^G.\n",
    "\\end{align}\n",
    "$$\n",
    "\n",
    "这也就意味着校准矩阵 $R$ 由生成矩阵 $G$ 唯一确定，而 $G$ 的表达式为\n",
    "\n",
    "$$\n",
    "\\begin{align}\n",
    "G = \\sum_{i}λ_i G_i,\n",
    "\\end{align}\n",
    "$$\n",
    "\n",
    "其中 $λ_i$ 表示为由于错误概率，由实验上的校准数据获得，$G_i$ 是用于描述该错误所对应的生成器，是可以直接理论计算得到的值。\n",
    "\n",
    "由于 $λ_i$ 刻画了串扰噪声，在讨论如何确定 $λ_i$ 之前，我们需要先确定串扰噪声的定义。串扰噪声与比特数有关，当给定的 $k$ 量子比特制备输入基态并进行测量，得到的输出态与输入态完全相反（即 $k$ 个量子比特全部被翻转），那么我们说这 $k$ 量子比特之间存在 $k$ 阶串扰噪声。直观上而言，$k$ 阶串扰噪声意味着这 $k$ 个量子比特是全关联的。假设我们要刻画 $S=\\left\\{Q_0,⋯,Q_{k-1} \\right\\}$ 这 $k$ 个量子比特的 $k$ 阶串扰噪声，我们先基于无结构模型从校准数据集计算得到 $2^k×2^k$ 的校准矩阵 $R^S$，那么该矩阵的 $2^k$ 个反向对角元素刻画了 $k$ 比特输出态与输入态完全相反的概率，即 $k$ 个量子比特全部翻转的概率。我们对 $R^S$ 求矩阵对数 ，所得矩阵的 $2^k$ 个反向对角元素定义为 $S$ 的 $k$ 阶串扰噪声权重系数 $\\left\\{λ_i \\right\\}_{i=0}^{2^k-1}$，它们完全刻画 $S$ 所表示的 $k$ 个量子比特存在的 $k$ 阶串扰噪声：\n",
    "\n",
    "$$\n",
    "\\begin{align}\n",
    "\\left\\{λ_i \\right\\}_{i=0}^{2^k-1}=antidiag \\left(\\log\\left(R^S \\right)\\right),\n",
    "\\end{align}\n",
    "$$\n",
    "\n",
    "其中 $antidiag(R)$ 表示选取矩阵 $R$ 的所有反向对角元素（选取顺序为从左下角到右上角），而 $log(R)$ 表示矩阵对数运算。由权重系数的定义可知，$k$ 阶串扰噪声被 $2^k$ 个元素描述，每一个权重系数 $λ_i$ 刻画了一个具体的 $k$ 个量子比特翻转错误，该错误我们使用一个 $2^n×2^n$ 的生成器 $G_i$ 描述：\n",
    "\n",
    "$$\n",
    "\\begin{align}\n",
    "G_i  = |2^n-1 \\oplus i⟩⟨i|-|i⟩⟨i|,\n",
    "\\end{align}\n",
    "$$\n",
    "\n",
    "其中 $\\oplus$ 表示二进制异或操作 ，$2^n-1 \\oplus i$ 表示将正整数 $i$ 二进制展开之后按位取反。直观上，$G_i$ 刻画了事件：“输入标准基量子态 $|i⟩$，输出要么是比特串 $i$，要么是完全翻转比特串 $2^n-1 \\oplus i$”。这里需要强调的是，$G_i$ 默认张量到整个 $n$ 量子比特空间，因而是 $2^n×2^n$ 的矩阵。穷举 $i\\in\\left\\{0,⋯,2^k-1\\right\\}$，我们一共得到 $2^k$ 个生成器。\n",
    "\n",
    "实验表明，当两个量子比特之间不互联且相隔很远时，这两个比特之间的串扰很弱，于是我们可以利用这个性质，结合硬件本身的拓扑结构来选择量子测量设备中哪 $k$ 个量子比特之间需要考虑 $k$ 阶串扰噪声。一般而言，含有 $n$ 个量子比特的硬件拓扑结构可使用简单无向图 $Ω=(V,E)$ 描述，其中 $V$ 是节点集合（对应硬件中的量子比特），而 $E$ 是边集合（刻画硬件中量子比特的互联性）。我们假设硬件中某 $k$ 个量子比特之间存在 $k$ 阶串扰噪声，当且仅当该 $k$ 个量子比特对应的节点集合是简单无向图中的 $k$ 阶连通子图。直观上而言，如果这 $k$ 个量子比特对应的节点在无向图上是互相连通的，那么我们认为它们之间会存在 $k$ 阶串扰噪声。\n",
    "\n",
    "事实上，我们不难发现，**无结构模型和张量积模型是局域噪声模型的两种特殊情况**，当我们只考虑 $k=1$ 阶串扰噪声时，就是张量积模型，当我们考虑 $k=n$ 阶串扰噪声时，就是无结构模型。\n",
    "### 局域噪声修正\n",
    "\n",
    "当我们使用**局域噪声校准**方法，获得生成矩阵 $G$ 后，我们可以将校准矩阵的逆 $R^{-1}$ 进行展开，从而对测量结果进行噪声缓释。令\n",
    "\n",
    "$$\n",
    "\\begin{equation}\n",
    "    \\gamma = \\max_{x\\in\\left\\{0, 1\\right\\}^n}{-\\langle x\\vert G\\vert x \\rangle}.\n",
    "\\end{equation}\n",
    "$$\n",
    "\n",
    "定义矩阵\n",
    "\n",
    "$$\n",
    "\\begin{equation}\n",
    "    B = I + \\gamma^{-1}G,\n",
    "\\end{equation}\n",
    "$$\n",
    "\n",
    "可以得到\n",
    "\n",
    "$$\n",
    "\\begin{equation}\n",
    "    R^{-1} = e^{-G} = e^{\\gamma} \\cdot e^{-\\gamma B} = \\sum_{\\alpha=0}^{\\infty}\\frac{e^{\\gamma}\\left(-\\gamma\\right)^\\alpha}{\\alpha!}B^{\\alpha}.\n",
    "\\end{equation}\n",
    "$$\n",
    "\n",
    "而 $\\alpha$ 的取值可以通过两次迭代的距离小于某个阈值来截断。"
   ]
  },
  {
   "cell_type": "markdown",
   "metadata": {
    "collapsed": false,
    "pycharm": {
     "name": "#%% md\n"
    }
   },
   "source": [
    "## 实践\n",
    "\n",
    "### 计算任务描述\n",
    "\n",
    "下面我们通过一个 GHZ 态来进行测量噪声缓释的展示。\n",
    "\n",
    "我们首先生成大量 $2$ 量子比特的 GHZ 态（严格来讲应该叫 Bell 态，为了描述方便，教程中统一为 GHZ 态），在 $Z$ 基下进行测量，得到输出态的统计信息，然后构造观测算符\n",
    "\n",
    "$$\n",
    "\\begin{equation}\n",
    "O = {\\vert0\\rangle\\langle0\\vert}^{\\otimes2}+{\\vert1\\rangle\\langle1\\vert}^{\\otimes2},\n",
    "\\end{equation}\n",
    "$$\n",
    "\n",
    "求它的期望值，理想情况下，结果应该是 1，然而如果有噪声影响，期望值将会不等于 $1$。"
   ]
  },
  {
   "cell_type": "markdown",
   "metadata": {
    "collapsed": false,
    "pycharm": {
     "name": "#%% md\n"
    }
   },
   "source": [
    "### 含噪结果"
   ]
  },
  {
   "cell_type": "markdown",
   "metadata": {
    "collapsed": false,
    "pycharm": {
     "name": "#%% md\n"
    }
   },
   "source": [
    "首先我们导入必要的库"
   ]
  },
  {
   "cell_type": "code",
   "execution_count": null,
   "metadata": {
    "collapsed": false,
    "pycharm": {
     "name": "#%%\n"
    }
   },
   "outputs": [],
   "source": [
    "import copy\n",
    "import numpy as np\n",
    "import functools\n",
    "import networkx as nx\n",
    "import matplotlib.pyplot as plt\n",
    "import seaborn\n",
    "import pandas\n",
    "from QCompute import *\n",
    "\n",
    "from Extensions.QuantumErrorProcessing.qcompute_qep.measurement.correction import CTMPCorrector\n",
    "from Extensions.QuantumErrorProcessing.qcompute_qep.measurement.utils import plot_histograms, dict2vector\n",
    "from Extensions.QuantumErrorProcessing.qcompute_qep.utils import expval_from_counts\n",
    "from Extensions.QuantumErrorProcessing.qcompute_qep.utils.types import get_qc_name\n",
    "from Extensions.QuantumErrorProcessing.qcompute_qep.utils.circuit import execute"
   ]
  },
  {
   "cell_type": "markdown",
   "metadata": {
    "collapsed": false,
    "pycharm": {
     "name": "#%% md\n"
    }
   },
   "source": [
    "然后我们需要从量易伏中获取 Token，来使用量子计算真机"
   ]
  },
  {
   "cell_type": "code",
   "execution_count": null,
   "metadata": {
    "collapsed": false,
    "pycharm": {
     "name": "#%%\n"
    }
   },
   "outputs": [],
   "source": [
    "# 请登录“量易伏”平台（https://quantum-hub.baidu.com/）获取 Token\n",
    "Define.hubToken = \"TOKEN\"\n",
    "\n",
    "# Set the default maximal number of measurement shots\n",
    "MAX_SHOTS = 8192"
   ]
  },
  {
   "cell_type": "markdown",
   "metadata": {
    "collapsed": false,
    "pycharm": {
     "name": "#%% md\n"
    }
   },
   "source": [
    "我们开始构造 GHZ 态对应的量子电路，并通过 $Z$ 方向上的测量来获取输出态的统计结果"
   ]
  },
  {
   "cell_type": "code",
   "execution_count": null,
   "metadata": {
    "collapsed": false,
    "pycharm": {
     "name": "#%%\n"
    }
   },
   "outputs": [],
   "source": [
    "qp = QEnv()\n",
    "n = 2\n",
    "qp.Q.createList(n)\n",
    "H(qp.Q[0])\n",
    "for i in range(1, n):\n",
    "    CX(qp.Q[0], qp.Q[i])\n",
    "\n",
    "MeasureZ(*qp.Q.toListPair())"
   ]
  },
  {
   "cell_type": "markdown",
   "metadata": {
    "collapsed": false,
    "pycharm": {
     "name": "#%% md\n"
    }
   },
   "source": [
    "然后我们构造观测量算符 $O$"
   ]
  },
  {
   "cell_type": "code",
   "execution_count": null,
   "metadata": {
    "collapsed": false,
    "pycharm": {
     "name": "#%%\n"
    }
   },
   "outputs": [],
   "source": [
    "proj0 = np.array([[1, 0], [0, 0]]).astype(complex)\n",
    "proj1 = np.array([[0, 0], [0, 1]]).astype(complex)\n",
    "O = functools.reduce(np.kron, [proj0] * n) + functools.reduce(np.kron, [proj1] * n)"
   ]
  },
  {
   "cell_type": "markdown",
   "metadata": {
    "collapsed": false,
    "pycharm": {
     "name": "#%% md\n"
    }
   },
   "source": [
    "选择用来计算的量子计算机，其中 LocalBaiduSim2 是理想模拟器，而 CloudBaiduQPUQian 是百度量子计算研究所提供的量子真机"
   ]
  },
  {
   "cell_type": "code",
   "execution_count": null,
   "metadata": {
    "collapsed": false,
    "pycharm": {
     "name": "#%%\n"
    }
   },
   "outputs": [],
   "source": [
    "ideal_qc = BackendName.LocalBaiduSim2\n",
    "\n",
    "noisy_qc = BackendName.CloudBaiduQPUQian\n",
    "\n",
    "noisy_qc_name = get_qc_name(noisy_qc)"
   ]
  },
  {
   "cell_type": "markdown",
   "metadata": {
    "collapsed": false,
    "pycharm": {
     "name": "#%% md\n"
    }
   },
   "source": [
    "获取量子计算机的执行结果（即输出态的统计信息），利用统计信息计算观测算符 $O$ 的期望值"
   ]
  },
  {
   "cell_type": "code",
   "execution_count": null,
   "metadata": {
    "collapsed": false,
    "pycharm": {
     "name": "#%%\n"
    }
   },
   "outputs": [],
   "source": [
    "# WARNING! We must deep copy the quantum program since `execute` will destroy the quantum program\n",
    "\n",
    "# Ideal case.\n",
    "counts_ideal = execute(qp=copy.deepcopy(qp), qc=ideal_qc, shots=MAX_SHOTS)\n",
    "val_ideal = expval_from_counts(O, counts_ideal)\n",
    "\n",
    "print(\"The ideal expectation value is: {}\".format(val_ideal))\n",
    "\n",
    "# Noisy case.\n",
    "counts_noisy = execute(qp=copy.deepcopy(qp), qc=noisy_qc, shots=MAX_SHOTS)\n",
    "val_noisy = expval_from_counts(O, counts_noisy)\n",
    "\n",
    "print(\"The noisy expectation value is: {}\".format(val_noisy))"
   ]
  },
  {
   "cell_type": "markdown",
   "metadata": {
    "collapsed": false,
    "pycharm": {
     "name": "#%% md\n"
    }
   },
   "source": [
    "### 修正结果"
   ]
  },
  {
   "cell_type": "markdown",
   "metadata": {
    "collapsed": false,
    "pycharm": {
     "name": "#%% md\n"
    }
   },
   "source": [
    "得到计算结果后，我们便可以对其中含噪的情况进行修正。如前所述，测量噪声缓释一共是两步走：校准+修正。值得一提的是，我们是对输出态的统计结果进行修正，再利用修正的统计结果进行期望值的计算。接下来对局域噪声模型的效果一一进行展示。我们需要强调，对于局域噪声修正，只能选取局域噪声校准。同时，我们也必须考虑到量子计算机的拓扑结构。为了方便用户的使用，我们内置了常见量子计算机的拓扑结构，若用户使用的量子计算机不在内置的拓扑结构中，需要用户使用 networkx 自行设置拓扑结构。在本演示中，我们选择的量子计算机的拓扑结构已经内置，此处的 $k$ 表示串扰噪声阶数，默认为 $2$。"
   ]
  },
  {
   "cell_type": "code",
   "execution_count": null,
   "metadata": {
    "collapsed": false,
    "pycharm": {
     "name": "#%%\n"
    }
   },
   "outputs": [],
   "source": [
    "corr_ctmp = CTMPCorrector(qc=noisy_qc, calibrator='ctmp', qubits=range(n), k=2)\n",
    "\n",
    "# If the topology of the quantum computer is not built-in, users should set the topology by themselves.\n",
    "# G = nx.Graph()\n",
    "# G.add_nodes_from([0, 1, 2, 3, 4])\n",
    "# G.add_edges_from([(0, 1), (1, 2), (1, 3), (3, 4)])\n",
    "# corr_ctmp = CTMPCorrector(qc=noisy_qc, calibrator='ctmp', qubits=range(n), topo=G)\n",
    "\n",
    "counts_ctmp = corr_ctmp.correct(counts_noisy)\n",
    "\n",
    "# Compute the expectation value from corrected counts\n",
    "val_ctmp = expval_from_counts(O, counts_ctmp)\n",
    "\n",
    "print(\"The 'CTMP Calibrator + CTMP Corrector' \"\n",
    "      \"mitigated expectation value is: {}\".format(val_ctmp))"
   ]
  },
  {
   "cell_type": "code",
   "execution_count": null,
   "metadata": {
    "collapsed": false,
    "pycharm": {
     "name": "#%%\n"
    }
   },
   "outputs": [],
   "source": []
  },
  {
   "cell_type": "markdown",
   "metadata": {
    "collapsed": false,
    "pycharm": {
     "name": "#%% md\n"
    }
   },
   "source": [
    "## 总结\n",
    "在我们的演示中，我们讨论 $2$ 阶串扰噪声的情况，在局域噪声模型中，结合量子计算机的拓扑结构，我们只使用了 $xx$ 个校准电路，相比无结构校准模型节省资源的同时又保证了准确性，而相比张量积模型又能更精准刻画测量噪声，这显示了局域噪声模型的优越性。"
   ]
  },
  {
   "cell_type": "markdown",
   "metadata": {
    "collapsed": false,
    "pycharm": {
     "name": "#%% md\n"
    }
   },
   "source": [
    "## 参考资料\n",
    "\n",
    "[1] Wikipedia contributors. \"Moore–Penrose inverse.\" [Wikipedia](https://en.wikipedia.org/w/index.php?title=Moore%E2%80%93Penrose_inverse&oldid=1022461613), 2021.\n",
    "\n",
    "[2] Nachman, Benjamin, et al. \"Unfolding quantum computer readout noise.\" [npj Quantum Information](https://arxiv.org/abs/1910.01969) 6.1 (2020): 1-7.\n",
    "\n",
    "[3] Wang, Kun, Yu-Ao Chen, and Xin Wang. \"Measurement Error Mitigation via Truncated Neumann Series.\" [arXiv](https://arxiv.org/abs/2103.13856) preprint arXiv:2103.13856, 2021.\n",
    "\n",
    "[4] Bravyi, Sergey, et al. \"Mitigating measurement errors in multiqubit experiments.\" [Physical Review A](https://journals.aps.org/pra/abstract/10.1103/PhysRevA.103.042605) 103.4 (2021): 042605."
   ]
  }
 ],
 "metadata": {
  "kernelspec": {
   "display_name": "Python 3",
   "language": "python",
   "name": "python3"
  },
  "language_info": {
   "codemirror_mode": {
    "name": "ipython",
    "version": 2
   },
   "file_extension": ".py",
   "mimetype": "text/x-python",
   "name": "python",
   "nbconvert_exporter": "python",
   "pygments_lexer": "ipython2",
   "version": "3.9.13 (v3.9.13:6de2ca5339, May 17 2022, 11:37:23) \n[Clang 13.0.0 (clang-1300.0.29.30)]"
  },
  "vscode": {
   "interpreter": {
    "hash": "aee8b7b246df8f9039afb4144a1f6fd8d2ca17a180786b69acc140d282b71a49"
   }
  }
 },
 "nbformat": 4,
 "nbformat_minor": 0
}
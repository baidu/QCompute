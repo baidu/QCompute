{
 "cells": [
  {
   "cell_type": "markdown",
   "metadata": {},
   "source": [
    "# 量子过程层析\n",
    "\n",
    "*版权所有 (c) 2022 百度量子计算研究所，保留所有权利。*\n",
    "\n",
    "## 内容概要\n",
    "在迈向大规模量子计算的道路上，一个核心挑战是如何精确操作量子比特。那么一个能够高效精确刻画量子操作过程的方法就显得十分重要。\n",
    "量子过程层析（Quantum Process Tomography, QPT）是一种可以通过测量来精确刻画量子过程具体表达形式的方法。\n",
    "本教程将介绍量子过程层析的理论及其在[百度量子平台](https://quantum.baidu.com/)上的实践。"
   ]
  },
  {
   "cell_type": "markdown",
   "metadata": {},
   "source": [
    "## 理论\n",
    "\n",
    "### Pauli Transfer Matrix 表达\n",
    "一个 $n$ 量子比特的量子信道 $\\mathcal{N}$ 可以用 Pauli Transfer Matrix（PTM）来表达为 $[\\mathcal{N}]$ ，它的元素定义如下：\n",
    "\n",
    "$$\n",
    "    [\\mathcal{N}]_{ij} = \\textrm{Tr} \\left[ P_i \\mathcal{N} (P_j) \\right],\n",
    "$$\n",
    "\n",
    "其中\n",
    "$$\n",
    "    P_i, P_j \\in \\left\\{ I / \\sqrt{2}, X / \\sqrt{2},  Y / \\sqrt{2},  Z / \\sqrt{2} \\right\\}^{\\otimes n}.\n",
    "$$\n",
    "\n",
    "记 $\\textrm{Tr} \\left[ P_i \\mathcal{N} (P_j) \\right] = \\langle\\langle i | [\\mathcal{N}] | j \\rangle\\rangle$，$|i\\rangle\\rangle,\\;|j\\rangle\\rangle$ 是 PTM 表达下 $P_i,\\;P_j$ 对应的基，则我们可以用一个 $4^n \\times 4^n$ 的矩阵来刻画一个量子信道\n",
    "\n",
    "$$\n",
    "\\begin{align}\n",
    "    [\\mathcal{N}] &= \\left( \\sum_i | i \\rangle\\rangle \\langle\\langle i | \\right) [\\mathcal{N}] \\left( \\sum_j | j \\rangle\\rangle \\langle\\langle j | \\right) \\\\\n",
    "    &= \\sum_{ij} | i \\rangle\\rangle \\langle\\langle i | [\\mathcal{N}]| j \\rangle\\rangle \\langle\\langle j |.\n",
    "\\end{align}\n",
    "$$\n",
    "\n"
   ]
  },
  {
   "cell_type": "markdown",
   "metadata": {},
   "source": [
    "### 过程层析方法\n",
    "\n",
    "与量子态层析（Quantum State Tomography, QST）相似，我们可以通过测量近似获得 $[\\mathcal{N}]$ 的每个元素。我们需要准备一组完备测量算符 $\\left\\{ E_m \\right\\}_{m=1}^M(M \\geq d^2)$ 和一组完备量子态 $\\left\\{ \\rho_n \\right\\}_{n=1}^N(N \\geq d^2)$，其中 $d = 2^n$ 。因此，我们一共可以得到 $M \\times N$ 个期望值（或称为概率值）：\n",
    "\n",
    "$$\n",
    "    \\forall m \\in [M], n \\in [N], p_{mn} := \\langle\\langle E_m | [\\mathcal{N}] | \\rho_n \\rangle\\rangle = \\textrm{Tr} \\left[ E_m \\mathcal{N}(\\rho_n) \\right].\n",
    "$$\n",
    "\n",
    "在其中插入完备的 Pauli 基，则有\n",
    "\n",
    "$$\n",
    "\\begin{align}\n",
    "    p_{mn} &= \\langle\\langle E_m | [\\mathcal{N}] | \\rho_n \\rangle\\rangle \\\\\n",
    "    &= \\langle\\langle E_m | \\left( \\sum_{j=1}^{d^2} | j \\rangle\\rangle \\langle\\langle j | \\right) [\\mathcal{N}] \\left( \\sum_{k=1}^{d^2} | k \\rangle\\rangle \\langle\\langle k | \\right) | \\rho_n \\rangle\\rangle \\\\\n",
    "    &= \\sum_{jk} \\langle\\langle E_m | j \\rangle\\rangle \\langle\\langle j | [\\mathcal{N}] | k \\rangle\\rangle \\langle\\langle k | \\rho_n \\rangle\\rangle,\n",
    "\\end{align}\n",
    "$$\n",
    "\n",
    "其中 $\\langle\\langle E_m | j \\rangle\\rangle$ 是 $E_m$ 在 Pauli 基下展开的第 $j$ 个元素，$\\langle\\langle k | \\rho_n \\rangle\\rangle$ 是 $\\rho_n$ 在 Pauli 基下展开的第 $k$ 个元素。\n",
    "因为测量算符 $\\left\\{ E_m \\right\\}$ 是实验前选取的，我们可以定义一个大小为 $M \\times d^2$ 的矩阵 $\\mathfrak{M}$ 来表示：\n",
    "\n",
    "$$\n",
    "\\begin{align}\n",
    "  \\mathfrak{M} = \\begin{pmatrix}\n",
    "    \\langle \\langle E_1 | 1 \\rangle \\rangle & \\langle \\langle E_1 | 2 \\rangle \\rangle & \\cdots & \\langle \\langle E_1 | d^2 \\rangle \\rangle \\\\\n",
    "    \\langle \\langle E_2 | 1 \\rangle \\rangle & \\langle \\langle E_2 | 2 \\rangle \\rangle & \\cdots & \\langle \\langle E_2 | d^2 \\rangle \\rangle \\\\\n",
    "    \\vdots & \\vdots & \\ddots & \\vdots \\\\\n",
    "    \\langle \\langle E_M | 1 \\rangle \\rangle & \\langle \\langle E_M | 2 \\rangle \\rangle & \\cdots & \\langle \\langle E_M | d^2 \\rangle \\rangle \\\\\n",
    "  \\end{pmatrix}.\n",
    "\\end{align}\n",
    "$$\n",
    "\n",
    "同理，$\\left\\{ \\rho_n \\right\\}$ 也可以用一个 $N \\times d^2$ 的矩阵 $\\mathfrak{P}$ 来表示。\n",
    "与 QST 相同的是，我们可以直接测量得到 $p_{mn}$ 的估计值 $\\hat{p_{mn}}$ ，如下图所示：\n",
    " \n",
    "![QPT](./figures/qpt-circuit.png \"图1：我们通过构造所示电路来获取估计值。\")\n",
    " \n",
    "因此我们的问题转换为求解下式中的 $\\left[\\mathcal{N}\\right]$ ：\n",
    "\n",
    "$$\n",
    "\\begin{align}\n",
    "  \\mathbf{P} = \\mathfrak{M} \\left[\\mathcal{N}\\right] \\mathfrak{P}^T,\n",
    "\\end{align}\n",
    "$$\n",
    "\n",
    "其中 $\\mathbf{P}$ 的元素为我们测量得到估计值，即 $P_{mn} = p_{mn}$。\n",
    "类似地，我们可以选择直接求逆的方式进行求解，也可以利用最小二乘法。\n",
    "最后我们来回顾一下整个流程：\n",
    " \n",
    "![QPT](./figures/qpt-chart.png \"图2：我们按照所示流程图来完成量子过程层析。\")\n",
    " "
   ]
  },
  {
   "cell_type": "markdown",
   "metadata": {},
   "source": [
    "## 实践\n",
    "\n",
    "下面我们将演示如何对一个 CNOT 门进行量子门层析。\n",
    "\n",
    "首先，我们导入一些必要的包。"
   ]
  },
  {
   "cell_type": "code",
   "execution_count": 14,
   "metadata": {
    "jupyter": {
     "outputs_hidden": false
    }
   },
   "outputs": [],
   "source": [
    "import numpy as np\n",
    "import QCompute\n",
    "import Extensions.QuantumErrorProcessing.qcompute_qep.tomography as tomography\n",
    "import Extensions.QuantumErrorProcessing.qcompute_qep.quantum.channel as channel\n",
    "import Extensions.QuantumErrorProcessing.qcompute_qep.utils.circuit\n",
    "import Extensions.QuantumErrorProcessing.qcompute_qep.quantum.metrics as metrics"
   ]
  },
  {
   "cell_type": "markdown",
   "metadata": {},
   "source": [
    "然后，我们搭建一个 CNOT 门。"
   ]
  },
  {
   "cell_type": "code",
   "execution_count": null,
   "metadata": {
    "jupyter": {
     "outputs_hidden": false
    },
    "pycharm": {
     "is_executing": true
    }
   },
   "outputs": [],
   "source": [
    "qp = QCompute.QEnv()  # qp is short for \"quantum program\", instance of QProgram\n",
    "qp.Q.createList(2)\n",
    "\n",
    "# Manually decompose the CNOT gate using the CZ gate, where CNOT: q1 -> q0\n",
    "QCompute.H(qp.Q[0])\n",
    "QCompute.CZ(qp.Q[1], qp.Q[0])\n",
    "QCompute.H(qp.Q[0])\n"
   ]
  },
  {
   "cell_type": "markdown",
   "metadata": {},
   "source": [
    " \n",
    "![QPT](./figures/qpt-CNOT-example.png \"图3：我们将 CNOT 门作为层析对象。\")\n",
    " \n",
    "我们生成如上电路，在进行量子门层析前，我们先求解 CNOT 理想情况下的 PTM 作为参考。"
   ]
  },
  {
   "cell_type": "code",
   "execution_count": null,
   "metadata": {
    "jupyter": {
     "outputs_hidden": false
    },
    "pycharm": {
     "is_executing": true
    }
   },
   "outputs": [],
   "source": [
    "ideal_cnot = Extensions.QuantumErrorProcessing.qcompute_qep.utils.circuit.circuit_to_unitary(qp)\n",
    "ideal_ptm = channel.unitary_to_ptm(ideal_cnot).data\n",
    "print(ideal_ptm)"
   ]
  },
  {
   "cell_type": "markdown",
   "metadata": {},
   "source": [
    "接下来我们需要选择量子计算机的类型，可以选择模拟器或量子计算机真机，这里我们选择的是百度量子真机。剩下的步骤就很简单了，只需要调用我们的 ProcessTomography 模块则可完成真实量子信道的层析，和 QST 类似，我们选择求逆的方式对量子信道的 PTM 进行求解。"
   ]
  },
  {
   "cell_type": "code",
   "execution_count": null,
   "metadata": {
    "jupyter": {
     "outputs_hidden": false
    },
    "pycharm": {
     "is_executing": true
    }
   },
   "outputs": [],
   "source": [
    "# 使用本地模拟器\n",
    "qc = QCompute.BackendName.LocalBaiduSim2\n",
    "\n",
    "# 请登录“量易伏”平台（https://quantum-hub.baidu.com/）获取 Token\n",
    "# QCompute.Define.hubToken = \"Token\"\n",
    "# qc = QCompute.BackendName.CloudBaiduQPUQian\n",
    "\n",
    "# Initialize a ProcessTomography instance\n",
    "st = tomography.ProcessTomography()\n",
    "# Call the tomography procedure and obtain the noisy CZ gate\n",
    "noisy_ptm = st.fit(qp, qc, prep_basis='Pauli', meas_basis='Pauli', method='inverse', shots=4096, ptm=True)"
   ]
  },
  {
   "cell_type": "markdown",
   "metadata": {},
   "source": [
    "最后，我们可以对结果进行分析，然后可视化我们层析出的 PTM 并和理想情况下进行对比。"
   ]
  },
  {
   "cell_type": "code",
   "execution_count": null,
   "metadata": {
    "jupyter": {
     "outputs_hidden": false
    },
    "pycharm": {
     "is_executing": true
    }
   },
   "outputs": [],
   "source": [
    "print(\"****** The average gate fidelity between these two PTMs is: {}\".format(\n",
    "        metrics.average_gate_fidelity(ideal_ptm, noisy_ptm)))\n",
    "\n",
    "# Visualize these PTMs\n",
    "diff_ptm = ideal_ptm - noisy_ptm\n",
    "tomography.compare_process_ptm(ptms=[ideal_ptm, noisy_ptm.data, diff_ptm],\n",
    "                               show_labels=True)\n"
   ]
  },
  {
   "cell_type": "markdown",
   "metadata": {},
   "source": [
    "\n",
    "![QPT](./figures/qpt-output.png \"图4：我们对测试结果进行可视化。\")\n"
   ]
  },
  {
   "cell_type": "markdown",
   "metadata": {},
   "source": [
    "## 总结\n",
    "\n",
    "本教程旨在介绍 QPT 的原理以及如何在[百度量子平台](https://quantum.baidu.com/)上实现。"
   ]
  },
  {
   "cell_type": "markdown",
   "metadata": {},
   "source": [
    "## 参考资料\n",
    "[1] Greenbaum, Daniel. \"Introduction to quantum gate set tomography.\" [arXiv](https://arxiv.org/abs/1509.02921) preprint arXiv:1509.02921 (2015)."
   ]
  }
 ],
 "metadata": {
  "kernelspec": {
   "display_name": "Python 3",
   "language": "python",
   "name": "python3"
  },
  "language_info": {
   "codemirror_mode": {
    "name": "ipython",
    "version": 3
   },
   "file_extension": ".py",
   "mimetype": "text/x-python",
   "name": "python",
   "nbconvert_exporter": "python",
   "pygments_lexer": "ipython3",
   "version": "3.8.5"
  }
 },
 "nbformat": 4,
 "nbformat_minor": 4
}

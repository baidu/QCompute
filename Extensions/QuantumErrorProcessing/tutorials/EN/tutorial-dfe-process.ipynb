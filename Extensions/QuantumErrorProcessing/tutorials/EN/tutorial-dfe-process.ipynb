{
 "cells": [
  {
   "cell_type": "markdown",
   "source": [
    "# Direct Fidelity Estimation of Quantum Processes\n",
    "\n",
    "*Copyright (c) 2023 Institute for Quantum Computing, Baidu Inc. All Rights Reserved.*\n",
    "\n",
    "## Outline\n",
    "\n",
    "Quantum Process Tomography gives complete information about the process we prepared, but it is very resource-consuming, and sometimes we only care about the fidelity between ideal and actual quantum process. Direct Fidelity Estimation (DFE) is a simple method for certifying that an experimental device prepares a desired quantum process.\n",
    "\n",
    "This tutorial introduces Direct Fidelity Estimation (DFE) for state, covering its theory and implementation on [Baidu Quantum Platform](https://quantum.baidu.com/)."
   ],
   "metadata": {
    "collapsed": false
   }
  },
  {
   "cell_type": "markdown",
   "source": [
    "## Theory"
   ],
   "metadata": {
    "collapsed": false
   }
  },
  {
   "cell_type": "markdown",
   "source": [
    "### Fidelity estimation\n",
    "\n",
    "The entanglement fidelity between our desired unitary channel $\\mathcal{U}$ and the actual quantum channel $\\mathcal{N}$ is given by\n",
    "\n",
    "$$\n",
    "    \\mathcal{F}(\\mathcal{U}, \\mathcal{N}) = \\frac{1}{d^2}\\textrm{Tr}[\\mathcal{M}_\\mathcal{U}^\\dagger \\mathcal{M}_\\mathcal{N}],\n",
    "$$\n",
    "\n",
    "where $\\mathcal{M}_\\mathcal{U}$ and $\\mathcal{M}_\\mathcal{N}$ are the corresponding matrix representations. We define $P_k(k=1,\\cdots,d^2)$ as all possible Pauli operators, where $d=2^n$ and $n$ is the number of qubits. We know that both $\\mathcal{U}$ and $\\mathcal{N}$ can be expanded in Pauli basis, which is\n",
    "\n",
    "$$\n",
    "\\begin{align}\n",
    "    \\textrm{Tr}[\\mathcal{M}_\\mathcal{U}^\\dagger \\mathcal{M}_\\mathcal{N}]\n",
    "    &= \\frac{1}{d^2} \\sum_{k, k'} \\langle \\langle P_k \\vert \\mathcal{U} \\vert P_{k'} \\rangle \\rangle \\langle \\langle P_k \\vert \\mathcal{N} \\vert P_{k'} \\rangle \\rangle \\\\\n",
    "    &= \\sum_{k,k'} \\chi_{\\mathcal{U}}(k,k') \\chi_{\\mathcal{N}}(k,k'),\n",
    "\\end{align}\n",
    "$$\n",
    "\n",
    "where $\\chi_{\\mathcal{U}}(k,k')$ is defined as\n",
    "\n",
    "$$\n",
    "\\begin{align}\n",
    "    \\chi_{\\mathcal{U}}(k,k')\n",
    "    &= \\langle \\langle P_k \\vert \\mathcal{U} \\vert P_{k'} \\rangle \\rangle \\\\\n",
    "    &= \\textrm{Tr}[P_k \\mathcal{U}(P_k')]\n",
    "\\end{align}\n",
    "$$\n",
    "\n",
    "and $\\chi_{\\mathcal{N}(k,k')}$ is defined in a similar way.\n",
    "\n",
    "Then we construct an estimator for entanglement fidelity as follows:\n",
    "\n",
    "$$\n",
    "\\begin{align}\n",
    "    \\mathcal{F}(\\mathcal{U}, \\mathcal{N})\n",
    "    &= \\frac{1}{d^2} \\sum_{k,k'} \\chi_{\\mathcal{U}}(k,k') \\chi_{\\mathcal{N}}(k,k') \\\\\n",
    "    &= \\sum_{k,k'}  \\frac{\\chi_{\\mathcal{N}}(k,k')}{\\chi_{\\mathcal{U}}(k,k')} \\frac{\\chi_{\\mathcal{U}}(k,k')^2}{d^2} \\\\\n",
    "    &= \\sum_{k,k'} X(k,k') \\textrm{Pr}(k,k').\n",
    "\\end{align}\n",
    "$$\n",
    "\n",
    "Next, we describe the experimental process to perform the estimation.\n",
    "\n",
    "Firstly, we sample Pauli pairs $l$ times according to probability distribution\n",
    "\n",
    "$$\n",
    "\\begin{align}\n",
    "    \\textrm{Pr}(k,k')\n",
    "    &= \\frac{1}{d^2} \\chi_{\\mathcal{U}}(k,k')^2,\n",
    "\\end{align}\n",
    "$$\n",
    "\n",
    "which results in $((P_{k_1},P_{k'_1}), \\cdots, (P_{k_l}, P_{k_l'}))$. Then for each pair of Pauli operators $(P_{k_i}, P_{k_i'})$, we estimate\n",
    "\n",
    "$$\n",
    "\\begin{align}\n",
    "    X(k_i, k_i')\n",
    "    &= \\frac{\\chi_{\\mathcal{N}}(k_i, k_i')}{\\chi_{\\mathcal{U}}(k_i, k_i')}\n",
    "    &= \\frac{\\textrm{Tr}[P_{k_i} \\mathcal{N}(P_{k_i'})]}{\\textrm{Tr}[P_{k_i} \\mathcal{U}(P_{k_i'})]}\n",
    "\\end{align}\n",
    "$$\n",
    "\n",
    "using the following procedure. We choose the eigenvalues of $P_{k_i'}$ uniformly, which is denoted as $\\lambda_{a_{ij}} \\in \\left\\{-1,1 \\right\\}$. Then, we prepare the corresponding eigenstate $\\vert \\psi_{a_{ij}} \\rangle \\langle \\psi_{a_{ij}} \\vert$ and apply $\\mathcal{N}$ to the eigenstate. Next, we measure the Pauli observable $P_{k_i}$, and get the outcome $A_{ij} \\in \\{-1,1\\}$. We define\n",
    "\n",
    "$$\n",
    "\\begin{align}\n",
    "B_{ij}\n",
    "&= \\lambda_{a_{ij}} A_{ij}.\n",
    "\\end{align}\n",
    "$$\n",
    "\n",
    "Accordingly, we have\n",
    "\n",
    "$$\n",
    "\\begin{align}\n",
    "    \\mathbb{E}[B_{ij}]\n",
    "    &= \\mathbb{E}_{\\lambda_{a_{ij}}}[\\mathbb{E}[ \\lambda_{a_{ij}} A_{ij} \\vert \\lambda_{a_{ij}}]] \\\\\n",
    "    &= \\mathbb{E}_{\\lambda_{a_{ij}}}[\\mathbb{E}[A_{ij}] \\lambda_{a_{ij}} ] \\\\\n",
    "    &= \\sum_{a_{ij}=1}^d \\frac{1}{d} \\lambda_{a_{ij}} \\mathbb{E}[A_{ij}] \\\\\n",
    "    &= \\textrm{Tr}(P_{k_i} \\mathcal{N}(P_{k_i'})),\n",
    "\\end{align}\n",
    "$$\n",
    "\n",
    "which is equal to $\\chi_{\\mathcal{N}}(k_i, k_i')$. Therefore, we obtain\n",
    "\n",
    "$$\n",
    "\\begin{align}\n",
    " \\tilde{X}(k_i, k_i')\n",
    " &= \\frac{\\sum_{j=1}^{m_i} B_{ij}}{m_i \\chi_{\\mathcal{U}}(k_i, k_i')}.\n",
    "\\end{align}\n",
    "$$\n",
    "\n",
    "Finally, our estimator is\n",
    "\n",
    "$$\n",
    "\\begin{align}\n",
    "    \\tilde{\\mathcal{F}}(\\mathcal{U}, \\mathcal{N})\n",
    "    &= \\frac{1}{l} \\sum_{i=1}^l \\tilde{X}(k_i, k_i').\n",
    "\\end{align}\n",
    "$$"
   ],
   "metadata": {
    "collapsed": false
   }
  },
  {
   "cell_type": "markdown",
   "source": [
    "### Parameter settings\n",
    "\n",
    "There remains two questions:\n",
    "\n",
    "1. How many pairs of Pauli operators do we need to sample?\n",
    "2. For each pair of Pauli operators, how many measurements should we perform?\n",
    "\n",
    "Below, we will address the above issues. Now we consider some fixed additional error $\\epsilon$ and failure probability $\\delta$. From Chebyshev's inequality and Hoeffding's inequality, we can use these two parameters [1] to calculate the sampling time $l$ and the number of shots $m_i$ for each Pauli operator pair at $i$.\n",
    "\n",
    "We can conclude that with probability $\\geq 1-2\\delta$, the fidelity $\\mathcal{\\rho,\\sigma}$ lies in $[\\tilde{\\mathcal{F}}(\\mathcal{U } , \\mathcal{N})-2\\epsilon, \\tilde{\\mathcal{F}}(\\mathcal{U}, \\mathcal{N})+2\\epsilon]$ , where $\\tilde{\\mathcal{ F }}(\\mathcal{U}, \\mathcal{N})$ is our estimate of the fidelity.\n"
   ],
   "metadata": {
    "collapsed": false
   }
  },
  {
   "cell_type": "markdown",
   "source": [
    "## Practice\n",
    "\n",
    "We then demonstrate the process of using DFE to estimate the entanglement fidelity.\n",
    "\n",
    "First, we import the necessary libraries."
   ],
   "metadata": {
    "collapsed": false
   }
  },
  {
   "cell_type": "code",
   "execution_count": null,
   "outputs": [],
   "source": [
    "import QCompute\n",
    "import Extensions.QuantumErrorProcessing.qcompute_qep.estimation as estimation"
   ],
   "metadata": {
    "collapsed": false
   }
  },
  {
   "cell_type": "markdown",
   "source": [
    "We then set up the quantum program for preparing Bell states on the 2nd and 3rd qubits."
   ],
   "metadata": {
    "collapsed": false
   }
  },
  {
   "cell_type": "code",
   "execution_count": null,
   "outputs": [],
   "source": [
    "qp = QCompute.QEnv()  # qp is short for \"quantum program\", instance of QProgram\n",
    "qp.Q.createList(3)\n",
    "QCompute.H(qp.Q[1])\n",
    "QCompute.CX(qp.Q[1], qp.Q[2])"
   ],
   "metadata": {
    "collapsed": false
   }
  },
  {
   "cell_type": "markdown",
   "source": [
    "![DFE](./figures/dfe-bell-state.png \"Figure 1: We take the circuit of preparing Bell state as the target of DFE. \")\n",
    "\n",
    "The circuit is shown in the figure above.\n",
    "\n",
    "Then we set up the quantum computer (instance of QComputer). Quantum computer can be a simulator or a hardware interface. The rest is simple. We initialize a DFEProcess instance and call the estimate procedure. Here we set $\\epsilon=\\delta=0.05$ and choose the 2nd and 3rd qubits."
   ],
   "metadata": {
    "collapsed": false
   }
  },
  {
   "cell_type": "code",
   "execution_count": null,
   "outputs": [],
   "source": [
    "# For numeric test, use the local ideal simulator\n",
    "qc = QCompute.BackendName.LocalBaiduSim2\n",
    "\n",
    "# Please log in the \"Quantum Leaf\" platform (https://quantum-hub.baidu.com/) to get Token\n",
    "# QCompute.Define.hubToken = \"Token\"\n",
    "# qc = QCompute.BackendName.CloudBaiduQPUQian\n",
    "\n",
    "# Initialize a DFEProcess instance\n",
    "est = estimation.DFEProcess()\n",
    "\n",
    "# Call the estimate procedure\n",
    "est.estimate(qp, qc, qubits=[1, 2], epsilon=0.05, delta=0.05)"
   ],
   "metadata": {
    "collapsed": false
   }
  },
  {
   "cell_type": "markdown",
   "source": [
    "Finally, we can obtain the fidelity between the ideal unitary channel and the actual process."
   ],
   "metadata": {
    "collapsed": false
   }
  },
  {
   "cell_type": "code",
   "execution_count": null,
   "outputs": [],
   "source": [
    "print('Fidelity between the ideal and noisy states is: F = {:.5f}'.format(est.fidelity))"
   ],
   "metadata": {
    "collapsed": false
   }
  },
  {
   "cell_type": "markdown",
   "source": [
    "## References\n",
    "\n",
    "[1] Flammia, Steven T., and Yi-Kai Liu. \"Direct fidelity estimation from few Pauli measurements.\" **[Physical Review Letters](https://journals.aps.org/prl/abstract/10.1103/PhysRevLett.106.230501)** 106.23 (2011): 230501.\n",
    "\n",
    "[2] da Silva, Marcus P., Olivier Landon-Cardinal, and David Poulin. \"Practical characterization of quantum devices without tomography.\" **[Physical Review Letters](https://journals.aps.org/prl/abstract/10.1103/PhysRevLett.107.210404)** 107.21 (2011): 210404.\n",
    "\n",
    "[3] Steffen, Lars, et al. \"Experimental Monte Carlo quantum process certification.\" **[Physical Review Letters](https://journals.aps.org/prl/abstract/10.1103/PhysRevLett.108.260506)** 108.26 (2012): 260506.\n",
    "\n",
    "[4] Kliesch, Martin, and Ingo Roth. \"Theory of Quantum System Certification.\" **[PRX Quantum](https://journals.aps.org/prxquantum/abstract/10.1103/PRXQuantum.2.010201)** 2.1 (2021): 010201."
   ],
   "metadata": {
    "collapsed": false
   }
  }
 ],
 "metadata": {
  "kernelspec": {
   "display_name": "Python 3",
   "language": "python",
   "name": "python3"
  },
  "language_info": {
   "codemirror_mode": {
    "name": "ipython",
    "version": 2
   },
   "file_extension": ".py",
   "mimetype": "text/x-python",
   "name": "python",
   "nbconvert_exporter": "python",
   "pygments_lexer": "ipython2",
   "version": "2.7.6"
  }
 },
 "nbformat": 4,
 "nbformat_minor": 0
}

{
 "cells": [
  {
   "cell_type": "markdown",
   "id": "58ad9193",
   "metadata": {},
   "source": [
    "# Interleaved Randomized Benchmarking\n",
    "\n",
    "*Copyright (c) 2022 Institute for Quantum Computing, Baidu Inc. All Rights Reserved.*"
   ]
  },
  {
   "cell_type": "markdown",
   "id": "23935b2f",
   "metadata": {},
   "source": [
    "**Interleaved Randomized Benchmarking (IRB)** is the algorithm for characterizing the specific individual Clifford gate by using randomization techniques, which is similar to the Standard Randomized Benchmarking (SRB).\n",
    "This tutorial introduces **IRB**, covering its theory and implementation on [Baidu Quantum Platform](https://quantum.baidu.com/).\n"
   ]
  },
  {
   "cell_type": "markdown",
   "id": "3d5557c8",
   "metadata": {},
   "source": [
    "## Theory\n",
    "\n",
    "We will assume *a priori* that the readers are familiar with Clifford gates, or you can checkout the SRB module. We treat IRB as a modification to the SRB protocol, where we construct the random circuits using Clifford gates in SRB.\n",
    "\n",
    "\n",
    "### Random circuits\n",
    "\n",
    "The structure of random circuit in SRB is as followed:\n",
    "\n",
    "![random-clifford-circuit](figures/srb-clifford-circuit.png \"Figure 1: random Clifford circuit of SRB\")\n",
    "\n",
    "For experimental implementation of the random circuit above, we first apply $m$ random Clifford gates, and then we apply the inverse of whole $m$ Clifford gates $C_{m+1}$\n",
    "\n",
    "$$\n",
    "C_{m+1} := \\left(C_1C_2\\cdots C_{m-1}C_{m}\\right)^{-1}.\n",
    "$$\n",
    "\n",
    "In the ideal situation, the output state should be equal to the input state\n",
    "\n",
    "$$\n",
    "C_{m+1}C_{m}C_{m-1}\\cdots C_2C_1\\vert \\phi \\rangle = \\vert \\phi \\rangle.\n",
    "$$\n",
    "\n",
    "However, the structure of random circuit in IRB is quite different:\n",
    "\n",
    "![random-clifford-circuit](figures/irb-clifford-circuit.png \"Figure 2: random Clifford circuit of IRB\")\n",
    "\n",
    "In this figure, $C_i, i=1,2,\\cdots,m$ are sequence of $m$ random Clifford gates, analogously to the above. $C$ is the gate of our interest that we wish to characterize, which is \"interleaved\" throughout the SRB sequence. Similarly, we apply the $C_{m+1}$ gate, which is inverse of whole $m$ Clifford gates $CC_i$.\n",
    "\n",
    "### Randomized benchmarking\n",
    "\n",
    "We can clearly see that the protocol is a simple extension of SRB. The exact process is as follows:\n",
    "\n",
    "1. Run SRB on the qubits and estimate an average gate fidelity (AGF) $f$ of Clifford gates $C_i$.\n",
    "\n",
    "2. Run IRB on the qubits and estimate an average gate fidelity $f_c$ of Clifford gates $CC_i$.\n",
    "\n",
    "3. Use two fidelity parameters $f$ and $f_c$ to calculate the average error rate $r$ of gate $C$.\n",
    "\n",
    "The average error rate $r$ must lie in the range $\\left[r^{est}-E,r^{est}+E\\right]$[1], where $r^{est}$ and $E$ are shown as follows, respectively.\n",
    "\n",
    "$$\n",
    "r^{est} = \\frac{d-1}{d}\\left(1-\\frac{f_c}{f}\\right),\n",
    "$$\n",
    "\n",
    "\n",
    "$$\n",
    "E = min\\left\\{\\frac{(d-1)\\left[\\vert f-f_c/f\\vert + (1-f)\\right]}{d},\\frac{2(d^2-1)(1-f)}{fd^2} + \\frac{4\\sqrt{1-f}\\sqrt{d^2-1}}{f}\\right\\}.\n",
    "$$\n",
    "\n",
    "## Practice\n",
    "### Single qubit circuit\n",
    "\n",
    "![single-qubit](figures/irb-single-clifford-circuit.png \"Figure 3: single qubit circuit\")\n",
    "\n",
    "In the following code, we set the target quantum gate to the `H` gate. Please refer to the `Clifford` class or [2] for how Clifford gates are randomly generated. Furthermore, we construct and measure $20$ random circuits in each depth and average the results. Run the example and see the final result."
   ]
  },
  {
   "cell_type": "code",
   "execution_count": null,
   "id": "cf0365a3",
   "metadata": {},
   "outputs": [],
   "source": [
    "import QCompute\n",
    "from Extensions.QuantumErrorProcessing.qcompute_qep.quantum.clifford import Clifford\n",
    "from Extensions.QuantumErrorProcessing.qcompute_qep.benchmarking.interleavedrb import InterleavedRB\n",
    "\n",
    "# For numeric test, use the local ideal simulator\n",
    "qc = QCompute.BackendName.LocalBaiduSim2\n",
    "\n",
    "# Please log in the \"Quantum Leaf\" platform (https://quantum-hub.baidu.com/) to get Token\n",
    "# QCompute.Define.hubToken = \"Token\"\n",
    "# qc = QCompute.BackendName.CloudBaiduQPUQian\n",
    "\n",
    "# 1 qubit IRB\n",
    "single_qubits = [0]\n",
    "# generate a specific Clifford gate H gate\n",
    "pattern = [[['A2'],[],['C1'],[],['E1']]]\n",
    "target_gate = Clifford(1, pattern)\n",
    "irb = InterleavedRB()\n",
    "single_qubit_results = irb.benchmark(qubits=single_qubits,\n",
    "                                     target_gate = target_gate,\n",
    "                                     qc=qc,\n",
    "                                     repeats=20,\n",
    "                                     shots=1024,\n",
    "                                     seq_lengths=[1, 5, 10, 15, 20, 25])\n",
    "irb.plot_results()"
   ]
  },
  {
   "cell_type": "markdown",
   "id": "e5a1bfc9",
   "metadata": {},
   "source": [
    "### Two qubits circuit\n",
    "\n",
    "The circuit is shown as follows\n",
    "\n",
    "![double-qubit](figures/irb-two-clifford-circuit.png \"Figure 4: two-qubit circuit\")"
   ]
  },
  {
   "cell_type": "code",
   "execution_count": null,
   "id": "4502741e",
   "metadata": {},
   "outputs": [],
   "source": [
    "# 2 qubits IRB\n",
    "two_qubits = [0,1]\n",
    "# random generate an target two-qubit gate\n",
    "target_gate = Clifford(2)\n",
    "irb2 = InterleavedRB()\n",
    "two_qubits_results = irb2.benchmark(qubits=two_qubits,\n",
    "                                   target_gate=target_gate,\n",
    "                                   qc=qc,\n",
    "                                   repeats=20,\n",
    "                                   shots=1024,\n",
    "                                   seq_lengths=[1, 2, 3, 4, 5, 6])\n",
    "irb2.plot_results()"
   ]
  },
  {
   "cell_type": "markdown",
   "id": "95e74c92",
   "metadata": {},
   "source": [
    "As shown above, we obtain the curve and the parameters $f$, $f_c$, $r$ from fitting procedure.\n",
    "\n",
    "We can print the result of parameters."
   ]
  },
  {
   "cell_type": "code",
   "execution_count": null,
   "id": "07417463",
   "metadata": {},
   "outputs": [],
   "source": [
    "print('The fidelity of 1 qubit SRB is :',single_qubit_results['StandardRB']['f'])\n",
    "print('The fidelity of 1 qubit IRB is :',single_qubit_results['InterleavedRB']['f'])\n",
    "print('The error rate of target gate is :',single_qubit_results['target_gate']['r'])\n",
    "print('The fidelity of 2 qubit SRB is :',two_qubits_results['StandardRB']['f'])\n",
    "print('The fidelity of 2 qubit IRB is :',two_qubits_results['InterleavedRB']['f'])\n",
    "print('The error rate of target gate is :',two_qubits_results['target_gate']['r'])"
   ]
  },
  {
   "cell_type": "markdown",
   "id": "e2b16e62",
   "metadata": {},
   "source": [
    "From the single-qubit result, we can see that the fidelity of `H` gate from IRB implementation is different from the SRB implementation, which is more accurate. We have finished **IRB** and successfully obtained the error rate of a target quantum gate. More information of randomized benchmarking can be found in [3]."
   ]
  },
  {
   "cell_type": "markdown",
   "id": "9ae8cd99-0bde-47b0-a6a7-d8557a6c8a81",
   "metadata": {},
   "source": [
    "## References\n",
    "\n",
    "\\[1\\] Magesan, Easwar, et al. \"Efficient measurement of quantum gate error by interleaved randomized benchmarking.\" [Physical Review Letters](https://arxiv.org/abs/1203.4550) 109.8 (2012): 080505.\n",
    "\n",
    "\\[2\\] Selinger, Peter. \"Generators and relations for n-qubit Clifford operators.\" [Logical Methods in Computer Science](https://arxiv.org/abs/1310.6813v4) 11 (2015).\n",
    "\n",
    "\\[3\\] Helsen, Jonas, et al. \"A general framework for randomized benchmarking.\" [arXiv](https://arxiv.org/abs/2010.07974) preprint arXiv:2010.07974 (2020)."
   ]
  }
 ],
 "metadata": {
  "kernelspec": {
   "display_name": "Python 3",
   "language": "python",
   "name": "python3"
  },
  "language_info": {
   "codemirror_mode": {
    "name": "ipython",
    "version": 3
   },
   "file_extension": ".py",
   "mimetype": "text/x-python",
   "name": "python",
   "nbconvert_exporter": "python",
   "pygments_lexer": "ipython3",
   "version": "3.8.5"
  },
  "toc-autonumbering": false,
  "toc-showmarkdowntxt": false
 },
 "nbformat": 4,
 "nbformat_minor": 5
}

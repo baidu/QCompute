{
 "cells": [
  {
   "cell_type": "markdown",
   "id": "58ad9193",
   "metadata": {},
   "source": [
    "# Unitarity Randomized Benchmarking\n",
    "\n",
    "*Copyright (c) 2022 Institute for Quantum Computing, Baidu Inc. All Rights Reserved.*"
   ]
  },
  {
   "cell_type": "markdown",
   "id": "23935b2f",
   "metadata": {},
   "source": [
    "**Unitarity randomized benchmarking (URB)** is an experimental procedure for estimating the coherence of implemented quantum gates independently of state preparation and measurement errors. These estimates of the coherence are measured by the **unitarity**. This tutorial introduces URB, covering its theory and implementation on [Baidu Quantum Platform](https://quantum.baidu.com/)."
   ]
  },
  {
   "cell_type": "markdown",
   "id": "81bc7503",
   "metadata": {},
   "source": [
    "## Theory\n",
    "### Purity and unitarity\n",
    "\n",
    "The purity of a quantum state $\\rho$ is $\\textrm{Tr}\\left[\\rho^{\\dagger}\\rho\\right]\\in [0,1]$ with $\\textrm{Tr}\\left[\\rho^{\\dagger}\\rho\\right]=1$ if and only if $\\rho$ is a pure state. We define the unitarity of a noise channel to be the average purity of output states, with the identity components subtracted, averaged over all pure states[1]\n",
    "\n",
    "$$\n",
    "u(\\mathcal E) = \\frac{d}{d-1}\\int_{\\psi} d\\psi \\textrm{Tr}\\left[ \\mathcal E^{\\prime}(\\psi)^{\\dagger}\\mathcal E^{\\prime}\\left(\\psi\\right)\\right].\n",
    "$$\n",
    "\n",
    "However, the definition above have some issues. To solve this problem, we can define the generalized Bloch vector $n(\\rho)$ of a density operator $\\rho$ with unit trace to be the vector of $d^2−1$ expansion coefficients\n",
    "\n",
    "$$\n",
    "\\rho = \\mathbb I/d +\\sum_{k>1}n_kA_k.\n",
    "$$\n",
    "\n",
    "Our definition of the unitarity is then equivalent to\n",
    "\n",
    "$$\n",
    "u(\\mathcal E) = \\frac{d}{d-1}\\int_{\\psi} d\\psi \\left\\| n\\left[\\mathcal E(\\psi)\\right]-n\\left[\\mathcal E(\\mathbb I_d/d)\\right]\\right\\|^2.\n",
    "$$\n",
    "\n",
    "\n",
    "### Randomized benchmarking\n",
    "\n",
    "In experimental implementation, we choose a sequence of random Clifford gates, and then estimate the expectation value after applying the sequence of Cliffrod gates. We term this purity measurement\n",
    "\n",
    "$$\n",
    "P_j = \\frac{d}{d-1}\\left\\|n(\\rho_j)\\right\\|^2.\n",
    "$$\n",
    "\n",
    "Then we bring this result to the equation\n",
    "\n",
    "$$\n",
    "\\mathbb E[P_j] = Au^{(m-1)}+B,\n",
    "$$\n",
    "\n",
    "where $m$ is depth, $u$ is unitarity, and $A$ and $B$ are constants incorporating SPAM.\n",
    "\n",
    "We using the following code to demonstrate this.\n",
    "\n",
    "## Practice\n",
    "### Single qubit circuit"
   ]
  },
  {
   "cell_type": "code",
   "execution_count": null,
   "id": "146a780e",
   "metadata": {},
   "outputs": [],
   "source": [
    "from Extensions.QuantumErrorProcessing.qcompute_qep.benchmarking.unitarityrb import UnitarityRB\n",
    "import QCompute\n",
    "\n",
    "# For numeric test, use the local ideal simulator\n",
    "qc = QCompute.BackendName.LocalBaiduSim2\n",
    "\n",
    "# Please log in the \"Quantum Leaf\" platform (https://quantum-hub.baidu.com/) to get Token\n",
    "# QCompute.Define.hubToken = \"Token\"\n",
    "# qc = QCompute.BackendName.CloudBaiduQPUQian\n",
    "\n",
    "qubits = [0]\n",
    "urb_1 = UnitarityRB()\n",
    "urb_1.benchmark(qubits=qubits,\n",
    "                  qc=qc,\n",
    "                  repeats=30,\n",
    "                  shots=250,\n",
    "                  seq_lengths=[1, 2, 3, 4, 5, 6, 7, 8, 9, 10])\n",
    "urb_1.plot_results()\n",
    "one_qubit_results = urb_1.results"
   ]
  },
  {
   "cell_type": "markdown",
   "id": "a8efe93a",
   "metadata": {},
   "source": [
    "### Two qubit circuit"
   ]
  },
  {
   "cell_type": "code",
   "execution_count": null,
   "id": "c8b3f1b3",
   "metadata": {},
   "outputs": [],
   "source": [
    "qubits = [0, 1]\n",
    "\n",
    "urb_2 = UnitarityRB()\n",
    "urb_2.benchmark(qubits=qubits,\n",
    "                  qc=qc,\n",
    "                  repeats=30,\n",
    "                  shots=250,\n",
    "                  seq_lengths=[1, 2, 3, 4, 5, 6, 7, 8, 9, 10])\n",
    "urb_2.plot_results()\n",
    "two_qubit_results = urb_2.results"
   ]
  },
  {
   "cell_type": "markdown",
   "id": "5e379f53",
   "metadata": {},
   "source": [
    "As shown above, we obtain the curve and the parameters from fitting procedure. We can print the result of parameters."
   ]
  },
  {
   "cell_type": "code",
   "execution_count": null,
   "id": "07417463",
   "metadata": {},
   "outputs": [],
   "source": [
    "print(one_qubit_results['u'])\n",
    "print(two_qubit_results['u'])"
   ]
  },
  {
   "cell_type": "markdown",
   "id": "7cce8834",
   "metadata": {},
   "source": [
    "We have finished the URB and successfully obtained the unitarity of noisy quantum device. More information of URB can be found on this paper[2]."
   ]
  },
  {
   "cell_type": "markdown",
   "id": "9ae8cd99-0bde-47b0-a6a7-d8557a6c8a81",
   "metadata": {},
   "source": [
    "## References\n",
    "\n",
    "\\[1\\] Wallman, Joel, et al. \"Estimating the coherence of noise.\" [New Journal of Physics](https://iopscience.iop.org/article/10.1088/1367-2630/17/11/113020/meta) 17.11 (2015): 113020.\n",
    "\n",
    "\n",
    "\\[2\\] Dirkse, Bas, Jonas Helsen, and Stephanie Wehner. \"Efficient unitarity randomized benchmarking of few-qubit Clifford gates.\" [Physical Review A](https://journals.aps.org/pra/abstract/10.1103/PhysRevA.99.012315) 99.1 (2019): 012315."
   ]
  }
 ],
 "metadata": {
  "kernelspec": {
   "display_name": "Python 3",
   "language": "python",
   "name": "python3"
  },
  "language_info": {
   "codemirror_mode": {
    "name": "ipython",
    "version": 3
   },
   "file_extension": ".py",
   "mimetype": "text/x-python",
   "name": "python",
   "nbconvert_exporter": "python",
   "pygments_lexer": "ipython3",
   "version": "3.8.5"
  },
  "toc-autonumbering": false,
  "toc-showmarkdowntxt": false
 },
 "nbformat": 4,
 "nbformat_minor": 5
}

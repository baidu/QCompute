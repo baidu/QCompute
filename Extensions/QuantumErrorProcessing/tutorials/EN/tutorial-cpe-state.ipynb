{
 "cells": [
  {
   "cell_type": "markdown",
   "source": [
    "# Cross-Platform Estimation of Quantum States\n",
    "\n",
    "*Copyright (c) 2022 Institute for Quantum Computing, Baidu Inc. All Rights Reserved.*\n",
    "\n",
    "## Outline\n",
    "\n",
    "Direct Fidelity Estimation (DFE) proposes a method to estimate fidelity between ideal and actual pure state. However, it has two problems, on the one hand, it can not work when ideal state is unknown, on the other hand, it does not apply to the mixed state. Cross-Platform Estimation (CPE) can solve these two problems well.\n",
    "\n",
    "This tutorial introduces Cross-Platform Estimation (CPE) , covering its theory and implementation on [Baidu Quantum Platform](https://quantum.baidu.com/)."
   ],
   "metadata": {
    "collapsed": false
   }
  },
  {
   "cell_type": "markdown",
   "source": [
    "## Theory\n",
    "\n"
   ],
   "metadata": {
    "collapsed": false
   }
  },
  {
   "cell_type": "markdown",
   "source": [
    "Here we will introduce how to use CPE to estimate fidelity between two pure quantum states produced with two different platforms. Now, consider two platforms $\\mathcal{S}_1$ and $\\mathcal{S}_2$, and this two platform prepare the same $n$-qubit quantum states $\\rho_1$ and $\\rho_2$ with circuits $\\mathcal{U}_1$ and $\\mathcal{U}_2$, respectively. We show how to measure directly the overlap ${\\rm Tr}[\\rho_1 \\rho_2]$ as follows.\n",
    "\n",
    "1. Randomly select unitary $U = \\otimes_{i=1}^n U_i$, where $U_i$ are sampled independently from a unitary $2$-design gate set.\n",
    "2. Perform $\\mathcal{S}_1$ and $\\mathcal{S}_2$ projective measurements in a computational basis $\\left\\{|x\\rangle\\right\\}$.\n",
    "3. Estimate $${\\rm Pr}(x, y) = {\\rm Tr}\\left[\\left(U\\otimes U \\rho_1\\otimes\\rho_2 U^\\dagger\\otimes U^\\dagger\\right) |x\\rangle\\langle x|\\otimes|y\\rangle\\langle y|\\right],$$ where $x,y$ are the measurement result of $\\mathcal{U}_1, \\mathcal{U}_2$.\n",
    "4. Repeat step 1 to 3 $K$ times, record $k$-th probability distribution as ${\\rm Pr}^{(k)}(x, y)$, and compute the average probability distribution $$\\overline{{\\rm Pr}(x, y)} = \\frac{1}{K}\\sum_k {\\rm Pr}^{(k)}(x, y). $$\n",
    "5. Estimate the density matrix overlap ${\\rm Tr}[\\rho_1 \\rho_2]$ with $${\\rm Tr}[\\rho_1\\rho_2]=2^n\\sum_{x,y}(-2)^{-\\mathcal{D}[x,y]}\\overline{{\\rm Pr}(x, y)}, $$ where $\\mathcal{D}[x,y]$ denotes Hamming distance between bit strings $x, y$.\n",
    "\n",
    "The flow chart is as follows.\n",
    "\n",
    "![CPE](./figures/cpe-chart.png \"Figure 1: We complete CPE according to this flow chart.\")\n"
   ],
   "metadata": {
    "collapsed": false
   }
  },
  {
   "cell_type": "markdown",
   "source": [
    "## Practice\n",
    "\n",
    "We demonstrate CPE on the single qubit case.\n",
    "\n",
    "First, we import the necessary libraries."
   ],
   "metadata": {
    "collapsed": false
   }
  },
  {
   "cell_type": "code",
   "execution_count": 2,
   "outputs": [],
   "source": [
    "import QCompute\n",
    "from Extensions.QuantumErrorProcessing.qcompute_qep.estimation.cpe_state import QuantumSnapshot, CPEState"
   ],
   "metadata": {
    "collapsed": false
   }
  },
  {
   "cell_type": "markdown",
   "source": [
    "Then we set up the quantum platforms we are interested in. Here we choose first and second qubit of ideal simulator. And you can also construct `QuantumSnapshot` with `read_quantum_snapshot()` method."
   ],
   "metadata": {
    "collapsed": false
   }
  },
  {
   "cell_type": "code",
   "execution_count": 3,
   "outputs": [],
   "source": [
    "ideal_baidu1 = QuantumSnapshot(qc_name='Baidu ideal1',\n",
    "                               qc=QCompute.BackendName.LocalBaiduSim2,\n",
    "                               qubits=[0])\n",
    "ideal_baidu2 = QuantumSnapshot(qc_name='Baidu ideal2',\n",
    "                               qc=QCompute.BackendName.LocalBaiduSim2,\n",
    "                               qubits=[1])\n",
    "\n",
    "dev_list = [ideal_baidu1, ideal_baidu2]"
   ],
   "metadata": {
    "collapsed": false
   }
  },
  {
   "cell_type": "markdown",
   "source": [
    "Then we set the quantum program, which used to prepare target quantum state. The rest is simple, we initialize a `CPEState` instance, call the estimate procedure and obtain the fidelity between two platforms. Here, we set $K=100$ and visualize the result."
   ],
   "metadata": {
    "collapsed": false
   }
  },
  {
   "cell_type": "code",
   "execution_count": 4,
   "outputs": [],
   "source": [
    "# Construct the circuit used to prepare target state\n",
    "qp = QCompute.QEnv()\n",
    "qp.Q.createList(1)\n",
    "\n",
    "est = CPEState()\n",
    "result = est.estimate(dev_list, qp, samples=100, shots=50, show=True)\n"
   ],
   "metadata": {
    "collapsed": false
   }
  },
  {
   "cell_type": "markdown",
   "source": [
    "Finally, we can save the quantum platform information as a file."
   ],
   "metadata": {
    "collapsed": false
   }
  },
  {
   "cell_type": "code",
   "execution_count": null,
   "outputs": [],
   "source": [
    "ideal_baidu1.save_data()\n",
    "ideal_baidu2.save_data()"
   ],
   "metadata": {
    "collapsed": false,
    "pycharm": {
     "is_executing": true
    }
   }
  },
  {
   "cell_type": "markdown",
   "source": [
    "## References\n",
    "[1] Elben, Andreas, et al. \"Cross-platform verification of intermediate scale quantum devices.\" [Physical Review Letters](https://journals.aps.org/prl/abstract/10.1103/PhysRevLett.124.010504) 124.1 (2020): 010504."
   ],
   "metadata": {
    "collapsed": false
   }
  }
 ],
 "metadata": {
  "kernelspec": {
   "display_name": "Python 3",
   "language": "python",
   "name": "python3"
  },
  "language_info": {
   "codemirror_mode": {
    "name": "ipython",
    "version": 2
   },
   "file_extension": ".py",
   "mimetype": "text/x-python",
   "name": "python",
   "nbconvert_exporter": "python",
   "pygments_lexer": "ipython2",
   "version": "2.7.6"
  }
 },
 "nbformat": 4,
 "nbformat_minor": 0
}

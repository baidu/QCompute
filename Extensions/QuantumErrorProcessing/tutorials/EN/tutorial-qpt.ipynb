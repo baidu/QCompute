{
 "cells": [
  {
   "cell_type": "markdown",
   "metadata": {},
   "source": [
    "# Quantum Process Tomography\n",
    "\n",
    "*Copyright (c) 2022 Institute for Quantum Computing, Baidu Inc. All Rights Reserved.*\n",
    "\n",
    "## Outline\n",
    "A central challenge on the path towards large-scale quantum computing is the engineering of high-quality quantum process. A method that accurately and reliably characterize unknown quantum process $\\mathcal{N}$ is desirable.\n",
    "\n",
    "Quantum Process Tomography (QPT) deals with identifying an unknown quantum dynamical process. It requires the use of quantum state tomography to reconstruct the process.\n",
    "\n",
    "This tutorial introduces Quantum Process Tomography (QPT), covering its theory and implementation on [Baidu Quantum Platform](https://quantum.baidu.com/)."
   ]
  },
  {
   "cell_type": "markdown",
   "metadata": {},
   "source": [
    "## Theory\n"
   ]
  },
  {
   "cell_type": "markdown",
   "metadata": {},
   "source": [
    "### Pauli transfer matrix representation\n",
    "The Pauli Transfer Matrix (PTM) representation of an $n$-qubit quantum channel $\\mathcal{N}$ is defined with respect to vectorization in Pauli basis instead of column-vectorization. The elements of the PTM of $[\\mathcal{N}]$ are given by\n",
    "\n",
    "$$\n",
    "    [\\mathcal{N}]_{ij} = \\textrm{Tr} \\left[ P_i \\mathcal{N} (P_j) \\right],\n",
    "$$\n",
    "\n",
    "where\n",
    "\n",
    "$$\n",
    "    P_i, P_j \\in \\left\\{ I / \\sqrt{2}, X / \\sqrt{2},  Y / \\sqrt{2},  Z / \\sqrt{2} \\right\\}^{\\otimes n}.\n",
    "$$\n",
    "\n",
    "Let $\\textrm{Tr}\\left[ P_i \\mathcal{N} (P_j) \\right] = \\langle\\langle i | [\\mathcal{N}] | j \\rangle\\rangle$, where $|i\\rangle,$ and $|j\\rangle$ are the bases corresponding to $P_i$ and $P_j$ in the PTM representation. Under this notation, a quantum process can be represented as a $4^n \\times 4^n$ square matrix\n",
    "\n",
    "$$\n",
    "\\begin{align}\n",
    "    [\\mathcal{N}] &= \\left( \\sum_i | i \\rangle\\rangle \\langle\\langle i | \\right) [\\mathcal{N}] \\left( \\sum_j | j \\rangle\\rangle \\langle\\langle j | \\right) \\\\\n",
    "    &= \\sum_{ij} | i \\rangle\\rangle \\langle\\langle i | [\\mathcal{N}]| j \\rangle\\rangle \\langle\\langle j |.\n",
    "\\end{align}\n",
    "$$\n",
    "\n"
   ]
  },
  {
   "cell_type": "markdown",
   "metadata": {},
   "source": [
    "### Process tomography method\n",
    "\n",
    "Similar to QST, we can characterize the quantum process $\\mathcal{N}$ by measuring its Pauli transfer matrix $[\\mathcal{N}]$. To obtain these components, it is usually more experimentally convenient to use a different basis of measurement operators $\\left\\{ E_m \\right\\}_{m=1}^M(M \\geq d^2)$ and preparation operators $\\left\\{ \\rho_n \\right\\}_{n=1}^N(N \\geq d^2)$ that both span the Hilbert-Schmidt space $\\mathscr{L}(\\mathcal{H}_d)$, where $d = 2^n$ and $n$ is the number of qubits. Generally, one measures the $MN$ expectation values (or you may say probabilities)\n",
    "\n",
    "$$\n",
    "    \\forall m \\in [M], n \\in [N], p_{mn} := \\langle\\langle E_m | [\\mathcal{N}] | \\rho_n \\rangle\\rangle = \\textrm{Tr} \\left[ E_m \\mathcal{N}(\\rho_n) \\right].\n",
    "$$\n",
    "\n",
    "Inserting the complete set of Pauli basis, we have\n",
    "\n",
    "$$\n",
    "\\begin{align}\n",
    "    p_{mn} &= \\langle\\langle E_m | [\\mathcal{N}] | \\rho_n \\rangle\\rangle \\\\\n",
    "    &= \\langle\\langle E_m | \\left( \\sum_{j=1}^{d^2} | j \\rangle\\rangle \\langle\\langle j | \\right) [\\mathcal{N}] \\left( \\sum_{k=1}^{d^2} | k \\rangle\\rangle \\langle\\langle k | \\right) | \\rho_n \\rangle\\rangle \\\\\n",
    "    &= \\sum_{jk} \\langle\\langle E_m | j \\rangle\\rangle \\langle\\langle j | [\\mathcal{N}] | k \\rangle\\rangle \\langle\\langle k | \\rho_n \\rangle\\rangle,\n",
    "\\end{align}\n",
    "$$\n",
    "\n",
    "where $\\langle\\langle E_m | j \\rangle\\rangle$ are the $j$-th element of $E_m$ expanding in the Pauli basis and similarly for $\\langle\\langle k | \\rho_n \\rangle\\rangle$.\n",
    "\n",
    "Since the basis $\\left\\{ E_m \\right\\}$ is chosen in advance by the experimenter, we can define an $M \\times d^2$ dimension matrix $\\mathfrak{M}$,\n",
    "\n",
    "$$\n",
    "\\begin{align}\n",
    "  \\mathfrak{M} = \\begin{pmatrix}\n",
    "    \\langle \\langle E_1 | 1 \\rangle \\rangle & \\langle \\langle E_1 | 2 \\rangle \\rangle & \\cdots & \\langle \\langle E_1 | d^2 \\rangle \\rangle \\\\\n",
    "    \\langle \\langle E_2 | 1 \\rangle \\rangle & \\langle \\langle E_2 | 2 \\rangle \\rangle & \\cdots & \\langle \\langle E_2 | d^2 \\rangle \\rangle \\\\\n",
    "    \\vdots & \\vdots & \\ddots & \\vdots \\\\\n",
    "    \\langle \\langle E_M | 1 \\rangle \\rangle & \\langle \\langle E_M | 2 \\rangle \\rangle & \\cdots & \\langle \\langle E_M | d^2 \\rangle \\rangle \\\\\n",
    "  \\end{pmatrix}.\n",
    "\\end{align}\n",
    "$$\n",
    "\n",
    "Similar to QST, we may indirectly estimate $[\\mathcal{N}]$ by approaching the expectation values $p_{mn}$ experimentally. Indeed, they can be experimentally estimated by measuring many copies of the state $\\rho_n$ and calculate the corresponding expectation value following the description in quantum state tomography, as shown in the figure below.\n",
    " \n",
    "![QPT](./figures/qpt-circuit.png \"Figure 1: We construct such circuits to estimate expectation values. \")\n",
    " \n",
    "The equation can also be written in matrix form as\n",
    "\n",
    "$$\n",
    "\\begin{align}\n",
    "  \\mathbf{P} = \\mathfrak{M} \\left[\\mathcal{N}\\right] \\mathfrak{P}^T,\n",
    "\\end{align}\n",
    "$$\n",
    "\n",
    "where $P_{mn} = p_{mn}$.\n",
    "Similarly, we can use linear inversion estimation or ordinary least squares to estimate $[\\mathcal{N}]$.\n",
    "Finally, the flow chart is as follows.\n",
    " \n",
    "![QPT](./figures/qpt-chart.png \"Figure 2: We complete QPT according to this flow chart. \")\n",
    " "
   ]
  },
  {
   "cell_type": "markdown",
   "metadata": {},
   "source": [
    "## Practice\n",
    "\n",
    "We demonstrate quantum process tomography on the CNOT gate.\n",
    "\n",
    "First, we import the necessary libraries."
   ]
  },
  {
   "cell_type": "code",
   "execution_count": 1,
   "metadata": {
    "jupyter": {
     "outputs_hidden": false
    }
   },
   "outputs": [],
   "source": [
    "import numpy as np\n",
    "import QCompute\n",
    "import Extensions.QuantumErrorProcessing.qcompute_qep.tomography as tomography\n",
    "import Extensions.QuantumErrorProcessing.qcompute_qep.quantum.channel as channel\n",
    "import Extensions.QuantumErrorProcessing.qcompute_qep.utils.circuit\n",
    "import Extensions.QuantumErrorProcessing.qcompute_qep.quantum.metrics as metrics"
   ]
  },
  {
   "cell_type": "markdown",
   "metadata": {},
   "source": [
    "Then we set up the quantum program for CNOT gate."
   ]
  },
  {
   "cell_type": "code",
   "execution_count": 2,
   "metadata": {
    "jupyter": {
     "outputs_hidden": false
    }
   },
   "outputs": [],
   "source": [
    "qp = QCompute.QEnv()  # qp is short for \"quantum program\", instance of QProgram\n",
    "qp.Q.createList(2)\n",
    "\n",
    "# Manually decompose the CNOT gate using the CZ gate, where CNOT: q1 -> q0\n",
    "QCompute.H(qp.Q[0])\n",
    "QCompute.CZ(qp.Q[1], qp.Q[0])\n",
    "QCompute.H(qp.Q[0])\n"
   ]
  },
  {
   "cell_type": "markdown",
   "metadata": {},
   "source": [
    " \n",
    "![QPT](./figures/qpt-CNOT-example.png \"Figure 3: We take the CNOT gate as the target of QPT. \")\n",
    " \n",
    "The circuit is shown in the figure above.\n",
    "Before QPT, we compute numerically the ideal PTM of CNOT for reference."
   ]
  },
  {
   "cell_type": "code",
   "execution_count": null,
   "metadata": {
    "jupyter": {
     "outputs_hidden": false
    },
    "pycharm": {
     "is_executing": true
    }
   },
   "outputs": [],
   "source": [
    "ideal_cnot = Extensions.QuantumErrorProcessing.qcompute_qep.utils.circuit.circuit_to_unitary(qp)\n",
    "ideal_ptm = channel.unitary_to_ptm(ideal_cnot).data\n",
    "print(ideal_ptm)"
   ]
  },
  {
   "cell_type": "markdown",
   "metadata": {},
   "source": [
    "Then we set the quantum computer (instance of QComputer). The QuantumComputer can be a simulator or a hardware interface. The rest is simple, we initialize a ProcessTomography instance, call the tomography procedure and obtain the noisy quantum state. Here, we set the method as 'inverse' meas that we estimate $[\\mathcal{N}]$ with linear inversion."
   ]
  },
  {
   "cell_type": "code",
   "execution_count": null,
   "metadata": {
    "jupyter": {
     "outputs_hidden": false
    },
    "pycharm": {
     "is_executing": true
    }
   },
   "outputs": [],
   "source": [
    "# For numeric test, use the local ideal simulator\n",
    "qc = QCompute.BackendName.LocalBaiduSim2\n",
    "\n",
    "# Please log in the \"Quantum Leaf\" platform (https://quantum-hub.baidu.com/) to get Token\n",
    "# QCompute.Define.hubToken = \"Token\"\n",
    "# qc = QCompute.BackendName.CloudBaiduQPUQian\n",
    "\n",
    "# Initialize a ProcessTomography instance\n",
    "st = tomography.ProcessTomography()\n",
    "# Call the tomography procedure and obtain the noisy CZ gate\n",
    "noisy_ptm = st.fit(qp, qc, prep_basis='Pauli', meas_basis='Pauli', method='inverse', shots=4096, ptm=True)\n"
   ]
  },
  {
   "cell_type": "markdown",
   "metadata": {},
   "source": [
    "Finally, we can analyze the experimental data and visualize these PTMs to see the effect of QPT."
   ]
  },
  {
   "cell_type": "code",
   "execution_count": null,
   "metadata": {
    "jupyter": {
     "outputs_hidden": false
    },
    "pycharm": {
     "is_executing": true
    }
   },
   "outputs": [],
   "source": [
    "print(\"****** The average gate fidelity between these two PTMs is: {}\".format(\n",
    "        metrics.average_gate_fidelity(ideal_ptm, noisy_ptm)))\n",
    "\n",
    "# Visualize these PTMs\n",
    "diff_ptm = ideal_ptm - noisy_ptm\n",
    "tomography.compare_process_ptm(ptms=[ideal_ptm, noisy_ptm.data, diff_ptm],\n",
    "                               show_labels=True)\n"
   ]
  },
  {
   "cell_type": "markdown",
   "metadata": {},
   "source": [
    "\n",
    "![](./figures/qpt-output.png \"Figure 4. We visualize the result of example.\")\n"
   ]
  },
  {
   "cell_type": "markdown",
   "metadata": {},
   "source": [
    "## Summary\n",
    "\n",
    "This tutorial describes how to use Quantum Process Tomography method to deal with identifying an unknown quantum dynamical process on [Baidu Quantum Platform](https://quantum.baidu.com/)."
   ]
  },
  {
   "cell_type": "markdown",
   "metadata": {},
   "source": [
    "## References\n",
    "[1] Greenbaum, Daniel. \"Introduction to quantum gate set tomography.\" [arXiv](https://arxiv.org/abs/1509.02921) preprint arXiv:1509.02921 (2015)."
   ]
  }
 ],
 "metadata": {
  "kernelspec": {
   "display_name": "Python 3",
   "language": "python",
   "name": "python3"
  },
  "language_info": {
   "codemirror_mode": {
    "name": "ipython",
    "version": 3
   },
   "file_extension": ".py",
   "mimetype": "text/x-python",
   "name": "python",
   "nbconvert_exporter": "python",
   "pygments_lexer": "ipython3",
   "version": "3.8.5"
  }
 },
 "nbformat": 4,
 "nbformat_minor": 4
}

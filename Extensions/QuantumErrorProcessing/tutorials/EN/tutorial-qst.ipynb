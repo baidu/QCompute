{
 "cells": [
  {
   "cell_type": "markdown",
   "metadata": {},
   "source": [
    "# Quantum State Tomography\n",
    "\n",
    "*Copyright (c) 2022 Institute for Quantum Computing, Baidu Inc. All Rights Reserved.*\n",
    "\n",
    "## Outline\n",
    "\n",
    "A central challenge on the path towards large-scale quantum computing is the engineering of high-quality quantum state. A method that accurately and reliably characterize unknown quantum state $\\rho$ is desirable.\n",
    "Quantum state tomography is the process by which a quantum state is reconstructed using measurements on an ensemble of identical quantum states.\n",
    "\n",
    "This tutorial introduces Quantum State Tomography (QST), covering its theory and implementation on [Baidu Quantum Platform](https://quantum.baidu.com/)."
   ]
  },
  {
   "cell_type": "markdown",
   "metadata": {},
   "source": [
    "## Theory\n",
    "The general principle behind quantum state tomography is that by repeatedly performing many measurements on quantum systems described by identical density matrices, frequency counts can be used to infer probabilities, and these probabilities are combined to determine a density matrix which fits the best with the observations.\n"
   ]
  },
  {
   "cell_type": "markdown",
   "metadata": {},
   "source": [
    "### Pauli transfer matrix representation\n",
    "Manipulations with quantum maps can be conveniently carried out using the superoperator formalism. In this formalism density operators $\\rho$ on a Hilbert space of dimension $d=2^n$ are represented as vectors $| \\rho \\rangle \\rangle $ in Hilbert-Schmidt space of dimension $d^2$. The Hilbert-Schmidt inner product is defined as\n",
    "\n",
    "$$\n",
    "    \\langle\\langle A | B \\rangle\\rangle = \\textrm{Tr} \\left[ A^\\dagger B \\right],\n",
    "$$\n",
    "\n",
    " where $A, \\; B$ are linear operators.\n",
    "Although superoperators can be defined relative to any basis of $\\mathcal{H}_n$,  we continue to find it convenient to use the Pauli basis.\n",
    "Single-qubit case, Pauli basis are:\n",
    "\n",
    "$$\n",
    "\\begin{align}\n",
    "    I = \\left[\\begin{matrix} 1 & 0 \\\\ 0 & 1 \\end{matrix}\\right], \\;\n",
    "    X = \\left[\\begin{matrix} 0 & 1 \\\\ 1 & 0 \\end{matrix}\\right], \\;\n",
    "    Y = \\left[\\begin{matrix} 0 & -i \\\\ i & 0 \\end{matrix}\\right], \\;\n",
    "    Z = \\left[\\begin{matrix} 1 & 0 \\\\ 0 & -1 \\end{matrix}\\right].\n",
    "\\end{align}\n",
    "$$\n",
    "\n",
    "From this point on, we use rescaled Pauli operators $P_k \\to P_k / \\sqrt{d}$. This way the basis is properly normalized, and we avoid having to write factors of $d$ everywhere.\n",
    "\n",
    "$$\n",
    "    P_k \\in \\left\\{ I / \\sqrt{2}, X / \\sqrt{2},  Y / \\sqrt{2},  Z / \\sqrt{2} \\right\\}^{\\otimes n}.\n",
    "$$\n",
    "\n",
    "We represent state $\\rho$ as state vectors\n",
    "\n",
    "$$\n",
    "    | \\rho \\rangle \\rangle = \\sum_k |k\\rangle\\rangle \\langle \\langle k| \\rho \\rangle\\rangle,\\sum_k |k\\rangle\\rangle \\langle \\langle k| = I,\n",
    "$$\n",
    "\n",
    "with components\n",
    "\n",
    "$$\n",
    "    \\langle\\langle k | \\rho \\rangle\\rangle = \\textrm{Tr} \\left[ P_k \\rho \\right].\n",
    "$$\n",
    "\n",
    "This is simply a restatement of the completeness of the Pauli basis:\n",
    "\n",
    "$$\n",
    "    \\rho = \\sum_k \\textrm{Tr} \\left[P_k \\rho\\right] P_k.\n",
    "$$\n"
   ]
  },
  {
   "cell_type": "markdown",
   "metadata": {},
   "source": [
    "### State tomography method\n",
    "\n",
    "Quantum state tomography attempts to characterize an unknown state $\\rho$ by measuring its components $| \\rho \\rangle \\rangle$. To obtain these components, it is usually more experimentally convenient to use a different basis of measurement operators $\\left\\{ E_j \\right\\}_{j=1}^M (M \\geq d^2)$ than span the Hilbert-Schmidt space $\\mathscr{L}(\\mathcal{H}_d)$, where $d = 2^n$ and $n$ is the number of qubits. Generally, one measures the $M$ expectation values (or you may say probabilities)\n",
    "\n",
    "$$\n",
    "    \\forall j \\in [M],\\; p_j := \\langle\\langle E_j | \\rho \\rangle \\rangle = \\textrm{Tr} \\left[ E_j \\rho \\right].\n",
    "$$\n",
    "\n",
    "Inserting the complete set of Pauli basis, we have\n",
    "\n",
    "$$\n",
    "    p_j = \\langle\\langle E_j | \\rho \\rangle\\rangle = \\langle\\langle E_j |\n",
    "    \\left( \\sum_{k=1}^{d^2} | k \\rangle\\rangle \\langle\\langle k | \\right) | \\rho \\rangle\\rangle\n",
    "    = \\sum_{k=1}^{d^2} \\langle\\langle E_j | k \\rangle \\rangle \\langle \\langle k | \\rho \\rangle \\rangle,\n",
    "$$\n",
    "\n",
    "where $\\langle\\langle E_j | k \\rangle\\rangle = \\textrm{Tr} \\left[ P_k E_j \\right]$, $\\langle \\langle k | \\rho \\rangle \\rangle = \\textrm{Tr} \\left[ P_k \\rho \\right]$.\n",
    "Since $\\left\\{ E_j \\right\\}_j$ is chosen in advance by the experimenter, we may assume the matrix $A$ is known whose elements are defined as\n",
    "\n",
    "$$\n",
    "    A_{jk} = \\langle\\langle E_j | k \\rangle\\rangle \\Rightarrow\n",
    "    A = \\left[\n",
    "         \\begin{matrix}\n",
    "           \\langle\\langle E_1 | 1 \\rangle\\rangle & \\langle\\langle E_1 | 2 \\rangle\\rangle & \\dots & \\langle\\langle E_1 | d^2 \\rangle\\rangle \\\\\n",
    "           \\langle\\langle E_2 | 1 \\rangle\\rangle & \\langle\\langle E_2 | 2 \\rangle\\rangle & \\dots & \\langle\\langle E_2 | d^2 \\rangle\\rangle \\\\\n",
    "           \\vdots & \\vdots & \\ddots & \\vdots \\\\\n",
    "           \\langle\\langle E_M | 1 \\rangle\\rangle & \\langle\\langle E_M | 2 \\rangle\\rangle & \\dots & \\langle\\langle E_M | d^2 \\rangle\\rangle \\\\\n",
    "          \\end{matrix}\n",
    "      \\right].\n",
    "$$\n",
    "\n",
    "The probability $p_j$ can be estimated as the sample average $ \\hat{p}_j = \\sum_{i=1}^N \\hat{p}_{i|j} / N $ of $N$ single-shot measurements of $E_j$, where $\\hat{p}_{i|j} = 0$ or $1$ is the outcome of the $i$-th measurement. The expected value of $\\mathbb{E} \\hat{p}_j = \\sum_{i=1}^N \\mathbb{E} \\hat{p}_{i|j} / N = p_j$. The sample average $\\hat{p}_j$ approaches the true value $p_j$ as $N \\to \\infty$.\n",
    "Then we define the following $M \\times 1$ dimensional real vector:\n",
    "\n",
    "$$\n",
    "    \\hat{p} := \\left[ \\begin{matrix} \\hat{p}_1 \\\\  \\hat{p}_2 \\\\ \\vdots \\\\ \\hat{p}_M \\\\  \\end{matrix}\\right],\n",
    "$$\n",
    "\n",
    "which can be experimentally obtained, as shown in the figure below, we measure $\\rho$ with each $E_j$ for $N$ times, and obtain the expectation values $\\hat{p}_j$.\n",
    "\n",
    "![QST](./figures/qst-circuit.png \"Figure 1: We construct such circuits to estimate expectation values. \")\n",
    " \n",
    "What's more, notice that\n",
    "\n",
    "$$\n",
    "    | \\rho \\rangle\\rangle =\n",
    "    \\left[ \\begin{matrix} \\langle\\langle 1 | \\rho \\rangle\\rangle \\\\ \\langle\\langle 2 | \\rho \\rangle\\rangle \\\\ \\vdots \\\\ \\langle\\langle d^2 | \\rho \\rangle\\rangle \\\\  \\end{matrix} \\right].\n",
    "$$\n",
    "\n",
    "The problem can be rewritten in matrix form as\n",
    "\n",
    "$$\n",
    "    \\hat{p} = A | \\rho \\rangle \\rangle,\n",
    "$$\n",
    "\n",
    "where both $A$ and $\\hat{p}$ are known, and we aim to estimate the unknown $| \\rho \\rangle\\rangle$.\n",
    "If the set of measurement observables $\\left\\{ E_j \\right\\}_j$ are carefully chosen so that $A$ is invertible (in which case it must hold that $M = d^2$), the solution is\n",
    "\n",
    "$$\n",
    "    |\\rho\\rangle\\rangle = A^{-1} \\hat{p}.\n",
    "$$\n",
    "\n",
    "Actually, the optimization problem can be analytically resolved provided that the $d^2$ columns of the matrix $A$ are linearly independent:\n",
    "\n",
    "$$\n",
    "    | \\rho \\rangle\\rangle = \\left(A^\\dagger A\\right)^{-1} A^\\dagger \\hat{p},\n",
    "$$\n",
    "\n",
    "where $A^\\dagger A$ is known as the Gram matrix and is always invertible.\n",
    "Finally, the flow chart is as follows.\n",
    " \n",
    "![QST](./figures/qst-chart.png \"Figure 2: We complete QST according to this flow chart.\")\n",
    " "
   ]
  },
  {
   "cell_type": "markdown",
   "metadata": {},
   "source": [
    "## Practice\n",
    "\n",
    "We demonstrate quantum state tomography on the Bell state.\n",
    "\n",
    "First, we import the necessary libraries."
   ]
  },
  {
   "cell_type": "code",
   "execution_count": 1,
   "metadata": {
    "jupyter": {
     "outputs_hidden": false
    }
   },
   "outputs": [],
   "source": [
    "from QCompute import *\n",
    "from Extensions.QuantumErrorProcessing.qcompute_qep.tomography import StateTomography"
   ]
  },
  {
   "cell_type": "markdown",
   "metadata": {},
   "source": [
    "Then we set up the quantum program for preparing the Bell state. The circuit is shown in the figure above.\n",
    "\n",
    "![QST](./figures/qst-Bell-example.png \"Figure 3: We take the Bell state as the target of QST. \")"
   ]
  },
  {
   "cell_type": "code",
   "execution_count": 2,
   "metadata": {
    "jupyter": {
     "outputs_hidden": false
    }
   },
   "outputs": [],
   "source": [
    "qp = QEnv()  # qp is short for \"quantum program\", instance of QProgram\n",
    "qp.Q.createList(2)\n",
    "H(qp.Q[0])\n",
    "CX(qp.Q[0], qp.Q[1])"
   ]
  },
  {
   "cell_type": "markdown",
   "metadata": {},
   "source": [
    "Then we set the quantum computer (instance of QComputer). The QuantumComputer can be a simulator or a hardware interface. The rest is simple, we initialize a StateTomography instance, call the tomography procedure and obtain the noisy quantum state, we set the method as 'inverse' means that we estimate $| \\rho \\rangle\\rangle$ with $|\\rho\\rangle\\rangle = A^{-1}\\hat{p}$."
   ]
  },
  {
   "cell_type": "code",
   "execution_count": null,
   "metadata": {
    "jupyter": {
     "outputs_hidden": false
    },
    "pycharm": {
     "is_executing": true
    }
   },
   "outputs": [],
   "source": [
    "# For numeric test, use the local ideal simulator\n",
    "qc = BackendName.LocalBaiduSim2\n",
    "\n",
    "# Please log in the \"Quantum Leaf\" platform (https://quantum-hub.baidu.com/) to get Token\n",
    "# Define.hubToken = \"Token\"\n",
    "# qc = BackendName.CloudBaiduQPUQian\n",
    "\n",
    "# Initialize a StateTomography instance\n",
    "st = StateTomography()\n",
    "# Call the tomography procedure and obtain the noisy quantum state\n",
    "qubits = [0, 1]\n",
    "st.fit(qp, qc, qubits=qubits, method='lstsq', shots=4096, ptm=False)"
   ]
  },
  {
   "cell_type": "markdown",
   "metadata": {},
   "source": [
    "In quantum mechanics, notably in quantum information theory, fidelity is a measure fo the \"closeness\" of two quantum states. Since We use fidelity to evaluate the effect of QST."
   ]
  },
  {
   "cell_type": "code",
   "execution_count": null,
   "metadata": {
    "jupyter": {
     "outputs_hidden": false
    },
    "pycharm": {
     "is_executing": true
    }
   },
   "outputs": [],
   "source": [
    "print('Fidelity of the Bell state on qubits {} is: F = {:.5f}'.format(qubits, st.fidelity))"
   ]
  },
  {
   "cell_type": "markdown",
   "source": [
    "Furthermore, we can compare the ideal and noisy PTMs of the target quantum state to check out the effect of the quantum noise:"
   ],
   "metadata": {
    "collapsed": false
   }
  },
  {
   "cell_type": "code",
   "execution_count": null,
   "outputs": [],
   "source": [
    "print(\"The PTM of the ideal state is:\")\n",
    "print(st.ideal_state)\n",
    "print(\"The PTM of the noisy state is:\")\n",
    "print(st.noisy_state)"
   ],
   "metadata": {
    "collapsed": false
   }
  },
  {
   "cell_type": "markdown",
   "source": [
    "We can perform the quantum state tomography on other qubits by specifying the parameter `qubits`. In the following example, we perform QST on Q1 and Q2:"
   ],
   "metadata": {
    "collapsed": false
   }
  },
  {
   "cell_type": "code",
   "execution_count": null,
   "outputs": [],
   "source": [
    "qubits = [1, 2]\n",
    "st.fit(qp, qc, qubits=qubits, method='lstsq', shots=4096, ptm=False)\n",
    "print('Fidelity of the Bell state on qubits {} is: F = {:.5f}'.format(qubits, st.fidelity))"
   ],
   "metadata": {
    "collapsed": false
   }
  },
  {
   "cell_type": "markdown",
   "metadata": {},
   "source": [
    "## Summary\n",
    "\n",
    "This tutorial describes how to use Quantum State Tomography method to reconstruct the unknown quantum state on [Baidu Quantum Platform](https://quantum.baidu.com/)."
   ]
  },
  {
   "cell_type": "markdown",
   "metadata": {},
   "source": [
    "## References\n",
    "[1] Greenbaum, Daniel. \"Introduction to quantum gate set tomography.\" [arXiv](https://arxiv.org/abs/1509.02921) preprint arXiv:1509.02921 (2015).\n"
   ]
  }
 ],
 "metadata": {
  "kernelspec": {
   "display_name": "Python 3",
   "language": "python",
   "name": "python3"
  },
  "language_info": {
   "codemirror_mode": {
    "name": "ipython",
    "version": 3
   },
   "file_extension": ".py",
   "mimetype": "text/x-python",
   "name": "python",
   "nbconvert_exporter": "python",
   "pygments_lexer": "ipython3",
   "version": "3.8.5"
  }
 },
 "nbformat": 4,
 "nbformat_minor": 4
}

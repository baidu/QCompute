{
 "cells": [
  {
   "cell_type": "markdown",
   "id": "58ad9193",
   "metadata": {},
   "source": [
    "# Cross Entropy Benchmarking\n",
    "\n",
    "*Copyright (c) 2022 Institute for Quantum Computing, Baidu Inc. All Rights Reserved.*"
   ]
  },
  {
   "cell_type": "markdown",
   "id": "23935b2f",
   "metadata": {},
   "source": [
    "**Cross entropy benchmarking (XEB)** collects data from different depths of random quantum circuits to determine the fidelity ($F_{XEB}$) and\n",
    "**Effective Noise Rate (ENR)** of a quantum device.\n",
    "Google benchmarking their quantum processor Sycamore by this method proved that they reach the quantum supremacy[1].\n",
    "This tutorial introduces XEB, covering its theory and implementation on [Baidu Quantum Platform](https://quantum.baidu.com/).\n"
   ]
  },
  {
   "cell_type": "markdown",
   "id": "3d5557c8",
   "metadata": {},
   "source": [
    "## Theory\n",
    "### Porter-Thomas distribution\n",
    "\n",
    "For an $n$-bit fixed bitstring $ x^* \\in \\{0,1\\}^{n} $,\n",
    "a quantum program will specify the probability of sampling this bitstring, define this probability as $P$.\n",
    "If we draw a quantum program at random, we will get the probability of the probability of sampling this bitstring is.\n",
    "Let's call it meta-probability and define it as $f(P)$, the probability distribution of meta-probability of drawing some given bitstring, is specified by the Porter-Thomas distribution:\n",
    "\n",
    "$$\n",
    "f(p) = Ne^{-Np},\n",
    "$$\n",
    "\n",
    "where $N = 2^n$. We have very good complexity-theoretic evidence to believe that, with the increasing of number of qubits, bitstring outputs generated from random quantum programs are exponentially difficult for classical computers to reproduce.\n",
    "\n",
    "### Random circuits\n",
    "\n",
    "The common structure of random circuit in XEB is as follows[2]:\n",
    "\n",
    "![random-circuit](figures/xeb-random-circuit.png \"Fig 1 Random Quantum Circuit\")\n",
    "\n",
    "Experimental implementation of random circuit, where only random single qubit gates are used (blue box) with fixed two-qubit gates (white box). Here we define depth as the number of layers contain single qubit gates and fixed two-qubit gates, as red box show in the Figure. Baidu Quantum Platform has the function that implements the random circuit with arbitrary number of qubits and depths. The default settings of function for single qubit gates is *U3* gates and\n",
    "*CNOT* for two-qubit gates. User can define their own choice of single qubit and two-qubit gates. Now we use the function as example that illustrates the random circuit."
   ]
  },
  {
   "cell_type": "code",
   "execution_count": null,
   "id": "eca2e0de",
   "metadata": {
    "jupyter": {
     "outputs_hidden": false
    }
   },
   "outputs": [],
   "source": [
    "import numpy as np\n",
    "from typing import List\n",
    "import matplotlib.pyplot as plt\n",
    "\n",
    "from Extensions.QuantumErrorProcessing.qcompute_qep.utils.circuit import random_circuit, circuit_to_state, print_circuit\n",
    "from Extensions.QuantumErrorProcessing.qcompute_qep.benchmarking.xeb import XEB"
   ]
  },
  {
   "cell_type": "code",
   "execution_count": null,
   "id": "45d63c9d",
   "metadata": {},
   "outputs": [],
   "source": [
    "qubits=[0, 1] # qubits list\n",
    "m = 2 # depths\n",
    "qp = random_circuit(qubits,m)\n",
    "print_circuit(qp.circuit)"
   ]
  },
  {
   "cell_type": "markdown",
   "id": "1d0410f2",
   "metadata": {},
   "source": [
    "Now we can generate the PT distribution from random circuits by using this function.\n"
   ]
  },
  {
   "cell_type": "code",
   "execution_count": null,
   "id": "07417463",
   "metadata": {},
   "outputs": [],
   "source": [
    "def porter_distribution_sample(qubits: List[int], m_cycle: int, trials: int):\n",
    "    n_qubits = len(qubits)\n",
    "    dimension = 2 ** n_qubits\n",
    "    # picks a random bitstring as labelled by the integers 1 to 2**n_qubits\n",
    "\n",
    "    probs_bitstring = []\n",
    "\n",
    "    # Start sample\n",
    "    for i in range(trials):\n",
    "        env = random_circuit(qubits, m_cycle)\n",
    "        state = circuit_to_state(env, vector=True)\n",
    "        state = state.reshape(-1)\n",
    "        bitstring = np.random.choice(dimension)\n",
    "        prob = np.abs(state[bitstring]) ** 2\n",
    "        probs_bitstring.append(prob)\n",
    "    return probs_bitstring\n",
    "\n",
    "\n",
    "def plot_sample_result(n_qubits, probs_bitstring):\n",
    "    dim = 2 ** n_qubits\n",
    "    xspace = np.linspace(0.0, 1.0, 100)\n",
    "    yspace = dim * np.exp(-dim * xspace)\n",
    "\n",
    "    # plot both empirical and theoretical calculations\n",
    "    plt.figure(figsize=(9, 6))\n",
    "    plt.hist(probs_bitstring, bins=20, density=True, label='Empirical Distribution')\n",
    "    plt.plot(xspace, yspace, label='Theoretical Porter-Thomas Distribution')\n",
    "\n",
    "    plt.xlabel(\"Probability p\")\n",
    "    plt.ylabel(\"Probability that the random bistring occurs with probability p\")\n",
    "    plt.legend(loc='best')\n",
    "    plt.show()\n",
    "\n",
    "qubits = [0, 1]\n",
    "N = len(qubits)\n",
    "M = 5  # depths\n",
    "trials = 1 * 10 ** 4  # number of sample\n",
    "plot_sample_result(N, porter_distribution_sample(qubits, M, trials))"
   ]
  },
  {
   "cell_type": "markdown",
   "id": "73f47375-40cc-4557-b2f2-1825facc587f",
   "metadata": {},
   "source": [
    "As shown above, the resulting distribution is in consistent with the theoretical distribution.\n",
    "\n",
    "Notice tha the following factors will affect the randomness of circuit.\n",
    "\n",
    "1. structure of random circuit\n",
    "\n",
    "2. choice of quantum gates\n",
    "\n",
    "3. number of qubits\n",
    "\n",
    "4. depths of circuit\n",
    "\n",
    "\n",
    "### Randomized benchmarking\n",
    "\n",
    "The fidelity $F_{XEB}$ as mention above is the distance metric between the probability distributions of the outputs from noise circuit and ideal circuit. The example of PT distribution sampling above can be regarded as sampling a maximally mixed stated, since we sample all the possible result with equal probability. We calculate the fidelity by using linear cross entropy. The linear cross entropy is defined as\n",
    "\n",
    "$$\n",
    "\\mathcal L\\left(P\\parallel Q\\right) = 2^{n}\\sum\\limits_{x}P(x)Q(x)-1.\n",
    "$$\n",
    "\n",
    "To calculate the fidelity, we use the following equation\n",
    "\n",
    "$$\n",
    "F_{XEB} = \\mathcal L\\left(P_{noisy}\\parallel P_{ideal}\\right) \\approx \\frac{D}{RS}\\sum\\limits_{r=1}^{R}\\sum\\limits_{s=1}^{S}P_{ideal}^{(r)}\\left(x_{s}^{(r)}\\right)-1,\n",
    "$$\n",
    "\n",
    "where $D = 2^n$, $R$ is number of circuits for each depths, $S$ is shots of each circuit, $P_{ideal}^{(r)}$ is the ideal probability, and $ x_{s}^{(r)} $ is the outcome bitstring samples obtained from random circuit on the noisy quantum device. When the samples $x_{s}^{(r)}$ come from the ideal distribution, the $F_{XEB}$ can be exponentially large. So we consider the **unbiased linear cross entropy** $ F_{uXEB} $, defined as:\n",
    "\n",
    "$$\n",
    "F_{uXEB} = \\frac{\\frac{D}{RS}\\sum_{r,s=1}^{RS}P_{ideal}^{(r)}\\left(x_{s}^{(r)}\\right)-1} {\\frac{D}{R}\\sum_{r=1}^{R}{\\left(P_{ideal}^{(r)}\\left(x^{(r)}\\right)\\right)}^{2}-1},\n",
    "$$\n",
    "\n",
    "where $x^{r} \\in \\{0,1\\}^{n}$. When the circuit is ideal circuit, the $F_{uXEB} = 1$. After calculating the $F_{uXEB}$ from different depths of circuit. We can fit the data as following equation to get **ENR**:\n",
    "\n",
    "$$\n",
    "F = Ae^{-{\\lambda}d},\n",
    "$$\n",
    "\n",
    "where $d$ is depth, $F$ is $F_{uXEB}$, and $\\lambda$ is **ENR**.\n",
    "\n",
    "## Practice\n",
    "\n",
    "We can use following codes to obtain the outcomes and plot the result.\n",
    "\n",
    "### Single qubit circuit"
   ]
  },
  {
   "cell_type": "code",
   "execution_count": null,
   "id": "a460b8cc",
   "metadata": {},
   "outputs": [],
   "source": [
    "import QCompute\n",
    "\n",
    "# For numeric test, use the local ideal simulator\n",
    "qc = QCompute.BackendName.LocalBaiduSim2\n",
    "\n",
    "# Please log in the \"Quantum Leaf\" platform (https://quantum-hub.baidu.com/) to get Token\n",
    "# QCompute.Define.hubToken = \"Token\"\n",
    "# qc = QCompute.BackendName.CloudBaiduQPUQian\n",
    "\n",
    "xeb_1 = XEB()\n",
    "xeb_1_results = xeb_1.benchmark(qubits=[0],\n",
    "                            qc=qc,\n",
    "                            shots=4096,\n",
    "                            repeats=20,\n",
    "                            seq_lengths=[1, 5, 10, 15, 20, 30, 40])\n",
    "xeb_1.plot_results()\n"
   ]
  },
  {
   "cell_type": "markdown",
   "id": "ed553bb2",
   "metadata": {},
   "source": [
    "### Two qubit circuit"
   ]
  },
  {
   "cell_type": "code",
   "execution_count": null,
   "id": "0e181fd9-9582-47b2-b74b-105cf2139805",
   "metadata": {},
   "outputs": [],
   "source": [
    "xeb_2 = XEB()\n",
    "xeb_2_results = xeb_2.benchmark(qubits=[0, 1 ],\n",
    "                            qc=qc,\n",
    "                            shots=4096,\n",
    "                            repeats=20,\n",
    "                            seq_lengths=[1, 5, 10, 15, 20, 30, 40])\n",
    "xeb_2.plot_results()"
   ]
  },
  {
   "cell_type": "markdown",
   "id": "6ee3360e",
   "metadata": {},
   "source": [
    "We get the fitting curve by the sampling rom different depth of random circuit.\n",
    "Let's print the result to get the ENR."
   ]
  },
  {
   "cell_type": "code",
   "execution_count": null,
   "id": "cb8ba166",
   "metadata": {
    "jupyter": {
     "outputs_hidden": false
    }
   },
   "outputs": [],
   "source": [
    "print(\"The ENR is: \",xeb_1_results['lambda'])\n",
    "print(\"The ENR is: \",xeb_2_results['lambda'])"
   ]
  },
  {
   "cell_type": "markdown",
   "id": "17aef35d",
   "metadata": {},
   "source": [
    "We have finished the XEB and successfully obtained the **ENR** of noisy quantum device. User can define different noise model and parameters to obtain more results. More details can find on this paper[2]."
   ]
  },
  {
   "cell_type": "markdown",
   "id": "9ae8cd99-0bde-47b0-a6a7-d8557a6c8a81",
   "metadata": {},
   "source": [
    "## References\n",
    "\n",
    "\\[1\\] Arute, F., Arya, K., Babbush, R. et al. Quantum supremacy using a programmable superconducting processor. [Nature](https://www.nature.com/articles/s41586-019-1666-5) 574, 505–510 (2019).\n",
    "\n",
    "\\[2\\] Liu, Yunchao, et al. \"Benchmarking near-term quantum computers via random circuit sampling.\" [arXiv](https://arxiv.org/abs/2105.05232) preprint arXiv:2105.05232 (2022)."
   ]
  }
 ],
 "metadata": {
  "kernelspec": {
   "display_name": "PyCharm (QEPDev)",
   "language": "python",
   "name": "pycharm-f9e55111"
  },
  "language_info": {
   "codemirror_mode": {
    "name": "ipython",
    "version": 3
   },
   "file_extension": ".py",
   "mimetype": "text/x-python",
   "name": "python",
   "nbconvert_exporter": "python",
   "pygments_lexer": "ipython3",
   "version": "3.8.5"
  },
  "toc-autonumbering": false,
  "toc-showmarkdowntxt": false
 },
 "nbformat": 4,
 "nbformat_minor": 5
}

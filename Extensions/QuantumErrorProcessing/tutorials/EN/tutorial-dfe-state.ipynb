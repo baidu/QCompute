{
 "cells": [
  {
   "cell_type": "markdown",
   "source": [
    "# Direct Fidelity Estimation of Quantum States\n",
    "\n",
    "*Copyright (c) 2022 Institute for Quantum Computing, Baidu Inc. All Rights Reserved.*\n",
    "\n",
    "## Outline\n",
    "\n",
    "Quantum State Tomography gives complete information about the state we prepared, but it is very resource-consuming, and sometimes we only care about the fidelity between the ideal and actual quantum states. Direct Fidelity Estimation (DFE) is a simple method for certifying that how close between the actually prepared state and the ideal state.\n",
    "\n",
    "This tutorial introduces Direct Fidelity Estimation (DFE) of quantum states, covering its theory and implementation on [Baidu Quantum Platform](https://quantum.baidu.com/)."
   ],
   "metadata": {
    "collapsed": false
   }
  },
  {
   "cell_type": "markdown",
   "source": [
    "## Theory\n"
   ],
   "metadata": {
    "collapsed": false
   }
  },
  {
   "cell_type": "markdown",
   "source": [
    "### Fidelity estimation\n",
    "\n",
    "The fidelity between our desired pure states $\\rho$ and the actual state $\\sigma$ is given by\n",
    "\n",
    "$$\n",
    "    \\mathcal{F}(\\rho, \\sigma) = \\textrm{Tr}[\\rho\\sigma].\n",
    "$$\n",
    "\n",
    "We define $P_k(k=1,\\cdots,d^2)$ as all possible Pauli operators, where $d=2^n$ and $n$ is the number of qubits. We know that both $\\sigma$ and $\\rho$ can be expanded in Pauli basis. Define the characteristic function $\\chi_\\rho(k) = \\textrm{Tr}[\\rho P_k/\\sqrt{d}]$, and the fidelity $\\mathcal{F}(\\rho, \\sigma)$ can be rewritten as\n",
    "\n",
    "$$\n",
    "\\begin{align*}\n",
    "        \\textrm{Tr}[\\rho\\sigma]\n",
    "    &=  \\langle\\langle \\rho | \\sigma \\rangle\\rangle \\\\\n",
    "    &=  \\sum_k \\langle\\langle \\rho | k \\rangle\\rangle \\langle\\langle k | \\sigma \\rangle\\rangle \\\\\n",
    "    &=  \\sum_k \\textrm{Tr}[\\rho P_k/\\sqrt{d}]\\textrm{Tr}[\\sigma P_k/\\sqrt{d}] \\\\\n",
    "    &=  \\sum_k \\chi_\\rho(k)\\chi_\\sigma(k).\n",
    "\\end{align*}\n",
    "$$\n",
    "\n",
    "Then we construct an estimator for $\\textrm{Tr}[\\rho\\sigma]$ as follows. Firstly, we sample $k\\in\\left\\{1, \\cdots, d^2\\right\\}$ at random with probability\n",
    "\n",
    "$$\n",
    "    \\textrm{Pr}(k) = \\chi^2_\\rho(k).\n",
    "$$\n",
    "\n",
    "For each $k$, we can estimate $\\chi_\\sigma(k)$ with $P_k$ measurement circuit. The estimator $X$ is defined as\n",
    "\n",
    "$$\n",
    "    X = \\chi_\\sigma(k) / \\chi_\\rho(k).\n",
    "$$\n",
    "\n",
    "We can easily find that $\\mathbb{E}X = \\sum_k\\textrm{Pr}(k)X = \\textrm{Tr}[\\rho\\sigma]$."
   ],
   "metadata": {
    "collapsed": false
   }
  },
  {
   "cell_type": "markdown",
   "source": [
    "### Parameter setting\n",
    "\n",
    "There remains two questions:\n",
    "\n",
    "1. How much Pauli operators we have to sample?\n",
    "2. For each Pauli operator, how to select the number of shots?\n",
    "\n",
    "In the following, we will solve above question. Now we consider some fixed additive error $\\epsilon$ and failure probability $\\delta$. By Chebyshev's inequality and Hoeffding's inequality, we can compute the sample times $\\ell$ and $i$-th Pauli operator's shot number $m_i$ with these two parameters[1].\n",
    "\n",
    "We can conclude that, with probability $\\geq 1-2\\delta$, the fidelity $\\mathcal{\\rho,\\sigma}$ lies in the range $[\\tilde{\\mathcal{F}}(\\rho, \\sigma)-2\\epsilon, \\tilde{\\mathcal{F}}(\\rho, \\sigma)+2\\epsilon]$ , where $\\tilde{\\mathcal{F}}(\\rho, \\sigma)$ is our estimation of fidelity.\n"
   ],
   "metadata": {
    "collapsed": false
   }
  },
  {
   "cell_type": "markdown",
   "source": [
    "## Practice\n",
    "\n",
    "Then, we demonstrate DFE on the Bell state.\n",
    "\n",
    "First, we import the necessary libraries."
   ],
   "metadata": {
    "collapsed": false
   }
  },
  {
   "cell_type": "code",
   "execution_count": null,
   "outputs": [],
   "source": [
    "import QCompute\n",
    "import Extensions.QuantumErrorProcessing.qcompute_qep.estimation as estimation"
   ],
   "metadata": {
    "collapsed": false
   }
  },
  {
   "cell_type": "markdown",
   "source": [
    "Then we set up the quantum program for preparing the Bell state on the second and third qubit."
   ],
   "metadata": {
    "collapsed": false
   }
  },
  {
   "cell_type": "code",
   "execution_count": null,
   "outputs": [],
   "source": [
    "qp = QCompute.QEnv()  # qp is short for \"quantum program\", instance of QProgram\n",
    "qp.Q.createList(3)\n",
    "QCompute.H(qp.Q[1])\n",
    "QCompute.CX(qp.Q[1], qp.Q[2])"
   ],
   "metadata": {
    "collapsed": false
   }
  },
  {
   "cell_type": "markdown",
   "source": [
    "![DFE](./figures/dfe-bell-state.png \"Figure 1: We take the Bell state as the target of DFE. \")\n",
    "\n",
    "The circuit is shown in the figure above.\n",
    "\n",
    "Then we set the quantum computer (instance of QComputer). The QuantumComputer can be a simulator or a hardware interface. The rest is simple. We initialize a DFEState instance and call the estimate procedure. Here we set $\\epsilon=\\delta=0.05$ and choose the 2st and 3nd qubits."
   ],
   "metadata": {
    "collapsed": false
   }
  },
  {
   "cell_type": "code",
   "execution_count": null,
   "outputs": [],
   "source": [
    "# For numeric test, use the local ideal simulator\n",
    "qc = QCompute.BackendName.LocalBaiduSim2\n",
    "\n",
    "# Please log in the \"Quantum Leaf\" platform (https://quantum-hub.baidu.com/) to get Token\n",
    "# QCompute.Define.hubToken = \"Token\"\n",
    "# qc = QCompute.BackendName.CloudBaiduQPUQian\n",
    "\n",
    "# Initialize a DFEState instance\n",
    "est = estimation.DFEState()\n",
    "\n",
    "# Call the estimate procedure\n",
    "est.estimate(qp, qc, qubits=[1, 2], epsilon=0.05, delta=0.05)"
   ],
   "metadata": {
    "collapsed": false
   }
  },
  {
   "cell_type": "markdown",
   "source": [
    "Finally, we can obtain the fidelity between ideal and actual Bell state."
   ],
   "metadata": {
    "collapsed": false
   }
  },
  {
   "cell_type": "code",
   "execution_count": null,
   "outputs": [],
   "source": [
    "print('Fidelity between the ideal and noisy states is: F = {:.5f}'.format(est.fidelity))"
   ],
   "metadata": {
    "collapsed": false
   }
  },
  {
   "cell_type": "markdown",
   "source": [
    "## References\n",
    "\n",
    "[1] Flammia, Steven T., and Yi-Kai Liu. \"Direct fidelity estimation from few Pauli measurements.\" **[Physical Review Letters](https://journals.aps.org/prl/abstract/10.1103/PhysRevLett.106.230501)** 106.23 (2011): 230501.\n",
    "\n",
    "[2] da Silva, Marcus P., Olivier Landon-Cardinal, and David Poulin. \"Practical characterization of quantum devices without tomography.\" **[Physical Review Letters](https://journals.aps.org/prl/abstract/10.1103/PhysRevLett.107.210404)** 107.21 (2011): 210404.\n",
    "\n",
    "[3] Kliesch, Martin, and Ingo Roth. \"Theory of Quantum System Certification.\" **[PRX Quantum](https://journals.aps.org/prxquantum/abstract/10.1103/PRXQuantum.2.010201)** 2.1 (2021): 010201."
   ],
   "metadata": {
    "collapsed": false
   }
  }
 ],
 "metadata": {
  "kernelspec": {
   "display_name": "Python 3",
   "language": "python",
   "name": "python3"
  },
  "language_info": {
   "codemirror_mode": {
    "name": "ipython",
    "version": 2
   },
   "file_extension": ".py",
   "mimetype": "text/x-python",
   "name": "python",
   "nbconvert_exporter": "python",
   "pygments_lexer": "ipython2",
   "version": "2.7.6"
  }
 },
 "nbformat": 4,
 "nbformat_minor": 0
}

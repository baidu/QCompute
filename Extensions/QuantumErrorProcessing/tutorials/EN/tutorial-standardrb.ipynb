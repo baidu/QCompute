{
 "cells": [
  {
   "cell_type": "markdown",
   "id": "58ad9193",
   "metadata": {},
   "source": [
    "# Standard Randomized Benchmarking\n",
    "\n",
    "*Copyright (c) 2022 Institute for Quantum Computing, Baidu Inc. All Rights Reserved.*"
   ]
  },
  {
   "cell_type": "markdown",
   "id": "23935b2f",
   "metadata": {},
   "source": [
    "**Standard Randomized Benchmarking (SRB)** is the algorithm for benchmarking the full set of Clifford gates by a single parameter, **Error Per Clifford (EPC)**, using randomization techniques.\n",
    "This tutorial introduces **SRB**, covering its theory and implementation on [Baidu Quantum Platform](https://quantum.baidu.com/).\n"
   ]
  },
  {
   "cell_type": "markdown",
   "id": "3d5557c8",
   "metadata": {},
   "source": [
    "## Theory\n",
    "### Clifford gates\n",
    "The Clifford Gate is a restricted class of gates - the gates which transform elements of the Pauli group into other elements of the Pauli group[1]\n",
    "\n",
    "$$\n",
    "Cl(P_n)\\equiv \\left\\{U\\vert UP_nU^{\\dagger}=P_n\\right\\}.\n",
    "$$\n",
    "\n",
    "The basic Clifford Gate has {H, S, CZ}. (or {H, S, T, CNOT}, equivalently.) Clifford circuit that constructed by Clifford gates can be effectively simulated by classical computer in polynomial complexity (Gottesman-Knill theorem)[1]. Therefore it chose to be used in SRB and is widely used in quantum error correction. We realize this function in qep to obtain $n$-qubit Clifford Gate."
   ]
  },
  {
   "cell_type": "code",
   "execution_count": null,
   "id": "4798bab5",
   "metadata": {
    "jupyter": {
     "outputs_hidden": false
    }
   },
   "outputs": [],
   "source": [
    "from Extensions.QuantumErrorProcessing.qcompute_qep.quantum.clifford import Clifford,random_clifford\n",
    "from Extensions.QuantumErrorProcessing.qcompute_qep.benchmarking.standardrb import StandardRB"
   ]
  },
  {
   "cell_type": "code",
   "execution_count": null,
   "id": "2dcaea6c",
   "metadata": {
    "jupyter": {
     "outputs_hidden": false
    }
   },
   "outputs": [],
   "source": [
    "n = 2 # number of qubits\n",
    "cliff = Clifford(n)\n",
    "print(cliff) # print the Clifford Gate in elementary gate form"
   ]
  },
  {
   "cell_type": "markdown",
   "id": "c50f5284",
   "metadata": {},
   "source": [
    "As shown above, it is a two-qubit Clifford gate, see this paper[2] for more details of Clifford gate construction.\n",
    "\n",
    "### Random circuits\n",
    "\n",
    "The structure of random circuit in SRB was as followed:\n",
    "\n",
    "![random-clifford-circuit](figures/srb-clifford-circuit.png \"Figure 1. random Clifford circuit\")\n",
    "\n",
    "Experimental implementation of random circuit. We first apply $m$ random Clifford gates,\n",
    "then we apply the inverse of whole $m$ Clifford gates $C_{m+1}$\n",
    "\n",
    "$$\n",
    "C_{m+1} = \\left(C_1C_2\\cdots C_{m-1}C_{m}\\right)^{-1}.\n",
    "$$\n",
    "\n",
    "For the ideal situation, the output state should be equal to init state\n",
    "\n",
    "$$\n",
    "C_{m+1}C_{m}C_{m-1}\\cdots C_2C_1\\vert \\phi \\rangle = \\vert \\phi \\rangle.\n",
    "$$\n",
    "\n",
    "### Randomized benchmarking\n",
    "\n",
    "However, The result will not the same in noisy quantum device. As the number of quantum gates increases (that is, the depth of the circuit increases), the noise will accumulates and amplifies. We have such intuition that if the quantum gates provided by a quantum device have good performance and small error, the cumulative error will be relatively small even if the number of gates increases. We can measure the error of different depth of circuit and fit the data to the following equation to calculate the average Clifford gate quality:\n",
    "\n",
    "$$\n",
    "p(m) = Af^m+B,\n",
    "$$\n",
    "\n",
    "where $p(m)$ is $\\textrm{Tr}\\left[OC_{m+1}C_{m}C_{m-1}\\cdots C_2C_1\\vert\\phi\\rangle\\!\\langle\\phi\\vert\\right],$ which is observation result of each circuits, $m$ is depths, $f$ is fidelity, and $A$ and $B$ absorb state preparation and measurement errors (SPAM). We demonstrate this by using the following code.\n",
    "\n",
    "## Practice\n"
   ]
  },
  {
   "cell_type": "code",
   "execution_count": null,
   "id": "45d63c9d",
   "metadata": {},
   "outputs": [],
   "source": [
    "import QCompute\n",
    "\n",
    "# For numeric test, use the local ideal simulator\n",
    "qc = QCompute.BackendName.LocalBaiduSim2\n",
    "\n",
    "# Please log in the \"Quantum Leaf\" platform (https://quantum-hub.baidu.com/) to get Token\n",
    "# QCompute.Define.hubToken = \"Token\"\n",
    "# qc = QCompute.BackendName.CloudBaiduQPUQian"
   ]
  },
  {
   "cell_type": "markdown",
   "id": "38901edc",
   "metadata": {},
   "source": [
    "### Single qubit circuit\n",
    "\n",
    "![single-qubit](figures/srb-single-clifford-circuit.png \"Figure 2: single qubit circuit\")\n",
    "\n",
    "In the following code, we construct and measure 20 random circuit in each depths and average the result. Run the example and see the final result"
   ]
  },
  {
   "cell_type": "code",
   "execution_count": null,
   "id": "cf0365a3",
   "metadata": {},
   "outputs": [],
   "source": [
    "single_qubits = [0]\n",
    "srb = StandardRB()\n",
    "single_qubit_results = srb.benchmark(qubits=single_qubits,\n",
    "                          qc=qc,\n",
    "                          repeats=20,\n",
    "                          shots=200,\n",
    "                          seq_lengths=[1, 5, 10, 15, 20, 25])\n",
    "srb.plot_results()"
   ]
  },
  {
   "cell_type": "markdown",
   "id": "e5a1bfc9",
   "metadata": {},
   "source": [
    "### Two qubit circuit\n",
    "\n",
    "The circuit as shown following\n",
    "\n",
    "![double-qubit](figures/srb-two-clifford-circuit.png \"Figure 3: two-qubit circuit\")"
   ]
  },
  {
   "cell_type": "code",
   "execution_count": null,
   "id": "4502741e",
   "metadata": {},
   "outputs": [],
   "source": [
    "# 2 qubit SRB\n",
    "two_qubits = [0,1]\n",
    "srb2 = StandardRB()\n",
    "two_qubits_result = srb2.benchmark(qubits=two_qubits,\n",
    "                          qc=qc,\n",
    "                          repeats=20,\n",
    "                          shots=200,\n",
    "                          seq_lengths=[1, 2, 3, 4, 5, 6]\n",
    "                          )\n",
    "srb2.plot_results()"
   ]
  },
  {
   "cell_type": "markdown",
   "id": "95e74c92",
   "metadata": {},
   "source": [
    "As shown above, we obtain the curve and the parameters from fitting procedure.\n",
    "The equation for **EPC** calculating is:\n",
    "\n",
    "$$\n",
    "\\begin{align}\n",
    "    {\\rm EPC} = \\frac{d-1}{d}(1-f),\n",
    "\\begin{end}\n",
    "$$\n",
    "\n",
    "where $d = 2^N$. We can print the result of parameters."
   ]
  },
  {
   "cell_type": "code",
   "execution_count": null,
   "id": "07417463",
   "metadata": {},
   "outputs": [],
   "source": [
    "print('The fidelity of 1 qubit SRB is :',single_qubit_results['f'])\n",
    "print('The Error Per Clifford of 1 qubit SRB is:',single_qubit_results['epc'])\n",
    "print('The fidelity of 2 qubit SRB is :',two_qubits_result['f'])\n",
    "print('The Error Per Clifford of 2 qubit SRB  is:',two_qubits_result['epc'])"
   ]
  },
  {
   "cell_type": "markdown",
   "id": "e2b16e62",
   "metadata": {},
   "source": [
    "We have finished the **SRB** and successfully obtained the **EPC** of noisy quantum device. More information of **SRB** can be found on this paper[3]."
   ]
  },
  {
   "cell_type": "markdown",
   "id": "9ae8cd99-0bde-47b0-a6a7-d8557a6c8a81",
   "metadata": {},
   "source": [
    "## References\n",
    "\\[1\\] Gottesman, Daniel. \"The Heisenberg representation of quantum computers.\" [arXiv](https://arxiv.org/abs/quant-ph/9807006) preprint quant-ph/9807006 (1998).\n",
    "\n",
    "\\[2\\] Selinger, Peter. \"Generators and relations for n-qubit Clifford operators.\" [Logical Methods in Computer Science](https://arxiv.org/abs/1310.6813v4) 11 (2015).\n",
    "\n",
    "\\[3\\] Helsen, Jonas, et al. \"A general framework for randomized benchmarking.\" [arXiv](https://arxiv.org/abs/2010.07974) preprint arXiv:2010.07974 (2020)"
   ]
  }
 ],
 "metadata": {
  "kernelspec": {
   "display_name": "Python 3",
   "language": "python",
   "name": "python3"
  },
  "language_info": {
   "codemirror_mode": {
    "name": "ipython",
    "version": 3
   },
   "file_extension": ".py",
   "mimetype": "text/x-python",
   "name": "python",
   "nbconvert_exporter": "python",
   "pygments_lexer": "ipython3",
   "version": "3.8.5"
  },
  "toc-autonumbering": false,
  "toc-showmarkdowntxt": false
 },
 "nbformat": 4,
 "nbformat_minor": 5
}
